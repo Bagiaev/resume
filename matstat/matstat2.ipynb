{
 "cells": [
  {
   "cell_type": "code",
   "execution_count": 1,
   "metadata": {},
   "outputs": [],
   "source": [
    "import numpy as np\n",
    "from seaborn import * \n",
    "from scipy.stats import *\n",
    "import math\n",
    "def rrstr(x,n): # округление до n знаков после запятой\n",
    "    fmt = '{:.'+str(n)+'f}'\n",
    "    return fmt.format(x).replace('.',',')"
   ]
  },
  {
   "cell_type": "markdown",
   "metadata": {},
   "source": [
    "1. В первом броске участвуют 185 несимметричных монет. \n",
    "Во втором броске участвуют только те монеты, на которых в первом броске выпал ʺорелʺ. \n",
    "Известно, что вероятность выпадения ʺорлаʺ для данных несимметричных монет равна 0,45. Найдите:\n",
    "1) математическое ожидание условной дисперсии числа ʺорловʺ, \n",
    "выпавших во втором броске, относительно числа ʺорловʺ, выпавших в первом броске;\n",
    "2) дисперсию условного математического ожидания числа ʺорловʺ, \n",
    "выпавших во втором броске, относительно числа ʺорловʺ, выпавших в первом броске.<br/>"
   ]
  },
  {
   "cell_type": "code",
   "execution_count": 13,
   "metadata": {},
   "outputs": [
    {
     "data": {
      "text/plain": [
       "(37.4625, 9.271968750000001)"
      ]
     },
     "execution_count": 13,
     "metadata": {},
     "output_type": "execute_result"
    }
   ],
   "source": [
    "n = 185 \n",
    "p = 0.45\n",
    "\n",
    "E = p\n",
    "Var = p * (1-p)\n",
    "\n",
    "E_2 = n * p\n",
    "Var_2 = n * Var\n",
    "\n",
    "E_Var = Var* E_2\n",
    "Var_E = E**2 * Var_2\n",
    "\n",
    "E * E_2, Var_E"
   ]
  },
  {
   "cell_type": "markdown",
   "metadata": {},
   "source": [
    "2. Максимальный ущерб от страхового случая составляет 3,4 млн. руб. \n",
    "Предполагается, что фактический ущерб распределен равномерно от 0 до максимального ущерба, \n",
    "а число страховых случаев за год - по закону Пуассона. \n",
    "Также известно, что за 10 лет в среднем происходит 16 страховых случаев. Найдите:\n",
    "1) математическое ожидание суммарного ущерба от всех страховых случаев за один год;\n",
    "2) стандартное отклонение суммарного ущерба от страховых случаев за год.<br/>"
   ]
  },
  {
   "cell_type": "code",
   "execution_count": 12,
   "metadata": {},
   "outputs": [
    {
     "data": {
      "text/plain": [
       "(2.72, 2.483008927356753)"
      ]
     },
     "execution_count": 12,
     "metadata": {},
     "output_type": "execute_result"
    }
   ],
   "source": [
    "S = 3.4\n",
    "q = 16\n",
    "n = 10 \n",
    "\n",
    "E = S / 2\n",
    "Var = b**2 / 12\n",
    "\n",
    "l = q / n\n",
    "\n",
    "E_Var = l * Var\n",
    "Var_E = l * E**2\n",
    "\n",
    "std = np.sqrt(E_Var + Var_E)\n",
    "\n",
    "l * E, std"
   ]
  },
  {
   "cell_type": "markdown",
   "metadata": {},
   "source": [
    "3. Для случайной цены $Y$ известны вероятности: $\\text{P}(Y=8)=0,3$ и $\\text{P}(Y=18)=0,7$. \n",
    "При условии, что $Y=y$, распределение выручки $X$ является равномерным на отрезке $[0,19y]$. Найдите:\n",
    "1) математическое ожидание $\\text{E}(XY)$;\n",
    "2) ковариацию $\\text{Cov}(X,Y)$.<br/>"
   ]
  },
  {
   "cell_type": "code",
   "execution_count": 24,
   "metadata": {},
   "outputs": [],
   "source": [
    "k = 19\n",
    "p = [0.3, 0.7]\n",
    "values = [8, 18]\n",
    "\n",
    "Y = rv_discrete(values=(values, p))"
   ]
  },
  {
   "cell_type": "code",
   "execution_count": 27,
   "metadata": {},
   "outputs": [
    {
     "data": {
      "text/plain": [
       "(2337.0, 199.5)"
      ]
     },
     "execution_count": 27,
     "metadata": {},
     "output_type": "execute_result"
    }
   ],
   "source": [
    "ex = 0\n",
    "exy = 0\n",
    "\n",
    "for i, v in zip(p, values):\n",
    "    ex += i * v * k / 2\n",
    "\n",
    "for i, v in zip(p, values):\n",
    "    exy += i * v**2 * k/ 2\n",
    "\n",
    "cov = exy - Y.mean() * ex\n",
    "\n",
    "exy, cov"
   ]
  },
  {
   "cell_type": "markdown",
   "metadata": {},
   "source": [
    "4. Игральная кость и $26$ монет подбрасываются до тех пор, пока в очередном броске \n",
    "не выпадет ровно $20$ ʺорловʺ. Пусть $S$ –  суммарное число очков,\n",
    "выпавших на игральной кости при всех бросках. Найдите:\n",
    "1) математическое ожидание $\\text{E}(S)$;\n",
    "2) стандартное отклонение $\\sigma_S$.<br/>"
   ]
  },
  {
   "cell_type": "code",
   "execution_count": 43,
   "metadata": {},
   "outputs": [
    {
     "name": "stdout",
     "output_type": "stream",
     "text": [
      "1020.2016418364244\n",
      "1018.8674360750628\n"
     ]
    }
   ],
   "source": [
    "N = 26 \n",
    "k = 20 \n",
    "\n",
    "p_k = math.comb(N, k) * p**k * p**(N-k) \n",
    "\n",
    "br = 1 / p_k\n",
    "br_var = (1-(p_k)) / (p_k)**2\n",
    "\n",
    "e = 3.5\n",
    "var = 35/12\n",
    "\n",
    "ES = e * br\n",
    "\n",
    "E_Var = br * var\n",
    "Var_E = br_var * e**2\n",
    "\n",
    "print(ES)\n",
    "print(np.sqrt(E_Var + Var_E))"
   ]
  }
 ],
 "metadata": {
  "kernelspec": {
   "display_name": "Python 3 (ipykernel)",
   "language": "python",
   "name": "python3"
  },
  "language_info": {
   "codemirror_mode": {
    "name": "ipython",
    "version": 3
   },
   "file_extension": ".py",
   "mimetype": "text/x-python",
   "name": "python",
   "nbconvert_exporter": "python",
   "pygments_lexer": "ipython3",
   "version": "3.9.13"
  }
 },
 "nbformat": 4,
 "nbformat_minor": 4
}
