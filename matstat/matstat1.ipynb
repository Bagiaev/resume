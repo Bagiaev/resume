{
 "cells": [
  {
   "cell_type": "code",
   "execution_count": 2,
   "metadata": {},
   "outputs": [],
   "source": [
    "import numpy as np\n",
    "from scipy.stats import *"
   ]
  },
  {
   "cell_type": "code",
   "execution_count": 3,
   "metadata": {},
   "outputs": [],
   "source": [
    "import numpy as np\n",
    "def rrstr(x,n): # округление до n знаков после запятой\n",
    "    fmt = '{:.'+str(n)+'f}'\n",
    "    return fmt.format(x).replace('.',',')"
   ]
  },
  {
   "cell_type": "markdown",
   "metadata": {},
   "source": [
    "1. Распределение случайной величины $X$ задано таблицей\n",
    "$$\\begin{array}{|c|c|c|c|c|c|} \n",
    "\\hline\n",
    "X & 4 & 7 & 8 & 11 & 12 \\\\ \n",
    "\\hline\n",
    "P & 0,1 & 0,1 & 0,3 & 0,1 & 0,4 \\\\ \n",
    "\\hline\n",
    "\\end{array}.$$ Пусть $Y$ – такая случайная величина, что $Y=|X-7|$.\n",
    "Найдите:\n",
    "1) математическое ожидание $\\text{E}(X)$;\n",
    "2) дисперсию $\\text{V}\\!\\text{ar}(X)$;\n",
    "3) математическое ожидание $\\text{E}(Y)$;\n",
    "4) дисперсию $\\text{V}\\!\\text{ar}(Y)$.\n",
    "5) математическое ожидание $\\text{E}(XY)$;<br/>"
   ]
  },
  {
   "cell_type": "code",
   "execution_count": 4,
   "metadata": {},
   "outputs": [
    {
     "data": {
      "text/plain": [
       "['9,400', '3,000', '32,000', '7,040', '3,800']"
      ]
     },
     "execution_count": 4,
     "metadata": {},
     "output_type": "execute_result"
    }
   ],
   "source": [
    "xk = np.array([4, 7, 8, 11, 12])\n",
    "pk = [0.1, 0.1, 0.3, 0.1, 0.4]\n",
    "\n",
    "yk = abs(xk - 7)\n",
    "\n",
    "xyk = xk * yk\n",
    "\n",
    "X = rv_discrete(values=(xk, pk))\n",
    "Y = rv_discrete(values=(yk, pk))\n",
    "XY = rv_discrete(values=(xyk, pk))\n",
    "list(map(lambda x: rrstr(x, 3), (X.mean(), Y.mean(), XY.mean(), X.var(), Y.var())))"
   ]
  },
  {
   "cell_type": "markdown",
   "metadata": {},
   "source": [
    "2. События $A$, $B$ и $C$ имеют вероятности: $\\text{P}(A)=0,4$, $\\text{P}(B)=0,2$, $\\text{P}(C)=0,3$. \n",
    "Эти события попарно независимы, но все три одновременно наступить не могут.\n",
    "Пусть $X$ – индикатор $A$, $Y$ – индикатор $B$, $Z$ – индикатор $C$, а $U=5X+6Y+7Z$.\n",
    "Найдите:\n",
    "1) математическое ожидание $\\text{E}(U)$;\n",
    "2) дисперсию $\\text{V}\\!\\text{ar}(U)$.<br/>"
   ]
  },
  {
   "cell_type": "code",
   "execution_count": 7,
   "metadata": {},
   "outputs": [],
   "source": [
    "X = rv_discrete(values=([0, 1], [0.6, 0.4]))\n",
    "Y = rv_discrete(values=([0, 1], [0.8, 0.2]))\n",
    "Z = rv_discrete(values=([0, 1], [0.7, 0.3]))\n",
    "\n",
    "Vmean = 5 * X.mean() + 6 * Y.mean() + 7 * Z.mean()\n",
    "Vvar = 25 * X.var() + 36 * Y.var() + 49 * Z.var()"
   ]
  },
  {
   "cell_type": "code",
   "execution_count": 8,
   "metadata": {},
   "outputs": [
    {
     "data": {
      "text/plain": [
       "['5,300', '22,050']"
      ]
     },
     "execution_count": 8,
     "metadata": {},
     "output_type": "execute_result"
    }
   ],
   "source": [
    "list(map(lambda x: rrstr(x, 3), (Vmean, Vvar)))"
   ]
  },
  {
   "cell_type": "markdown",
   "metadata": {},
   "source": [
    "3. Внутри квадрата площади 100 расположены треугольник и круг.\n",
    "Площади этих фигур даны: треугольник – 44, круг – 54. Также известно, что\n",
    "площадь пересечения треугольника и круга равна 25. В квадрате случайным независимым образом\n",
    "выбираются точки $\\omega_1,...,\\omega_{4}$. Определим случайные величины:\n",
    "$X_i$ – индикатор попадания $\\omega_i$ в треугольник, $Y_i$ – индикатор попадания $\\omega_i$ в круг,\n",
    "$Z_i=X_i+Y_i$, $i=1,...,4$. Определим также сумму $U=Z_1+...+Z_{4}$ и произведение $V=Z_1 ... Z_{4}$.\n",
    "Найдите:\n",
    "1) математическое ожидание $\\text{E}(U)$;\n",
    "2) дисперсию $\\text{V}\\!\\text{ar}(U)$;\n",
    "3) математическое ожидание $\\text{E}(V)$;\n",
    "4) дисперсию $\\text{V}\\!\\text{ar}(V)$.<br/>"
   ]
  },
  {
   "cell_type": "code",
   "execution_count": 10,
   "metadata": {},
   "outputs": [],
   "source": [
    "X = rv_discrete(values=([0, 1], [56/100, 44/100]))\n",
    "Y = rv_discrete(values=([0, 1], [46/100, 54/100]))\n",
    "Zmean = X.mean() + Y.mean()\n",
    "Zvar = X.var() + Y.var() + 2 * (25/100 - X.mean() * Y.mean())\n",
    "\n",
    "Umean = 4 * Zmean\n",
    "Uvar = 4 * Zvar\n",
    "\n",
    "Vmean = Zmean ** 4\n",
    "Vvar = ((Zvar + Zmean ** 2) ** 4 - Vmean ** 2)"
   ]
  },
  {
   "cell_type": "code",
   "execution_count": 11,
   "metadata": {},
   "outputs": [
    {
     "data": {
      "text/plain": [
       "['3,920', '2,078', '0,922', '3,947']"
      ]
     },
     "execution_count": 11,
     "metadata": {},
     "output_type": "execute_result"
    }
   ],
   "source": [
    "list(map(lambda x: rrstr(x, 3), (Umean, Uvar, Vmean, Vvar)))"
   ]
  },
  {
   "cell_type": "markdown",
   "metadata": {},
   "source": [
    "4. Игрок начал игру с капиталом 6000 рублей. Известно, что в каждой партии\n",
    "вероятность выигрыша $100$ рублей равна $0,3$; вероятность проигрыша $300$ рублей равна $0,1$; \n",
    "а вероятность выигрыша $9$ рублей равна $0,6$. Пусть K – капитал игрока после $9$ партий. \n",
    "Найдите: 1) математическое ожидание капитала К; 2) стандартное отклонение К.<br/>"
   ]
  },
  {
   "cell_type": "code",
   "execution_count": 12,
   "metadata": {},
   "outputs": [
    {
     "data": {
      "text/plain": [
       "(6048.6, 328.89961994505256)"
      ]
     },
     "execution_count": 12,
     "metadata": {},
     "output_type": "execute_result"
    }
   ],
   "source": [
    "cap = 6000\n",
    "\n",
    "xk = [100, -300, 9]\n",
    "pk = [0.3, 0.1, 0.6]\n",
    "\n",
    "X = rv_discrete(values=(xk, pk))\n",
    "\n",
    "Kmean = cap + X.mean() * 9\n",
    "Kstd = (X.var() * 9) ** 0.5\n",
    "Kmean, Kstd"
   ]
  },
  {
   "cell_type": "markdown",
   "metadata": {},
   "source": [
    "5.  Корзина содержит $47$ пронумерованных шаров $1;2;\\ldots;47$. Из корзины без возвращения извлекаются \n",
    "$14\\leqslant 47$ шаров. Пусть $S$ обозначает сумму номеров вынутых шаров. \n",
    "1) Найдите математическое ожидание $\\text{E}(S)$.\n",
    "2) Найдите дисперсию $\\text{V}\\!\\text{ar}(S)$.<br/>"
   ]
  },
  {
   "cell_type": "code",
   "execution_count": 13,
   "metadata": {},
   "outputs": [
    {
     "data": {
      "text/plain": [
       "(336.0, 1848.0)"
      ]
     },
     "execution_count": 13,
     "metadata": {},
     "output_type": "execute_result"
    }
   ],
   "source": [
    "n = 47\n",
    "k = 14\n",
    "Es = k * (1 + n) / 2\n",
    "Ex = (1 + n) / 2\n",
    "Ex2 = (1 + n) * (1 + 2 * n) / 6\n",
    "VarX = Ex2 - Ex ** 2\n",
    "\n",
    "Cov = -VarX / (n - 1)\n",
    "\n",
    "VarS = k * VarX + k * (k - 1) * Cov\n",
    "Es, VarS"
   ]
  },
  {
   "cell_type": "markdown",
   "metadata": {},
   "source": [
    "6. Ожидаемая доходность и стандартное отклонение доходности за период для акций компаний А,\n",
    "В, С составляют $2$%, $3$%, $4$% и $3$%, $6$%, $6$%, соответственно. \n",
    "1) Предполагая независимость доходностей акций А, В и С, найдите (в %) ожидаемую доходность \n",
    "портфеля, составленного из этих акций так, чтобы дисперсия его доходности была минимальной.<br/>"
   ]
  },
  {
   "cell_type": "code",
   "execution_count": 17,
   "metadata": {},
   "outputs": [
    {
     "name": "stdout",
     "output_type": "stream",
     "text": [
      "9*a**2 + 36*b**2 + 36*(-a - b + 1)**2\n"
     ]
    },
    {
     "data": {
      "text/plain": [
       "2.5"
      ]
     },
     "execution_count": 17,
     "metadata": {},
     "output_type": "execute_result"
    }
   ],
   "source": [
    "import numpy as np\n",
    "from sympy import *\n",
    "from scipy.optimize import minimize\n",
    "EA=2\n",
    "EB=3\n",
    "EC=4\n",
    "sigA=3\n",
    "sigB=6\n",
    "sigC=6\n",
    "a=symbols('a')\n",
    "b=symbols('b')\n",
    "c=symbols('c')\n",
    "#ES=EAa+EBb+ECc\n",
    "#a+b+c=1 \n",
    "#c=1-a-b\n",
    "VARS=(sigA**2)*(a**2)+(sigB**2)*(b**2)+(sigC**2)*((1-a-b)**2)\n",
    "print(VARS)\n",
    "#берем производные по a=0 b=0 и отсюда получаем, что\n",
    "a=2/3\n",
    "b=1/6\n",
    "c=1/6\n",
    "ES=EA*a+EB*b+EC*c\n",
    "ES"
   ]
  },
  {
   "cell_type": "code",
   "execution_count": null,
   "metadata": {},
   "outputs": [],
   "source": []
  }
 ],
 "metadata": {
  "kernelspec": {
   "display_name": "Python 3 (ipykernel)",
   "language": "python",
   "name": "python3"
  },
  "language_info": {
   "codemirror_mode": {
    "name": "ipython",
    "version": 3
   },
   "file_extension": ".py",
   "mimetype": "text/x-python",
   "name": "python",
   "nbconvert_exporter": "python",
   "pygments_lexer": "ipython3",
   "version": "3.9.13"
  }
 },
 "nbformat": 4,
 "nbformat_minor": 4
}
