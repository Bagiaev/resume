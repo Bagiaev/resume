{
 "cells": [
  {
   "cell_type": "code",
   "execution_count": 399,
   "metadata": {
    "id": "ZZfSLk_DV5oe"
   },
   "outputs": [],
   "source": [
    "import pandas as pd\n",
    "import matplotlib.pyplot as plt\n",
    "import seaborn as sns\n",
    "import statsmodels.api as sm\n",
    "from linearmodels import PooledOLS\n",
    "from linearmodels.panel import RandomEffects, PanelOLS\n",
    "from scipy.stats import f, t\n",
    "import numpy as np\n",
    "from scipy.stats import chi2\n",
    "import warnings\n",
    "warnings.filterwarnings('ignore')"
   ]
  },
  {
   "cell_type": "code",
   "execution_count": 400,
   "metadata": {
    "colab": {
     "base_uri": "https://localhost:8080/"
    },
    "id": "6qOwjdV1WocJ",
    "outputId": "9e8a90dd-525c-4c32-b277-1b92b8c97073"
   },
   "outputs": [
    {
     "name": "stdout",
     "output_type": "stream",
     "text": [
      "Requirement already satisfied: linearmodels in /usr/local/lib/python3.10/dist-packages (6.0)\n",
      "Requirement already satisfied: numpy<3,>=1.22.3 in /usr/local/lib/python3.10/dist-packages (from linearmodels) (1.25.2)\n",
      "Requirement already satisfied: pandas>=1.4.0 in /usr/local/lib/python3.10/dist-packages (from linearmodels) (2.0.3)\n",
      "Requirement already satisfied: scipy>=1.8.0 in /usr/local/lib/python3.10/dist-packages (from linearmodels) (1.11.4)\n",
      "Requirement already satisfied: statsmodels>=0.13.0 in /usr/local/lib/python3.10/dist-packages (from linearmodels) (0.14.2)\n",
      "Requirement already satisfied: mypy-extensions>=0.4 in /usr/local/lib/python3.10/dist-packages (from linearmodels) (1.0.0)\n",
      "Requirement already satisfied: Cython>=3.0.10 in /usr/local/lib/python3.10/dist-packages (from linearmodels) (3.0.10)\n",
      "Requirement already satisfied: pyhdfe>=0.1 in /usr/local/lib/python3.10/dist-packages (from linearmodels) (0.2.0)\n",
      "Requirement already satisfied: formulaic>=1.0.0 in /usr/local/lib/python3.10/dist-packages (from linearmodels) (1.0.1)\n",
      "Requirement already satisfied: setuptools-scm[toml]<9.0.0,>=8.0.0 in /usr/local/lib/python3.10/dist-packages (from linearmodels) (8.1.0)\n",
      "Requirement already satisfied: interface-meta>=1.2.0 in /usr/local/lib/python3.10/dist-packages (from formulaic>=1.0.0->linearmodels) (1.3.0)\n",
      "Requirement already satisfied: typing-extensions>=4.2.0 in /usr/local/lib/python3.10/dist-packages (from formulaic>=1.0.0->linearmodels) (4.11.0)\n",
      "Requirement already satisfied: wrapt>=1.0 in /usr/local/lib/python3.10/dist-packages (from formulaic>=1.0.0->linearmodels) (1.14.1)\n",
      "Requirement already satisfied: python-dateutil>=2.8.2 in /usr/local/lib/python3.10/dist-packages (from pandas>=1.4.0->linearmodels) (2.8.2)\n",
      "Requirement already satisfied: pytz>=2020.1 in /usr/local/lib/python3.10/dist-packages (from pandas>=1.4.0->linearmodels) (2023.4)\n",
      "Requirement already satisfied: tzdata>=2022.1 in /usr/local/lib/python3.10/dist-packages (from pandas>=1.4.0->linearmodels) (2024.1)\n",
      "Requirement already satisfied: packaging>=20 in /usr/local/lib/python3.10/dist-packages (from setuptools-scm[toml]<9.0.0,>=8.0.0->linearmodels) (24.0)\n",
      "Requirement already satisfied: setuptools in /usr/local/lib/python3.10/dist-packages (from setuptools-scm[toml]<9.0.0,>=8.0.0->linearmodels) (67.7.2)\n",
      "Requirement already satisfied: tomli>=1 in /usr/local/lib/python3.10/dist-packages (from setuptools-scm[toml]<9.0.0,>=8.0.0->linearmodels) (2.0.1)\n",
      "Requirement already satisfied: patsy>=0.5.6 in /usr/local/lib/python3.10/dist-packages (from statsmodels>=0.13.0->linearmodels) (0.5.6)\n",
      "Requirement already satisfied: six in /usr/local/lib/python3.10/dist-packages (from patsy>=0.5.6->statsmodels>=0.13.0->linearmodels) (1.16.0)\n"
     ]
    }
   ],
   "source": [
    "!pip install linearmodels"
   ]
  },
  {
   "cell_type": "markdown",
   "metadata": {
    "id": "RtdBLf3IW6TT"
   },
   "source": [
    "#**Загрузка и подготовка данных**"
   ]
  },
  {
   "cell_type": "markdown",
   "metadata": {
    "id": "fIRc9gVGeBPa"
   },
   "source": [
    "Government expenditure on education, total (% of government expenditure) - Общие государственные расходы на образование (текущие, капитальные и трансфертные) выражаются в процентах от общих государственных расходов во всех секторах (включая здравоохранение, образование, социальные услуги и т.д.). Он включает в себя расходы, финансируемые за счет трансфертов из международных источников правительству. Под общим правительством обычно понимаются местные, региональные и центральные органы власти.    \n",
    "\n",
    "Literacy rate, adult total (% of people ages 15 and above) - Уровень грамотности взрослого населения – это процент людей в возрасте 15 лет и старше, которые умеют читать и писать, понимая короткое простое высказывание о своей повседневной жизни.    \n",
    "\n",
    "GDP growth (annual %) - Годовой процентный темп роста ВВП в рыночных ценах на основе постоянной местной валюты    \n",
    "\n",
    "Life expectancy at birth, total (years) - Ожидаемая продолжительность жизни при рождении показывает, сколько лет прожил бы новорожденный, если бы преобладающая структура смертности на момент его рождения оставалась неизменной на протяжении всей его жизни.    \n",
    "\n",
    "Domestic general government health expenditure (% of general government expenditure) - Государственные расходы на здравоохранение из внутренних источников в процентах от общих государственных расходов.\n",
    "\n",
    "Control of Corruption: Estimate - Контроль над коррупцией отражает представление о том, в какой степени государственная власть используется для личной выгоды, включая как мелкие, так и крупные формы коррупции, а также «захват» государства элитами и частными интересами    \n",
    "\n",
    "Urban population (% of total population) - относится к людям, проживающим в городских районах    \n",
    "\n",
    "Unemployment, total (% of total labor force) (national estimate - Безработица относится к доле рабочей силы, которая не имеет работы, но доступна для трудоустройства и ищет ее. Определения рабочей силы и безработицы различаются в зависимости от страны."
   ]
  },
  {
   "cell_type": "code",
   "execution_count": 427,
   "metadata": {
    "id": "aDmsSdQhWqHL"
   },
   "outputs": [],
   "source": [
    "df = pd.read_excel('P_Data_Extract_From_World_Development_Indicators (1).xlsx')"
   ]
  },
  {
   "cell_type": "code",
   "execution_count": 428,
   "metadata": {
    "colab": {
     "base_uri": "https://localhost:8080/",
     "height": 337
    },
    "id": "KVxVKlaaXNHM",
    "outputId": "b9da93ff-c6c6-4118-b994-b094b5ce2a85"
   },
   "outputs": [
    {
     "data": {
      "application/vnd.google.colaboratory.intrinsic+json": {
       "summary": "{\n  \"name\": \"df\",\n  \"rows\": 40,\n  \"fields\": [\n    {\n      \"column\": \"Country Name\",\n      \"properties\": {\n        \"dtype\": \"category\",\n        \"num_unique_values\": 5,\n        \"samples\": [\n          \"China\",\n          \"France\",\n          \"United States\"\n        ],\n        \"semantic_type\": \"\",\n        \"description\": \"\"\n      }\n    },\n    {\n      \"column\": \"Country Code\",\n      \"properties\": {\n        \"dtype\": \"category\",\n        \"num_unique_values\": 5,\n        \"samples\": [\n          \"CHN\",\n          \"FRA\",\n          \"USA\"\n        ],\n        \"semantic_type\": \"\",\n        \"description\": \"\"\n      }\n    },\n    {\n      \"column\": \"Series Name\",\n      \"properties\": {\n        \"dtype\": \"category\",\n        \"num_unique_values\": 8,\n        \"samples\": [\n          \"Control of Corruption: Estimate\",\n          \"GDP growth (annual %)\",\n          \"Government expenditure on education, total (% of government expenditure)\"\n        ],\n        \"semantic_type\": \"\",\n        \"description\": \"\"\n      }\n    },\n    {\n      \"column\": \"Series Code\",\n      \"properties\": {\n        \"dtype\": \"category\",\n        \"num_unique_values\": 8,\n        \"samples\": [\n          \"CC.EST\",\n          \"NY.GDP.MKTP.KD.ZG\",\n          \"SE.XPD.TOTL.GB.ZS\"\n        ],\n        \"semantic_type\": \"\",\n        \"description\": \"\"\n      }\n    },\n    {\n      \"column\": \"2023 [YR2023]\",\n      \"properties\": {\n        \"dtype\": \"category\",\n        \"num_unique_values\": 4,\n        \"samples\": [\n          3.1,\n          7.3,\n          \"..\"\n        ],\n        \"semantic_type\": \"\",\n        \"description\": \"\"\n      }\n    },\n    {\n      \"column\": \"2022 [YR2022]\",\n      \"properties\": {\n        \"dtype\": \"string\",\n        \"num_unique_values\": 27,\n        \"samples\": [\n          0.0159702487289906,\n          83.084,\n          63.56\n        ],\n        \"semantic_type\": \"\",\n        \"description\": \"\"\n      }\n    },\n    {\n      \"column\": \"2021 [YR2021]\",\n      \"properties\": {\n        \"dtype\": \"string\",\n        \"num_unique_values\": 35,\n        \"samples\": [\n          69.90024390243903,\n          8.448469416281412,\n          15.12\n        ],\n        \"semantic_type\": \"\",\n        \"description\": \"\"\n      }\n    },\n    {\n      \"column\": \"2020 [YR2020]\",\n      \"properties\": {\n        \"dtype\": \"string\",\n        \"num_unique_values\": 37,\n        \"samples\": [\n          1.03821742534637,\n          2.2386383567412054,\n          19.76651764\n        ],\n        \"semantic_type\": \"\",\n        \"description\": \"\"\n      }\n    },\n    {\n      \"column\": \"2019 [YR2019]\",\n      \"properties\": {\n        \"dtype\": \"string\",\n        \"num_unique_values\": 36,\n        \"samples\": [\n          82.8268292682927,\n          5.950500754393147,\n          10.2\n        ],\n        \"semantic_type\": \"\",\n        \"description\": \"\"\n      }\n    },\n    {\n      \"column\": \"2018 [YR2018]\",\n      \"properties\": {\n        \"dtype\": \"string\",\n        \"num_unique_values\": 36,\n        \"samples\": [\n          82.67560975609757,\n          6.7497738325114796,\n          9.76\n        ],\n        \"semantic_type\": \"\",\n        \"description\": \"\"\n      }\n    },\n    {\n      \"column\": \"2017 [YR2017]\",\n      \"properties\": {\n        \"dtype\": \"string\",\n        \"num_unique_values\": 36,\n        \"samples\": [\n          82.57560975609756,\n          6.947200793165337,\n          8.78\n        ],\n        \"semantic_type\": \"\",\n        \"description\": \"\"\n      }\n    },\n    {\n      \"column\": \"2016 [YR2016]\",\n      \"properties\": {\n        \"dtype\": \"string\",\n        \"num_unique_values\": 35,\n        \"samples\": [\n          0.19369007126053361,\n          77.218,\n          5.559\n        ],\n        \"semantic_type\": \"\",\n        \"description\": \"\"\n      }\n    },\n    {\n      \"column\": \"2015 [YR2015]\",\n      \"properties\": {\n        \"dtype\": \"string\",\n        \"num_unique_values\": 35,\n        \"samples\": [\n          -1.9727192258040844,\n          76.977,\n          5.571\n        ],\n        \"semantic_type\": \"\",\n        \"description\": \"\"\n      }\n    },\n    {\n      \"column\": \"2014 [YR2014]\",\n      \"properties\": {\n        \"dtype\": \"string\",\n        \"num_unique_values\": 36,\n        \"samples\": [\n          82.71951219512195,\n          7.425763655969163,\n          9.16\n        ],\n        \"semantic_type\": \"\",\n        \"description\": \"\"\n      }\n    },\n    {\n      \"column\": \"2013 [YR2013]\",\n      \"properties\": {\n        \"dtype\": \"string\",\n        \"num_unique_values\": 36,\n        \"samples\": [\n          82.21951219512196,\n          7.766150097359102,\n          9.15\n        ],\n        \"semantic_type\": \"\",\n        \"description\": \"\"\n      }\n    },\n    {\n      \"column\": \"2012 [YR2012]\",\n      \"properties\": {\n        \"dtype\": \"string\",\n        \"num_unique_values\": 36,\n        \"samples\": [\n          81.96829268292684,\n          7.8637364484526415,\n          9.24\n        ],\n        \"semantic_type\": \"\",\n        \"description\": \"\"\n      }\n    },\n    {\n      \"column\": \"2011 [YR2011]\",\n      \"properties\": {\n        \"dtype\": \"string\",\n        \"num_unique_values\": 36,\n        \"samples\": [\n          82.11463414634147,\n          9.550832178841986,\n          9.03\n        ],\n        \"semantic_type\": \"\",\n        \"description\": \"\"\n      }\n    },\n    {\n      \"column\": \"2010 [YR2010]\",\n      \"properties\": {\n        \"dtype\": \"string\",\n        \"num_unique_values\": 38,\n        \"samples\": [\n          78.369,\n          1.9494376231266273,\n          17.44530869\n        ],\n        \"semantic_type\": \"\",\n        \"description\": \"\"\n      }\n    },\n    {\n      \"column\": \"2009 [YR2009]\",\n      \"properties\": {\n        \"dtype\": \"string\",\n        \"num_unique_values\": 36,\n        \"samples\": [\n          81.41463414634147,\n          9.398725631632104,\n          9.08\n        ],\n        \"semantic_type\": \"\",\n        \"description\": \"\"\n      }\n    }\n  ]\n}",
       "type": "dataframe",
       "variable_name": "df"
      },
      "text/html": [
       "\n",
       "  <div id=\"df-e1cdb984-cba1-43e8-a6f7-98c3ff821768\" class=\"colab-df-container\">\n",
       "    <div>\n",
       "<style scoped>\n",
       "    .dataframe tbody tr th:only-of-type {\n",
       "        vertical-align: middle;\n",
       "    }\n",
       "\n",
       "    .dataframe tbody tr th {\n",
       "        vertical-align: top;\n",
       "    }\n",
       "\n",
       "    .dataframe thead th {\n",
       "        text-align: right;\n",
       "    }\n",
       "</style>\n",
       "<table border=\"1\" class=\"dataframe\">\n",
       "  <thead>\n",
       "    <tr style=\"text-align: right;\">\n",
       "      <th></th>\n",
       "      <th>Country Name</th>\n",
       "      <th>Country Code</th>\n",
       "      <th>Series Name</th>\n",
       "      <th>Series Code</th>\n",
       "      <th>2023 [YR2023]</th>\n",
       "      <th>2022 [YR2022]</th>\n",
       "      <th>2021 [YR2021]</th>\n",
       "      <th>2020 [YR2020]</th>\n",
       "      <th>2019 [YR2019]</th>\n",
       "      <th>2018 [YR2018]</th>\n",
       "      <th>2017 [YR2017]</th>\n",
       "      <th>2016 [YR2016]</th>\n",
       "      <th>2015 [YR2015]</th>\n",
       "      <th>2014 [YR2014]</th>\n",
       "      <th>2013 [YR2013]</th>\n",
       "      <th>2012 [YR2012]</th>\n",
       "      <th>2011 [YR2011]</th>\n",
       "      <th>2010 [YR2010]</th>\n",
       "      <th>2009 [YR2009]</th>\n",
       "    </tr>\n",
       "  </thead>\n",
       "  <tbody>\n",
       "    <tr>\n",
       "      <th>0</th>\n",
       "      <td>Germany</td>\n",
       "      <td>DEU</td>\n",
       "      <td>Government expenditure on education, total (% ...</td>\n",
       "      <td>SE.XPD.TOTL.GB.ZS</td>\n",
       "      <td>..</td>\n",
       "      <td>9.190701</td>\n",
       "      <td>9.066173</td>\n",
       "      <td>9.298441</td>\n",
       "      <td>9.726378</td>\n",
       "      <td>9.638202</td>\n",
       "      <td>9.480731</td>\n",
       "      <td>9.47783</td>\n",
       "      <td>9.638144</td>\n",
       "      <td>9.748104</td>\n",
       "      <td>9.709711</td>\n",
       "      <td>9.51723</td>\n",
       "      <td>9.511645</td>\n",
       "      <td>9.113441</td>\n",
       "      <td>9.018068</td>\n",
       "    </tr>\n",
       "    <tr>\n",
       "      <th>1</th>\n",
       "      <td>Germany</td>\n",
       "      <td>DEU</td>\n",
       "      <td>Control of Corruption: Estimate</td>\n",
       "      <td>CC.EST</td>\n",
       "      <td>..</td>\n",
       "      <td>1.818376</td>\n",
       "      <td>1.783172</td>\n",
       "      <td>1.825714</td>\n",
       "      <td>1.865366</td>\n",
       "      <td>1.898325</td>\n",
       "      <td>1.796618</td>\n",
       "      <td>1.781451</td>\n",
       "      <td>1.776124</td>\n",
       "      <td>1.812497</td>\n",
       "      <td>1.797944</td>\n",
       "      <td>1.81763</td>\n",
       "      <td>1.74195</td>\n",
       "      <td>1.766429</td>\n",
       "      <td>1.74621</td>\n",
       "    </tr>\n",
       "    <tr>\n",
       "      <th>2</th>\n",
       "      <td>Germany</td>\n",
       "      <td>DEU</td>\n",
       "      <td>Urban population (% of total population)</td>\n",
       "      <td>SP.URB.TOTL.IN.ZS</td>\n",
       "      <td>..</td>\n",
       "      <td>77.648</td>\n",
       "      <td>77.544</td>\n",
       "      <td>77.453</td>\n",
       "      <td>77.376</td>\n",
       "      <td>77.312</td>\n",
       "      <td>77.261</td>\n",
       "      <td>77.224</td>\n",
       "      <td>77.2</td>\n",
       "      <td>77.19</td>\n",
       "      <td>77.18</td>\n",
       "      <td>77.17</td>\n",
       "      <td>77.16</td>\n",
       "      <td>76.966</td>\n",
       "      <td>76.771</td>\n",
       "    </tr>\n",
       "  </tbody>\n",
       "</table>\n",
       "</div>\n",
       "    <div class=\"colab-df-buttons\">\n",
       "\n",
       "  <div class=\"colab-df-container\">\n",
       "    <button class=\"colab-df-convert\" onclick=\"convertToInteractive('df-e1cdb984-cba1-43e8-a6f7-98c3ff821768')\"\n",
       "            title=\"Convert this dataframe to an interactive table.\"\n",
       "            style=\"display:none;\">\n",
       "\n",
       "  <svg xmlns=\"http://www.w3.org/2000/svg\" height=\"24px\" viewBox=\"0 -960 960 960\">\n",
       "    <path d=\"M120-120v-720h720v720H120Zm60-500h600v-160H180v160Zm220 220h160v-160H400v160Zm0 220h160v-160H400v160ZM180-400h160v-160H180v160Zm440 0h160v-160H620v160ZM180-180h160v-160H180v160Zm440 0h160v-160H620v160Z\"/>\n",
       "  </svg>\n",
       "    </button>\n",
       "\n",
       "  <style>\n",
       "    .colab-df-container {\n",
       "      display:flex;\n",
       "      gap: 12px;\n",
       "    }\n",
       "\n",
       "    .colab-df-convert {\n",
       "      background-color: #E8F0FE;\n",
       "      border: none;\n",
       "      border-radius: 50%;\n",
       "      cursor: pointer;\n",
       "      display: none;\n",
       "      fill: #1967D2;\n",
       "      height: 32px;\n",
       "      padding: 0 0 0 0;\n",
       "      width: 32px;\n",
       "    }\n",
       "\n",
       "    .colab-df-convert:hover {\n",
       "      background-color: #E2EBFA;\n",
       "      box-shadow: 0px 1px 2px rgba(60, 64, 67, 0.3), 0px 1px 3px 1px rgba(60, 64, 67, 0.15);\n",
       "      fill: #174EA6;\n",
       "    }\n",
       "\n",
       "    .colab-df-buttons div {\n",
       "      margin-bottom: 4px;\n",
       "    }\n",
       "\n",
       "    [theme=dark] .colab-df-convert {\n",
       "      background-color: #3B4455;\n",
       "      fill: #D2E3FC;\n",
       "    }\n",
       "\n",
       "    [theme=dark] .colab-df-convert:hover {\n",
       "      background-color: #434B5C;\n",
       "      box-shadow: 0px 1px 3px 1px rgba(0, 0, 0, 0.15);\n",
       "      filter: drop-shadow(0px 1px 2px rgba(0, 0, 0, 0.3));\n",
       "      fill: #FFFFFF;\n",
       "    }\n",
       "  </style>\n",
       "\n",
       "    <script>\n",
       "      const buttonEl =\n",
       "        document.querySelector('#df-e1cdb984-cba1-43e8-a6f7-98c3ff821768 button.colab-df-convert');\n",
       "      buttonEl.style.display =\n",
       "        google.colab.kernel.accessAllowed ? 'block' : 'none';\n",
       "\n",
       "      async function convertToInteractive(key) {\n",
       "        const element = document.querySelector('#df-e1cdb984-cba1-43e8-a6f7-98c3ff821768');\n",
       "        const dataTable =\n",
       "          await google.colab.kernel.invokeFunction('convertToInteractive',\n",
       "                                                    [key], {});\n",
       "        if (!dataTable) return;\n",
       "\n",
       "        const docLinkHtml = 'Like what you see? Visit the ' +\n",
       "          '<a target=\"_blank\" href=https://colab.research.google.com/notebooks/data_table.ipynb>data table notebook</a>'\n",
       "          + ' to learn more about interactive tables.';\n",
       "        element.innerHTML = '';\n",
       "        dataTable['output_type'] = 'display_data';\n",
       "        await google.colab.output.renderOutput(dataTable, element);\n",
       "        const docLink = document.createElement('div');\n",
       "        docLink.innerHTML = docLinkHtml;\n",
       "        element.appendChild(docLink);\n",
       "      }\n",
       "    </script>\n",
       "  </div>\n",
       "\n",
       "\n",
       "<div id=\"df-2c1d52a7-7fde-4516-8d63-39d57cead652\">\n",
       "  <button class=\"colab-df-quickchart\" onclick=\"quickchart('df-2c1d52a7-7fde-4516-8d63-39d57cead652')\"\n",
       "            title=\"Suggest charts\"\n",
       "            style=\"display:none;\">\n",
       "\n",
       "<svg xmlns=\"http://www.w3.org/2000/svg\" height=\"24px\"viewBox=\"0 0 24 24\"\n",
       "     width=\"24px\">\n",
       "    <g>\n",
       "        <path d=\"M19 3H5c-1.1 0-2 .9-2 2v14c0 1.1.9 2 2 2h14c1.1 0 2-.9 2-2V5c0-1.1-.9-2-2-2zM9 17H7v-7h2v7zm4 0h-2V7h2v10zm4 0h-2v-4h2v4z\"/>\n",
       "    </g>\n",
       "</svg>\n",
       "  </button>\n",
       "\n",
       "<style>\n",
       "  .colab-df-quickchart {\n",
       "      --bg-color: #E8F0FE;\n",
       "      --fill-color: #1967D2;\n",
       "      --hover-bg-color: #E2EBFA;\n",
       "      --hover-fill-color: #174EA6;\n",
       "      --disabled-fill-color: #AAA;\n",
       "      --disabled-bg-color: #DDD;\n",
       "  }\n",
       "\n",
       "  [theme=dark] .colab-df-quickchart {\n",
       "      --bg-color: #3B4455;\n",
       "      --fill-color: #D2E3FC;\n",
       "      --hover-bg-color: #434B5C;\n",
       "      --hover-fill-color: #FFFFFF;\n",
       "      --disabled-bg-color: #3B4455;\n",
       "      --disabled-fill-color: #666;\n",
       "  }\n",
       "\n",
       "  .colab-df-quickchart {\n",
       "    background-color: var(--bg-color);\n",
       "    border: none;\n",
       "    border-radius: 50%;\n",
       "    cursor: pointer;\n",
       "    display: none;\n",
       "    fill: var(--fill-color);\n",
       "    height: 32px;\n",
       "    padding: 0;\n",
       "    width: 32px;\n",
       "  }\n",
       "\n",
       "  .colab-df-quickchart:hover {\n",
       "    background-color: var(--hover-bg-color);\n",
       "    box-shadow: 0 1px 2px rgba(60, 64, 67, 0.3), 0 1px 3px 1px rgba(60, 64, 67, 0.15);\n",
       "    fill: var(--button-hover-fill-color);\n",
       "  }\n",
       "\n",
       "  .colab-df-quickchart-complete:disabled,\n",
       "  .colab-df-quickchart-complete:disabled:hover {\n",
       "    background-color: var(--disabled-bg-color);\n",
       "    fill: var(--disabled-fill-color);\n",
       "    box-shadow: none;\n",
       "  }\n",
       "\n",
       "  .colab-df-spinner {\n",
       "    border: 2px solid var(--fill-color);\n",
       "    border-color: transparent;\n",
       "    border-bottom-color: var(--fill-color);\n",
       "    animation:\n",
       "      spin 1s steps(1) infinite;\n",
       "  }\n",
       "\n",
       "  @keyframes spin {\n",
       "    0% {\n",
       "      border-color: transparent;\n",
       "      border-bottom-color: var(--fill-color);\n",
       "      border-left-color: var(--fill-color);\n",
       "    }\n",
       "    20% {\n",
       "      border-color: transparent;\n",
       "      border-left-color: var(--fill-color);\n",
       "      border-top-color: var(--fill-color);\n",
       "    }\n",
       "    30% {\n",
       "      border-color: transparent;\n",
       "      border-left-color: var(--fill-color);\n",
       "      border-top-color: var(--fill-color);\n",
       "      border-right-color: var(--fill-color);\n",
       "    }\n",
       "    40% {\n",
       "      border-color: transparent;\n",
       "      border-right-color: var(--fill-color);\n",
       "      border-top-color: var(--fill-color);\n",
       "    }\n",
       "    60% {\n",
       "      border-color: transparent;\n",
       "      border-right-color: var(--fill-color);\n",
       "    }\n",
       "    80% {\n",
       "      border-color: transparent;\n",
       "      border-right-color: var(--fill-color);\n",
       "      border-bottom-color: var(--fill-color);\n",
       "    }\n",
       "    90% {\n",
       "      border-color: transparent;\n",
       "      border-bottom-color: var(--fill-color);\n",
       "    }\n",
       "  }\n",
       "</style>\n",
       "\n",
       "  <script>\n",
       "    async function quickchart(key) {\n",
       "      const quickchartButtonEl =\n",
       "        document.querySelector('#' + key + ' button');\n",
       "      quickchartButtonEl.disabled = true;  // To prevent multiple clicks.\n",
       "      quickchartButtonEl.classList.add('colab-df-spinner');\n",
       "      try {\n",
       "        const charts = await google.colab.kernel.invokeFunction(\n",
       "            'suggestCharts', [key], {});\n",
       "      } catch (error) {\n",
       "        console.error('Error during call to suggestCharts:', error);\n",
       "      }\n",
       "      quickchartButtonEl.classList.remove('colab-df-spinner');\n",
       "      quickchartButtonEl.classList.add('colab-df-quickchart-complete');\n",
       "    }\n",
       "    (() => {\n",
       "      let quickchartButtonEl =\n",
       "        document.querySelector('#df-2c1d52a7-7fde-4516-8d63-39d57cead652 button');\n",
       "      quickchartButtonEl.style.display =\n",
       "        google.colab.kernel.accessAllowed ? 'block' : 'none';\n",
       "    })();\n",
       "  </script>\n",
       "</div>\n",
       "    </div>\n",
       "  </div>\n"
      ],
      "text/plain": [
       "  Country Name Country Code  \\\n",
       "0      Germany          DEU   \n",
       "1      Germany          DEU   \n",
       "2      Germany          DEU   \n",
       "\n",
       "                                         Series Name        Series Code  \\\n",
       "0  Government expenditure on education, total (% ...  SE.XPD.TOTL.GB.ZS   \n",
       "1                    Control of Corruption: Estimate             CC.EST   \n",
       "2           Urban population (% of total population)  SP.URB.TOTL.IN.ZS   \n",
       "\n",
       "  2023 [YR2023] 2022 [YR2022] 2021 [YR2021] 2020 [YR2020] 2019 [YR2019]  \\\n",
       "0            ..      9.190701      9.066173      9.298441      9.726378   \n",
       "1            ..      1.818376      1.783172      1.825714      1.865366   \n",
       "2            ..        77.648        77.544        77.453        77.376   \n",
       "\n",
       "  2018 [YR2018] 2017 [YR2017] 2016 [YR2016] 2015 [YR2015] 2014 [YR2014]  \\\n",
       "0      9.638202      9.480731       9.47783      9.638144      9.748104   \n",
       "1      1.898325      1.796618      1.781451      1.776124      1.812497   \n",
       "2        77.312        77.261        77.224          77.2         77.19   \n",
       "\n",
       "  2013 [YR2013] 2012 [YR2012] 2011 [YR2011] 2010 [YR2010] 2009 [YR2009]  \n",
       "0      9.709711       9.51723      9.511645      9.113441      9.018068  \n",
       "1      1.797944       1.81763       1.74195      1.766429       1.74621  \n",
       "2         77.18         77.17         77.16        76.966        76.771  "
      ]
     },
     "execution_count": 428,
     "metadata": {},
     "output_type": "execute_result"
    }
   ],
   "source": [
    "df.head(3)"
   ]
  },
  {
   "cell_type": "code",
   "execution_count": 429,
   "metadata": {
    "colab": {
     "base_uri": "https://localhost:8080/",
     "height": 313
    },
    "id": "KUqsHmxThnFV",
    "outputId": "2464fcf3-c17d-4a91-e1ca-f3b174f53339"
   },
   "outputs": [
    {
     "data": {
      "application/vnd.google.colaboratory.intrinsic+json": {
       "summary": "{\n  \"name\": \"df_pivot\",\n  \"rows\": 73,\n  \"fields\": [\n    {\n      \"column\": \"Time\",\n      \"properties\": {\n        \"dtype\": \"category\",\n        \"num_unique_values\": 15,\n        \"samples\": [\n          \"YR2018\",\n          \"YR2020\",\n          \"YR2009\"\n        ],\n        \"semantic_type\": \"\",\n        \"description\": \"\"\n      }\n    },\n    {\n      \"column\": \"Time Code\",\n      \"properties\": {\n        \"dtype\": \"object\",\n        \"num_unique_values\": 15,\n        \"samples\": [\n          \"2018\",\n          \"2020\",\n          \"2009\"\n        ],\n        \"semantic_type\": \"\",\n        \"description\": \"\"\n      }\n    },\n    {\n      \"column\": \"Country Name\",\n      \"properties\": {\n        \"dtype\": \"category\",\n        \"num_unique_values\": 5,\n        \"samples\": [\n          \"France\",\n          \"United States\",\n          \"Germany\"\n        ],\n        \"semantic_type\": \"\",\n        \"description\": \"\"\n      }\n    },\n    {\n      \"column\": \"Country Code\",\n      \"properties\": {\n        \"dtype\": \"category\",\n        \"num_unique_values\": 5,\n        \"samples\": [\n          \"FRA\",\n          \"USA\",\n          \"DEU\"\n        ],\n        \"semantic_type\": \"\",\n        \"description\": \"\"\n      }\n    },\n    {\n      \"column\": \"GDP growth (annual %) [NY.GDP.MKTP.KD.ZG]\",\n      \"properties\": {\n        \"dtype\": \"number\",\n        \"std\": 1.0785383331705034,\n        \"min\": -1.14130687713623,\n        \"max\": 1.89832532405853,\n        \"num_unique_values\": 70,\n        \"samples\": [\n          1.22440361976624,\n          -0.519456624984741,\n          -0.838142871856689\n        ],\n        \"semantic_type\": \"\",\n        \"description\": \"\"\n      }\n    },\n    {\n      \"column\": \"Government expenditure on education, total (% of government expenditure) [SE.XPD.TOTL.GB.ZS]\",\n      \"properties\": {\n        \"dtype\": \"number\",\n        \"std\": 5.005373165532848,\n        \"min\": 8.23,\n        \"max\": 22.6003418,\n        \"num_unique_values\": 65,\n        \"samples\": [\n          18.39227295,\n          22.54361153,\n          8.37523174\n        ],\n        \"semantic_type\": \"\",\n        \"description\": \"\"\n      }\n    },\n    {\n      \"column\": \"Life expectancy at birth, total (years) [SP.DYN.LE00.IN]\",\n      \"properties\": {\n        \"dtype\": \"number\",\n        \"std\": 3.6658876422674695,\n        \"min\": -7.79999391271275,\n        \"max\": 10.635871065957176,\n        \"num_unique_values\": 70,\n        \"samples\": [\n          2.2914199941702122,\n          9.398725631632104,\n          0.19369007126053361\n        ],\n        \"semantic_type\": \"\",\n        \"description\": \"\"\n      }\n    },\n    {\n      \"column\": \"Literacy rate, adult total (% of people ages 15 and above) [SE.ADT.LITR.ZS]\",\n      \"properties\": {\n        \"dtype\": \"number\",\n        \"std\": 2.684436902508283,\n        \"min\": 2.19599723815918,\n        \"max\": 16.0524635314941,\n        \"num_unique_values\": 65,\n        \"samples\": [\n          15.6010618209839,\n          15.9738168716431,\n          13.5135316848755\n        ],\n        \"semantic_type\": \"\",\n        \"description\": \"\"\n      }\n    },\n    {\n      \"column\": \"Control of Corruption: Estimate [CC.EST]\",\n      \"properties\": {\n        \"dtype\": \"number\",\n        \"std\": 4.022022553702618,\n        \"min\": 68.68463414634147,\n        \"max\": 82.8268292682927,\n        \"num_unique_values\": 68,\n        \"samples\": [\n          70.57878048780488,\n          82.11463414634147,\n          76.452\n        ],\n        \"semantic_type\": \"\",\n        \"description\": \"\"\n      }\n    },\n    {\n      \"column\": \"Urban population (% of total population) [SP.URB.TOTL.IN.ZS]\",\n      \"properties\": {\n        \"dtype\": \"number\",\n        \"std\": 2.3339433239225627,\n        \"min\": 95.1244812011719,\n        \"max\": 99.9277725219727,\n        \"num_unique_values\": 4,\n        \"samples\": [\n          96.7395172119141,\n          99.9277725219727,\n          95.1244812011719\n        ],\n        \"semantic_type\": \"\",\n        \"description\": \"\"\n      }\n    },\n    {\n      \"column\": \"Unemployment, total (% of total labor force) (national estimate) [SL.UEM.TOTL.NE.ZS]\",\n      \"properties\": {\n        \"dtype\": \"number\",\n        \"std\": 2.177585151570322,\n        \"min\": 3.1,\n        \"max\": 10.354,\n        \"num_unique_values\": 66,\n        \"samples\": [\n          8.949,\n          3.669,\n          4.3\n        ],\n        \"semantic_type\": \"\",\n        \"description\": \"\"\n      }\n    },\n    {\n      \"column\": \"Domestic general government health expenditure (% of general government expenditure) [SH.XPD.GHED.GE.ZS]\",\n      \"properties\": {\n        \"dtype\": \"number\",\n        \"std\": 9.609279752138837,\n        \"min\": 47.88,\n        \"max\": 83.084,\n        \"num_unique_values\": 70,\n        \"samples\": [\n          80.18,\n          47.88,\n          74.164\n        ],\n        \"semantic_type\": \"\",\n        \"description\": \"\"\n      }\n    }\n  ]\n}",
       "type": "dataframe",
       "variable_name": "df_pivot"
      },
      "text/html": [
       "\n",
       "  <div id=\"df-0c7f6ec3-a439-4f1f-9377-40736dcf8813\" class=\"colab-df-container\">\n",
       "    <div>\n",
       "<style scoped>\n",
       "    .dataframe tbody tr th:only-of-type {\n",
       "        vertical-align: middle;\n",
       "    }\n",
       "\n",
       "    .dataframe tbody tr th {\n",
       "        vertical-align: top;\n",
       "    }\n",
       "\n",
       "    .dataframe thead th {\n",
       "        text-align: right;\n",
       "    }\n",
       "</style>\n",
       "<table border=\"1\" class=\"dataframe\">\n",
       "  <thead>\n",
       "    <tr style=\"text-align: right;\">\n",
       "      <th></th>\n",
       "      <th>Time</th>\n",
       "      <th>Time Code</th>\n",
       "      <th>Country Name</th>\n",
       "      <th>Country Code</th>\n",
       "      <th>GDP growth (annual %) [NY.GDP.MKTP.KD.ZG]</th>\n",
       "      <th>Government expenditure on education, total (% of government expenditure) [SE.XPD.TOTL.GB.ZS]</th>\n",
       "      <th>Life expectancy at birth, total (years) [SP.DYN.LE00.IN]</th>\n",
       "      <th>Literacy rate, adult total (% of people ages 15 and above) [SE.ADT.LITR.ZS]</th>\n",
       "      <th>Control of Corruption: Estimate [CC.EST]</th>\n",
       "      <th>Urban population (% of total population) [SP.URB.TOTL.IN.ZS]</th>\n",
       "      <th>Unemployment, total (% of total labor force) (national estimate) [SL.UEM.TOTL.NE.ZS]</th>\n",
       "      <th>Domestic general government health expenditure (% of general government expenditure) [SH.XPD.GHED.GE.ZS]</th>\n",
       "    </tr>\n",
       "  </thead>\n",
       "  <tbody>\n",
       "    <tr>\n",
       "      <th>0</th>\n",
       "      <td>YR2009</td>\n",
       "      <td>2009</td>\n",
       "      <td>China</td>\n",
       "      <td>CHN</td>\n",
       "      <td>-0.519457</td>\n",
       "      <td>8.375232</td>\n",
       "      <td>9.398726</td>\n",
       "      <td>13.513532</td>\n",
       "      <td>75.343</td>\n",
       "      <td>NaN</td>\n",
       "      <td>4.30</td>\n",
       "      <td>47.880</td>\n",
       "    </tr>\n",
       "    <tr>\n",
       "      <th>1</th>\n",
       "      <td>YR2010</td>\n",
       "      <td>2010</td>\n",
       "      <td>China</td>\n",
       "      <td>CHN</td>\n",
       "      <td>-0.570010</td>\n",
       "      <td>8.750922</td>\n",
       "      <td>10.635871</td>\n",
       "      <td>13.552069</td>\n",
       "      <td>75.599</td>\n",
       "      <td>95.124481</td>\n",
       "      <td>4.10</td>\n",
       "      <td>49.226</td>\n",
       "    </tr>\n",
       "    <tr>\n",
       "      <th>2</th>\n",
       "      <td>YR2011</td>\n",
       "      <td>2011</td>\n",
       "      <td>China</td>\n",
       "      <td>CHN</td>\n",
       "      <td>-0.514728</td>\n",
       "      <td>8.602850</td>\n",
       "      <td>9.550832</td>\n",
       "      <td>13.078095</td>\n",
       "      <td>75.903</td>\n",
       "      <td>NaN</td>\n",
       "      <td>4.10</td>\n",
       "      <td>50.511</td>\n",
       "    </tr>\n",
       "    <tr>\n",
       "      <th>3</th>\n",
       "      <td>YR2012</td>\n",
       "      <td>2012</td>\n",
       "      <td>China</td>\n",
       "      <td>CHN</td>\n",
       "      <td>-0.438276</td>\n",
       "      <td>9.037293</td>\n",
       "      <td>7.863736</td>\n",
       "      <td>14.407168</td>\n",
       "      <td>76.192</td>\n",
       "      <td>NaN</td>\n",
       "      <td>4.10</td>\n",
       "      <td>51.765</td>\n",
       "    </tr>\n",
       "    <tr>\n",
       "      <th>4</th>\n",
       "      <td>YR2013</td>\n",
       "      <td>2013</td>\n",
       "      <td>China</td>\n",
       "      <td>CHN</td>\n",
       "      <td>-0.355790</td>\n",
       "      <td>9.416842</td>\n",
       "      <td>7.766150</td>\n",
       "      <td>13.315405</td>\n",
       "      <td>76.452</td>\n",
       "      <td>NaN</td>\n",
       "      <td>4.05</td>\n",
       "      <td>53.013</td>\n",
       "    </tr>\n",
       "  </tbody>\n",
       "</table>\n",
       "</div>\n",
       "    <div class=\"colab-df-buttons\">\n",
       "\n",
       "  <div class=\"colab-df-container\">\n",
       "    <button class=\"colab-df-convert\" onclick=\"convertToInteractive('df-0c7f6ec3-a439-4f1f-9377-40736dcf8813')\"\n",
       "            title=\"Convert this dataframe to an interactive table.\"\n",
       "            style=\"display:none;\">\n",
       "\n",
       "  <svg xmlns=\"http://www.w3.org/2000/svg\" height=\"24px\" viewBox=\"0 -960 960 960\">\n",
       "    <path d=\"M120-120v-720h720v720H120Zm60-500h600v-160H180v160Zm220 220h160v-160H400v160Zm0 220h160v-160H400v160ZM180-400h160v-160H180v160Zm440 0h160v-160H620v160ZM180-180h160v-160H180v160Zm440 0h160v-160H620v160Z\"/>\n",
       "  </svg>\n",
       "    </button>\n",
       "\n",
       "  <style>\n",
       "    .colab-df-container {\n",
       "      display:flex;\n",
       "      gap: 12px;\n",
       "    }\n",
       "\n",
       "    .colab-df-convert {\n",
       "      background-color: #E8F0FE;\n",
       "      border: none;\n",
       "      border-radius: 50%;\n",
       "      cursor: pointer;\n",
       "      display: none;\n",
       "      fill: #1967D2;\n",
       "      height: 32px;\n",
       "      padding: 0 0 0 0;\n",
       "      width: 32px;\n",
       "    }\n",
       "\n",
       "    .colab-df-convert:hover {\n",
       "      background-color: #E2EBFA;\n",
       "      box-shadow: 0px 1px 2px rgba(60, 64, 67, 0.3), 0px 1px 3px 1px rgba(60, 64, 67, 0.15);\n",
       "      fill: #174EA6;\n",
       "    }\n",
       "\n",
       "    .colab-df-buttons div {\n",
       "      margin-bottom: 4px;\n",
       "    }\n",
       "\n",
       "    [theme=dark] .colab-df-convert {\n",
       "      background-color: #3B4455;\n",
       "      fill: #D2E3FC;\n",
       "    }\n",
       "\n",
       "    [theme=dark] .colab-df-convert:hover {\n",
       "      background-color: #434B5C;\n",
       "      box-shadow: 0px 1px 3px 1px rgba(0, 0, 0, 0.15);\n",
       "      filter: drop-shadow(0px 1px 2px rgba(0, 0, 0, 0.3));\n",
       "      fill: #FFFFFF;\n",
       "    }\n",
       "  </style>\n",
       "\n",
       "    <script>\n",
       "      const buttonEl =\n",
       "        document.querySelector('#df-0c7f6ec3-a439-4f1f-9377-40736dcf8813 button.colab-df-convert');\n",
       "      buttonEl.style.display =\n",
       "        google.colab.kernel.accessAllowed ? 'block' : 'none';\n",
       "\n",
       "      async function convertToInteractive(key) {\n",
       "        const element = document.querySelector('#df-0c7f6ec3-a439-4f1f-9377-40736dcf8813');\n",
       "        const dataTable =\n",
       "          await google.colab.kernel.invokeFunction('convertToInteractive',\n",
       "                                                    [key], {});\n",
       "        if (!dataTable) return;\n",
       "\n",
       "        const docLinkHtml = 'Like what you see? Visit the ' +\n",
       "          '<a target=\"_blank\" href=https://colab.research.google.com/notebooks/data_table.ipynb>data table notebook</a>'\n",
       "          + ' to learn more about interactive tables.';\n",
       "        element.innerHTML = '';\n",
       "        dataTable['output_type'] = 'display_data';\n",
       "        await google.colab.output.renderOutput(dataTable, element);\n",
       "        const docLink = document.createElement('div');\n",
       "        docLink.innerHTML = docLinkHtml;\n",
       "        element.appendChild(docLink);\n",
       "      }\n",
       "    </script>\n",
       "  </div>\n",
       "\n",
       "\n",
       "<div id=\"df-e6dc6ada-a68e-4f3f-a9cb-6990cf550d3f\">\n",
       "  <button class=\"colab-df-quickchart\" onclick=\"quickchart('df-e6dc6ada-a68e-4f3f-a9cb-6990cf550d3f')\"\n",
       "            title=\"Suggest charts\"\n",
       "            style=\"display:none;\">\n",
       "\n",
       "<svg xmlns=\"http://www.w3.org/2000/svg\" height=\"24px\"viewBox=\"0 0 24 24\"\n",
       "     width=\"24px\">\n",
       "    <g>\n",
       "        <path d=\"M19 3H5c-1.1 0-2 .9-2 2v14c0 1.1.9 2 2 2h14c1.1 0 2-.9 2-2V5c0-1.1-.9-2-2-2zM9 17H7v-7h2v7zm4 0h-2V7h2v10zm4 0h-2v-4h2v4z\"/>\n",
       "    </g>\n",
       "</svg>\n",
       "  </button>\n",
       "\n",
       "<style>\n",
       "  .colab-df-quickchart {\n",
       "      --bg-color: #E8F0FE;\n",
       "      --fill-color: #1967D2;\n",
       "      --hover-bg-color: #E2EBFA;\n",
       "      --hover-fill-color: #174EA6;\n",
       "      --disabled-fill-color: #AAA;\n",
       "      --disabled-bg-color: #DDD;\n",
       "  }\n",
       "\n",
       "  [theme=dark] .colab-df-quickchart {\n",
       "      --bg-color: #3B4455;\n",
       "      --fill-color: #D2E3FC;\n",
       "      --hover-bg-color: #434B5C;\n",
       "      --hover-fill-color: #FFFFFF;\n",
       "      --disabled-bg-color: #3B4455;\n",
       "      --disabled-fill-color: #666;\n",
       "  }\n",
       "\n",
       "  .colab-df-quickchart {\n",
       "    background-color: var(--bg-color);\n",
       "    border: none;\n",
       "    border-radius: 50%;\n",
       "    cursor: pointer;\n",
       "    display: none;\n",
       "    fill: var(--fill-color);\n",
       "    height: 32px;\n",
       "    padding: 0;\n",
       "    width: 32px;\n",
       "  }\n",
       "\n",
       "  .colab-df-quickchart:hover {\n",
       "    background-color: var(--hover-bg-color);\n",
       "    box-shadow: 0 1px 2px rgba(60, 64, 67, 0.3), 0 1px 3px 1px rgba(60, 64, 67, 0.15);\n",
       "    fill: var(--button-hover-fill-color);\n",
       "  }\n",
       "\n",
       "  .colab-df-quickchart-complete:disabled,\n",
       "  .colab-df-quickchart-complete:disabled:hover {\n",
       "    background-color: var(--disabled-bg-color);\n",
       "    fill: var(--disabled-fill-color);\n",
       "    box-shadow: none;\n",
       "  }\n",
       "\n",
       "  .colab-df-spinner {\n",
       "    border: 2px solid var(--fill-color);\n",
       "    border-color: transparent;\n",
       "    border-bottom-color: var(--fill-color);\n",
       "    animation:\n",
       "      spin 1s steps(1) infinite;\n",
       "  }\n",
       "\n",
       "  @keyframes spin {\n",
       "    0% {\n",
       "      border-color: transparent;\n",
       "      border-bottom-color: var(--fill-color);\n",
       "      border-left-color: var(--fill-color);\n",
       "    }\n",
       "    20% {\n",
       "      border-color: transparent;\n",
       "      border-left-color: var(--fill-color);\n",
       "      border-top-color: var(--fill-color);\n",
       "    }\n",
       "    30% {\n",
       "      border-color: transparent;\n",
       "      border-left-color: var(--fill-color);\n",
       "      border-top-color: var(--fill-color);\n",
       "      border-right-color: var(--fill-color);\n",
       "    }\n",
       "    40% {\n",
       "      border-color: transparent;\n",
       "      border-right-color: var(--fill-color);\n",
       "      border-top-color: var(--fill-color);\n",
       "    }\n",
       "    60% {\n",
       "      border-color: transparent;\n",
       "      border-right-color: var(--fill-color);\n",
       "    }\n",
       "    80% {\n",
       "      border-color: transparent;\n",
       "      border-right-color: var(--fill-color);\n",
       "      border-bottom-color: var(--fill-color);\n",
       "    }\n",
       "    90% {\n",
       "      border-color: transparent;\n",
       "      border-bottom-color: var(--fill-color);\n",
       "    }\n",
       "  }\n",
       "</style>\n",
       "\n",
       "  <script>\n",
       "    async function quickchart(key) {\n",
       "      const quickchartButtonEl =\n",
       "        document.querySelector('#' + key + ' button');\n",
       "      quickchartButtonEl.disabled = true;  // To prevent multiple clicks.\n",
       "      quickchartButtonEl.classList.add('colab-df-spinner');\n",
       "      try {\n",
       "        const charts = await google.colab.kernel.invokeFunction(\n",
       "            'suggestCharts', [key], {});\n",
       "      } catch (error) {\n",
       "        console.error('Error during call to suggestCharts:', error);\n",
       "      }\n",
       "      quickchartButtonEl.classList.remove('colab-df-spinner');\n",
       "      quickchartButtonEl.classList.add('colab-df-quickchart-complete');\n",
       "    }\n",
       "    (() => {\n",
       "      let quickchartButtonEl =\n",
       "        document.querySelector('#df-e6dc6ada-a68e-4f3f-a9cb-6990cf550d3f button');\n",
       "      quickchartButtonEl.style.display =\n",
       "        google.colab.kernel.accessAllowed ? 'block' : 'none';\n",
       "    })();\n",
       "  </script>\n",
       "</div>\n",
       "    </div>\n",
       "  </div>\n"
      ],
      "text/plain": [
       "     Time Time Code Country Name Country Code  \\\n",
       "0  YR2009      2009        China          CHN   \n",
       "1  YR2010      2010        China          CHN   \n",
       "2  YR2011      2011        China          CHN   \n",
       "3  YR2012      2012        China          CHN   \n",
       "4  YR2013      2013        China          CHN   \n",
       "\n",
       "   GDP growth (annual %) [NY.GDP.MKTP.KD.ZG]  \\\n",
       "0                                  -0.519457   \n",
       "1                                  -0.570010   \n",
       "2                                  -0.514728   \n",
       "3                                  -0.438276   \n",
       "4                                  -0.355790   \n",
       "\n",
       "   Government expenditure on education, total (% of government expenditure) [SE.XPD.TOTL.GB.ZS]  \\\n",
       "0                                           8.375232                                              \n",
       "1                                           8.750922                                              \n",
       "2                                           8.602850                                              \n",
       "3                                           9.037293                                              \n",
       "4                                           9.416842                                              \n",
       "\n",
       "   Life expectancy at birth, total (years) [SP.DYN.LE00.IN]  \\\n",
       "0                                           9.398726          \n",
       "1                                          10.635871          \n",
       "2                                           9.550832          \n",
       "3                                           7.863736          \n",
       "4                                           7.766150          \n",
       "\n",
       "   Literacy rate, adult total (% of people ages 15 and above) [SE.ADT.LITR.ZS]  \\\n",
       "0                                          13.513532                             \n",
       "1                                          13.552069                             \n",
       "2                                          13.078095                             \n",
       "3                                          14.407168                             \n",
       "4                                          13.315405                             \n",
       "\n",
       "   Control of Corruption: Estimate [CC.EST]  \\\n",
       "0                                    75.343   \n",
       "1                                    75.599   \n",
       "2                                    75.903   \n",
       "3                                    76.192   \n",
       "4                                    76.452   \n",
       "\n",
       "   Urban population (% of total population) [SP.URB.TOTL.IN.ZS]  \\\n",
       "0                                                NaN              \n",
       "1                                          95.124481              \n",
       "2                                                NaN              \n",
       "3                                                NaN              \n",
       "4                                                NaN              \n",
       "\n",
       "   Unemployment, total (% of total labor force) (national estimate) [SL.UEM.TOTL.NE.ZS]  \\\n",
       "0                                               4.30                                      \n",
       "1                                               4.10                                      \n",
       "2                                               4.10                                      \n",
       "3                                               4.10                                      \n",
       "4                                               4.05                                      \n",
       "\n",
       "   Domestic general government health expenditure (% of general government expenditure) [SH.XPD.GHED.GE.ZS]  \n",
       "0                                             47.880                                                         \n",
       "1                                             49.226                                                         \n",
       "2                                             50.511                                                         \n",
       "3                                             51.765                                                         \n",
       "4                                             53.013                                                         "
      ]
     },
     "execution_count": 429,
     "metadata": {},
     "output_type": "execute_result"
    }
   ],
   "source": [
    "df_long = df.melt(id_vars=[\"Country Name\", \"Country Code\", \"Series Name\", \"Series Code\"],\n",
    "                  var_name=\"Time\",\n",
    "                  value_name=\"Value\")\n",
    "df_long[\"Time Code\"] = df_long[\"Time\"].str.extract(r'(\\d{4})')[0]\n",
    "df_long[\"Time\"] = df_long[\"Time Code\"].apply(lambda x: f\"YR{x}\")\n",
    "df_long['Value'] = pd.to_numeric(df_long['Value'].replace('..', pd.NA))\n",
    "\n",
    "df_pivot = df_long.pivot_table(index=[\"Country Name\", \"Country Code\", \"Time\", \"Time Code\"],\n",
    "                               columns=\"Series Name\",\n",
    "                               values=\"Value\",\n",
    "                               aggfunc='first').reset_index()\n",
    "\n",
    "df_pivot.columns = [f\"{col[0]}\" if col[1] == '' else f\"{col[1]}\" for col in df_pivot.columns]\n",
    "\n",
    "df_pivot.columns = [\n",
    "    \"Country Name\", \"Country Code\", \"Time\", \"Time Code\",\n",
    "    \"GDP growth (annual %) [NY.GDP.MKTP.KD.ZG]\",\n",
    "    \"Government expenditure on education, total (% of government expenditure) [SE.XPD.TOTL.GB.ZS]\",\n",
    "    \"Life expectancy at birth, total (years) [SP.DYN.LE00.IN]\",\n",
    "    \"Literacy rate, adult total (% of people ages 15 and above) [SE.ADT.LITR.ZS]\",\n",
    "    \"Control of Corruption: Estimate [CC.EST]\",\n",
    "    \"Urban population (% of total population) [SP.URB.TOTL.IN.ZS]\",\n",
    "    \"Unemployment, total (% of total labor force) (national estimate) [SL.UEM.TOTL.NE.ZS]\",\n",
    "    \"Domestic general government health expenditure (% of general government expenditure) [SH.XPD.GHED.GE.ZS]\"\n",
    "\n",
    "]\n",
    "\n",
    "df_pivot = df_pivot[[\n",
    "    \"Time\", \"Time Code\", \"Country Name\", \"Country Code\",\n",
    "    \"GDP growth (annual %) [NY.GDP.MKTP.KD.ZG]\",\n",
    "    \"Government expenditure on education, total (% of government expenditure) [SE.XPD.TOTL.GB.ZS]\",\n",
    "    \"Life expectancy at birth, total (years) [SP.DYN.LE00.IN]\",\n",
    "    \"Literacy rate, adult total (% of people ages 15 and above) [SE.ADT.LITR.ZS]\",\n",
    "    \"Control of Corruption: Estimate [CC.EST]\",\n",
    "    \"Urban population (% of total population) [SP.URB.TOTL.IN.ZS]\",\n",
    "    \"Unemployment, total (% of total labor force) (national estimate) [SL.UEM.TOTL.NE.ZS]\",\n",
    "    \"Domestic general government health expenditure (% of general government expenditure) [SH.XPD.GHED.GE.ZS]\"\n",
    "]]\n",
    "df_pivot.head(5)"
   ]
  },
  {
   "cell_type": "code",
   "execution_count": 429,
   "metadata": {
    "id": "nx2qAW4ci2LD"
   },
   "outputs": [],
   "source": []
  },
  {
   "cell_type": "code",
   "execution_count": 430,
   "metadata": {
    "id": "ZTQZKzoeXY4L"
   },
   "outputs": [],
   "source": [
    "df_pivot.drop(['Time','Country Code'],axis = 1, inplace = True)"
   ]
  },
  {
   "cell_type": "code",
   "execution_count": 431,
   "metadata": {
    "colab": {
     "base_uri": "https://localhost:8080/",
     "height": 293
    },
    "id": "IYXDAl39ZmUt",
    "outputId": "6aac588d-553f-486d-88cb-5cee9de1e830"
   },
   "outputs": [
    {
     "data": {
      "application/vnd.google.colaboratory.intrinsic+json": {
       "summary": "{\n  \"name\": \"df_pivot\",\n  \"rows\": 73,\n  \"fields\": [\n    {\n      \"column\": \"Time Code\",\n      \"properties\": {\n        \"dtype\": \"object\",\n        \"num_unique_values\": 15,\n        \"samples\": [\n          \"2018\",\n          \"2020\",\n          \"2009\"\n        ],\n        \"semantic_type\": \"\",\n        \"description\": \"\"\n      }\n    },\n    {\n      \"column\": \"Country Name\",\n      \"properties\": {\n        \"dtype\": \"category\",\n        \"num_unique_values\": 5,\n        \"samples\": [\n          \"France\",\n          \"United States\",\n          \"Germany\"\n        ],\n        \"semantic_type\": \"\",\n        \"description\": \"\"\n      }\n    },\n    {\n      \"column\": \"GDP growth (annual %) [NY.GDP.MKTP.KD.ZG]\",\n      \"properties\": {\n        \"dtype\": \"number\",\n        \"std\": 1.0785383331705034,\n        \"min\": -1.14130687713623,\n        \"max\": 1.89832532405853,\n        \"num_unique_values\": 70,\n        \"samples\": [\n          1.22440361976624,\n          -0.519456624984741,\n          -0.838142871856689\n        ],\n        \"semantic_type\": \"\",\n        \"description\": \"\"\n      }\n    },\n    {\n      \"column\": \"Government expenditure on education, total (% of government expenditure) [SE.XPD.TOTL.GB.ZS]\",\n      \"properties\": {\n        \"dtype\": \"number\",\n        \"std\": 5.005373165532848,\n        \"min\": 8.23,\n        \"max\": 22.6003418,\n        \"num_unique_values\": 65,\n        \"samples\": [\n          18.39227295,\n          22.54361153,\n          8.37523174\n        ],\n        \"semantic_type\": \"\",\n        \"description\": \"\"\n      }\n    },\n    {\n      \"column\": \"Life expectancy at birth, total (years) [SP.DYN.LE00.IN]\",\n      \"properties\": {\n        \"dtype\": \"number\",\n        \"std\": 3.6658876422674695,\n        \"min\": -7.79999391271275,\n        \"max\": 10.635871065957176,\n        \"num_unique_values\": 70,\n        \"samples\": [\n          2.2914199941702122,\n          9.398725631632104,\n          0.19369007126053361\n        ],\n        \"semantic_type\": \"\",\n        \"description\": \"\"\n      }\n    },\n    {\n      \"column\": \"Literacy rate, adult total (% of people ages 15 and above) [SE.ADT.LITR.ZS]\",\n      \"properties\": {\n        \"dtype\": \"number\",\n        \"std\": 2.684436902508283,\n        \"min\": 2.19599723815918,\n        \"max\": 16.0524635314941,\n        \"num_unique_values\": 65,\n        \"samples\": [\n          15.6010618209839,\n          15.9738168716431,\n          13.5135316848755\n        ],\n        \"semantic_type\": \"\",\n        \"description\": \"\"\n      }\n    },\n    {\n      \"column\": \"Control of Corruption: Estimate [CC.EST]\",\n      \"properties\": {\n        \"dtype\": \"number\",\n        \"std\": 4.022022553702618,\n        \"min\": 68.68463414634147,\n        \"max\": 82.8268292682927,\n        \"num_unique_values\": 68,\n        \"samples\": [\n          70.57878048780488,\n          82.11463414634147,\n          76.452\n        ],\n        \"semantic_type\": \"\",\n        \"description\": \"\"\n      }\n    },\n    {\n      \"column\": \"Urban population (% of total population) [SP.URB.TOTL.IN.ZS]\",\n      \"properties\": {\n        \"dtype\": \"number\",\n        \"std\": 2.3339433239225627,\n        \"min\": 95.1244812011719,\n        \"max\": 99.9277725219727,\n        \"num_unique_values\": 4,\n        \"samples\": [\n          96.7395172119141,\n          99.9277725219727,\n          95.1244812011719\n        ],\n        \"semantic_type\": \"\",\n        \"description\": \"\"\n      }\n    },\n    {\n      \"column\": \"Unemployment, total (% of total labor force) (national estimate) [SL.UEM.TOTL.NE.ZS]\",\n      \"properties\": {\n        \"dtype\": \"number\",\n        \"std\": 2.177585151570322,\n        \"min\": 3.1,\n        \"max\": 10.354,\n        \"num_unique_values\": 66,\n        \"samples\": [\n          8.949,\n          3.669,\n          4.3\n        ],\n        \"semantic_type\": \"\",\n        \"description\": \"\"\n      }\n    },\n    {\n      \"column\": \"Domestic general government health expenditure (% of general government expenditure) [SH.XPD.GHED.GE.ZS]\",\n      \"properties\": {\n        \"dtype\": \"number\",\n        \"std\": 9.609279752138837,\n        \"min\": 47.88,\n        \"max\": 83.084,\n        \"num_unique_values\": 70,\n        \"samples\": [\n          80.18,\n          47.88,\n          74.164\n        ],\n        \"semantic_type\": \"\",\n        \"description\": \"\"\n      }\n    }\n  ]\n}",
       "type": "dataframe",
       "variable_name": "df_pivot"
      },
      "text/html": [
       "\n",
       "  <div id=\"df-c68b1b24-8896-4626-aced-eee70af83ee3\" class=\"colab-df-container\">\n",
       "    <div>\n",
       "<style scoped>\n",
       "    .dataframe tbody tr th:only-of-type {\n",
       "        vertical-align: middle;\n",
       "    }\n",
       "\n",
       "    .dataframe tbody tr th {\n",
       "        vertical-align: top;\n",
       "    }\n",
       "\n",
       "    .dataframe thead th {\n",
       "        text-align: right;\n",
       "    }\n",
       "</style>\n",
       "<table border=\"1\" class=\"dataframe\">\n",
       "  <thead>\n",
       "    <tr style=\"text-align: right;\">\n",
       "      <th></th>\n",
       "      <th>Time Code</th>\n",
       "      <th>Country Name</th>\n",
       "      <th>GDP growth (annual %) [NY.GDP.MKTP.KD.ZG]</th>\n",
       "      <th>Government expenditure on education, total (% of government expenditure) [SE.XPD.TOTL.GB.ZS]</th>\n",
       "      <th>Life expectancy at birth, total (years) [SP.DYN.LE00.IN]</th>\n",
       "      <th>Literacy rate, adult total (% of people ages 15 and above) [SE.ADT.LITR.ZS]</th>\n",
       "      <th>Control of Corruption: Estimate [CC.EST]</th>\n",
       "      <th>Urban population (% of total population) [SP.URB.TOTL.IN.ZS]</th>\n",
       "      <th>Unemployment, total (% of total labor force) (national estimate) [SL.UEM.TOTL.NE.ZS]</th>\n",
       "      <th>Domestic general government health expenditure (% of general government expenditure) [SH.XPD.GHED.GE.ZS]</th>\n",
       "    </tr>\n",
       "  </thead>\n",
       "  <tbody>\n",
       "    <tr>\n",
       "      <th>0</th>\n",
       "      <td>2009</td>\n",
       "      <td>China</td>\n",
       "      <td>-0.519457</td>\n",
       "      <td>8.375232</td>\n",
       "      <td>9.398726</td>\n",
       "      <td>13.513532</td>\n",
       "      <td>75.343</td>\n",
       "      <td>NaN</td>\n",
       "      <td>4.30</td>\n",
       "      <td>47.880</td>\n",
       "    </tr>\n",
       "    <tr>\n",
       "      <th>1</th>\n",
       "      <td>2010</td>\n",
       "      <td>China</td>\n",
       "      <td>-0.570010</td>\n",
       "      <td>8.750922</td>\n",
       "      <td>10.635871</td>\n",
       "      <td>13.552069</td>\n",
       "      <td>75.599</td>\n",
       "      <td>95.124481</td>\n",
       "      <td>4.10</td>\n",
       "      <td>49.226</td>\n",
       "    </tr>\n",
       "    <tr>\n",
       "      <th>2</th>\n",
       "      <td>2011</td>\n",
       "      <td>China</td>\n",
       "      <td>-0.514728</td>\n",
       "      <td>8.602850</td>\n",
       "      <td>9.550832</td>\n",
       "      <td>13.078095</td>\n",
       "      <td>75.903</td>\n",
       "      <td>NaN</td>\n",
       "      <td>4.10</td>\n",
       "      <td>50.511</td>\n",
       "    </tr>\n",
       "    <tr>\n",
       "      <th>3</th>\n",
       "      <td>2012</td>\n",
       "      <td>China</td>\n",
       "      <td>-0.438276</td>\n",
       "      <td>9.037293</td>\n",
       "      <td>7.863736</td>\n",
       "      <td>14.407168</td>\n",
       "      <td>76.192</td>\n",
       "      <td>NaN</td>\n",
       "      <td>4.10</td>\n",
       "      <td>51.765</td>\n",
       "    </tr>\n",
       "    <tr>\n",
       "      <th>4</th>\n",
       "      <td>2013</td>\n",
       "      <td>China</td>\n",
       "      <td>-0.355790</td>\n",
       "      <td>9.416842</td>\n",
       "      <td>7.766150</td>\n",
       "      <td>13.315405</td>\n",
       "      <td>76.452</td>\n",
       "      <td>NaN</td>\n",
       "      <td>4.05</td>\n",
       "      <td>53.013</td>\n",
       "    </tr>\n",
       "  </tbody>\n",
       "</table>\n",
       "</div>\n",
       "    <div class=\"colab-df-buttons\">\n",
       "\n",
       "  <div class=\"colab-df-container\">\n",
       "    <button class=\"colab-df-convert\" onclick=\"convertToInteractive('df-c68b1b24-8896-4626-aced-eee70af83ee3')\"\n",
       "            title=\"Convert this dataframe to an interactive table.\"\n",
       "            style=\"display:none;\">\n",
       "\n",
       "  <svg xmlns=\"http://www.w3.org/2000/svg\" height=\"24px\" viewBox=\"0 -960 960 960\">\n",
       "    <path d=\"M120-120v-720h720v720H120Zm60-500h600v-160H180v160Zm220 220h160v-160H400v160Zm0 220h160v-160H400v160ZM180-400h160v-160H180v160Zm440 0h160v-160H620v160ZM180-180h160v-160H180v160Zm440 0h160v-160H620v160Z\"/>\n",
       "  </svg>\n",
       "    </button>\n",
       "\n",
       "  <style>\n",
       "    .colab-df-container {\n",
       "      display:flex;\n",
       "      gap: 12px;\n",
       "    }\n",
       "\n",
       "    .colab-df-convert {\n",
       "      background-color: #E8F0FE;\n",
       "      border: none;\n",
       "      border-radius: 50%;\n",
       "      cursor: pointer;\n",
       "      display: none;\n",
       "      fill: #1967D2;\n",
       "      height: 32px;\n",
       "      padding: 0 0 0 0;\n",
       "      width: 32px;\n",
       "    }\n",
       "\n",
       "    .colab-df-convert:hover {\n",
       "      background-color: #E2EBFA;\n",
       "      box-shadow: 0px 1px 2px rgba(60, 64, 67, 0.3), 0px 1px 3px 1px rgba(60, 64, 67, 0.15);\n",
       "      fill: #174EA6;\n",
       "    }\n",
       "\n",
       "    .colab-df-buttons div {\n",
       "      margin-bottom: 4px;\n",
       "    }\n",
       "\n",
       "    [theme=dark] .colab-df-convert {\n",
       "      background-color: #3B4455;\n",
       "      fill: #D2E3FC;\n",
       "    }\n",
       "\n",
       "    [theme=dark] .colab-df-convert:hover {\n",
       "      background-color: #434B5C;\n",
       "      box-shadow: 0px 1px 3px 1px rgba(0, 0, 0, 0.15);\n",
       "      filter: drop-shadow(0px 1px 2px rgba(0, 0, 0, 0.3));\n",
       "      fill: #FFFFFF;\n",
       "    }\n",
       "  </style>\n",
       "\n",
       "    <script>\n",
       "      const buttonEl =\n",
       "        document.querySelector('#df-c68b1b24-8896-4626-aced-eee70af83ee3 button.colab-df-convert');\n",
       "      buttonEl.style.display =\n",
       "        google.colab.kernel.accessAllowed ? 'block' : 'none';\n",
       "\n",
       "      async function convertToInteractive(key) {\n",
       "        const element = document.querySelector('#df-c68b1b24-8896-4626-aced-eee70af83ee3');\n",
       "        const dataTable =\n",
       "          await google.colab.kernel.invokeFunction('convertToInteractive',\n",
       "                                                    [key], {});\n",
       "        if (!dataTable) return;\n",
       "\n",
       "        const docLinkHtml = 'Like what you see? Visit the ' +\n",
       "          '<a target=\"_blank\" href=https://colab.research.google.com/notebooks/data_table.ipynb>data table notebook</a>'\n",
       "          + ' to learn more about interactive tables.';\n",
       "        element.innerHTML = '';\n",
       "        dataTable['output_type'] = 'display_data';\n",
       "        await google.colab.output.renderOutput(dataTable, element);\n",
       "        const docLink = document.createElement('div');\n",
       "        docLink.innerHTML = docLinkHtml;\n",
       "        element.appendChild(docLink);\n",
       "      }\n",
       "    </script>\n",
       "  </div>\n",
       "\n",
       "\n",
       "<div id=\"df-27f77525-f67f-40a9-b1a8-e164b8ca9038\">\n",
       "  <button class=\"colab-df-quickchart\" onclick=\"quickchart('df-27f77525-f67f-40a9-b1a8-e164b8ca9038')\"\n",
       "            title=\"Suggest charts\"\n",
       "            style=\"display:none;\">\n",
       "\n",
       "<svg xmlns=\"http://www.w3.org/2000/svg\" height=\"24px\"viewBox=\"0 0 24 24\"\n",
       "     width=\"24px\">\n",
       "    <g>\n",
       "        <path d=\"M19 3H5c-1.1 0-2 .9-2 2v14c0 1.1.9 2 2 2h14c1.1 0 2-.9 2-2V5c0-1.1-.9-2-2-2zM9 17H7v-7h2v7zm4 0h-2V7h2v10zm4 0h-2v-4h2v4z\"/>\n",
       "    </g>\n",
       "</svg>\n",
       "  </button>\n",
       "\n",
       "<style>\n",
       "  .colab-df-quickchart {\n",
       "      --bg-color: #E8F0FE;\n",
       "      --fill-color: #1967D2;\n",
       "      --hover-bg-color: #E2EBFA;\n",
       "      --hover-fill-color: #174EA6;\n",
       "      --disabled-fill-color: #AAA;\n",
       "      --disabled-bg-color: #DDD;\n",
       "  }\n",
       "\n",
       "  [theme=dark] .colab-df-quickchart {\n",
       "      --bg-color: #3B4455;\n",
       "      --fill-color: #D2E3FC;\n",
       "      --hover-bg-color: #434B5C;\n",
       "      --hover-fill-color: #FFFFFF;\n",
       "      --disabled-bg-color: #3B4455;\n",
       "      --disabled-fill-color: #666;\n",
       "  }\n",
       "\n",
       "  .colab-df-quickchart {\n",
       "    background-color: var(--bg-color);\n",
       "    border: none;\n",
       "    border-radius: 50%;\n",
       "    cursor: pointer;\n",
       "    display: none;\n",
       "    fill: var(--fill-color);\n",
       "    height: 32px;\n",
       "    padding: 0;\n",
       "    width: 32px;\n",
       "  }\n",
       "\n",
       "  .colab-df-quickchart:hover {\n",
       "    background-color: var(--hover-bg-color);\n",
       "    box-shadow: 0 1px 2px rgba(60, 64, 67, 0.3), 0 1px 3px 1px rgba(60, 64, 67, 0.15);\n",
       "    fill: var(--button-hover-fill-color);\n",
       "  }\n",
       "\n",
       "  .colab-df-quickchart-complete:disabled,\n",
       "  .colab-df-quickchart-complete:disabled:hover {\n",
       "    background-color: var(--disabled-bg-color);\n",
       "    fill: var(--disabled-fill-color);\n",
       "    box-shadow: none;\n",
       "  }\n",
       "\n",
       "  .colab-df-spinner {\n",
       "    border: 2px solid var(--fill-color);\n",
       "    border-color: transparent;\n",
       "    border-bottom-color: var(--fill-color);\n",
       "    animation:\n",
       "      spin 1s steps(1) infinite;\n",
       "  }\n",
       "\n",
       "  @keyframes spin {\n",
       "    0% {\n",
       "      border-color: transparent;\n",
       "      border-bottom-color: var(--fill-color);\n",
       "      border-left-color: var(--fill-color);\n",
       "    }\n",
       "    20% {\n",
       "      border-color: transparent;\n",
       "      border-left-color: var(--fill-color);\n",
       "      border-top-color: var(--fill-color);\n",
       "    }\n",
       "    30% {\n",
       "      border-color: transparent;\n",
       "      border-left-color: var(--fill-color);\n",
       "      border-top-color: var(--fill-color);\n",
       "      border-right-color: var(--fill-color);\n",
       "    }\n",
       "    40% {\n",
       "      border-color: transparent;\n",
       "      border-right-color: var(--fill-color);\n",
       "      border-top-color: var(--fill-color);\n",
       "    }\n",
       "    60% {\n",
       "      border-color: transparent;\n",
       "      border-right-color: var(--fill-color);\n",
       "    }\n",
       "    80% {\n",
       "      border-color: transparent;\n",
       "      border-right-color: var(--fill-color);\n",
       "      border-bottom-color: var(--fill-color);\n",
       "    }\n",
       "    90% {\n",
       "      border-color: transparent;\n",
       "      border-bottom-color: var(--fill-color);\n",
       "    }\n",
       "  }\n",
       "</style>\n",
       "\n",
       "  <script>\n",
       "    async function quickchart(key) {\n",
       "      const quickchartButtonEl =\n",
       "        document.querySelector('#' + key + ' button');\n",
       "      quickchartButtonEl.disabled = true;  // To prevent multiple clicks.\n",
       "      quickchartButtonEl.classList.add('colab-df-spinner');\n",
       "      try {\n",
       "        const charts = await google.colab.kernel.invokeFunction(\n",
       "            'suggestCharts', [key], {});\n",
       "      } catch (error) {\n",
       "        console.error('Error during call to suggestCharts:', error);\n",
       "      }\n",
       "      quickchartButtonEl.classList.remove('colab-df-spinner');\n",
       "      quickchartButtonEl.classList.add('colab-df-quickchart-complete');\n",
       "    }\n",
       "    (() => {\n",
       "      let quickchartButtonEl =\n",
       "        document.querySelector('#df-27f77525-f67f-40a9-b1a8-e164b8ca9038 button');\n",
       "      quickchartButtonEl.style.display =\n",
       "        google.colab.kernel.accessAllowed ? 'block' : 'none';\n",
       "    })();\n",
       "  </script>\n",
       "</div>\n",
       "    </div>\n",
       "  </div>\n"
      ],
      "text/plain": [
       "  Time Code Country Name  GDP growth (annual %) [NY.GDP.MKTP.KD.ZG]  \\\n",
       "0      2009        China                                  -0.519457   \n",
       "1      2010        China                                  -0.570010   \n",
       "2      2011        China                                  -0.514728   \n",
       "3      2012        China                                  -0.438276   \n",
       "4      2013        China                                  -0.355790   \n",
       "\n",
       "   Government expenditure on education, total (% of government expenditure) [SE.XPD.TOTL.GB.ZS]  \\\n",
       "0                                           8.375232                                              \n",
       "1                                           8.750922                                              \n",
       "2                                           8.602850                                              \n",
       "3                                           9.037293                                              \n",
       "4                                           9.416842                                              \n",
       "\n",
       "   Life expectancy at birth, total (years) [SP.DYN.LE00.IN]  \\\n",
       "0                                           9.398726          \n",
       "1                                          10.635871          \n",
       "2                                           9.550832          \n",
       "3                                           7.863736          \n",
       "4                                           7.766150          \n",
       "\n",
       "   Literacy rate, adult total (% of people ages 15 and above) [SE.ADT.LITR.ZS]  \\\n",
       "0                                          13.513532                             \n",
       "1                                          13.552069                             \n",
       "2                                          13.078095                             \n",
       "3                                          14.407168                             \n",
       "4                                          13.315405                             \n",
       "\n",
       "   Control of Corruption: Estimate [CC.EST]  \\\n",
       "0                                    75.343   \n",
       "1                                    75.599   \n",
       "2                                    75.903   \n",
       "3                                    76.192   \n",
       "4                                    76.452   \n",
       "\n",
       "   Urban population (% of total population) [SP.URB.TOTL.IN.ZS]  \\\n",
       "0                                                NaN              \n",
       "1                                          95.124481              \n",
       "2                                                NaN              \n",
       "3                                                NaN              \n",
       "4                                                NaN              \n",
       "\n",
       "   Unemployment, total (% of total labor force) (national estimate) [SL.UEM.TOTL.NE.ZS]  \\\n",
       "0                                               4.30                                      \n",
       "1                                               4.10                                      \n",
       "2                                               4.10                                      \n",
       "3                                               4.10                                      \n",
       "4                                               4.05                                      \n",
       "\n",
       "   Domestic general government health expenditure (% of general government expenditure) [SH.XPD.GHED.GE.ZS]  \n",
       "0                                             47.880                                                         \n",
       "1                                             49.226                                                         \n",
       "2                                             50.511                                                         \n",
       "3                                             51.765                                                         \n",
       "4                                             53.013                                                         "
      ]
     },
     "execution_count": 431,
     "metadata": {},
     "output_type": "execute_result"
    }
   ],
   "source": [
    "df_pivot.head(5)"
   ]
  },
  {
   "cell_type": "code",
   "execution_count": 432,
   "metadata": {
    "colab": {
     "base_uri": "https://localhost:8080/"
    },
    "id": "ubIcGRBvZoIs",
    "outputId": "f4b449cf-f199-4e29-966e-54c337fbff3e"
   },
   "outputs": [
    {
     "data": {
      "text/plain": [
       "Time Code                                                                                                    0\n",
       "Country Name                                                                                                 0\n",
       "GDP growth (annual %) [NY.GDP.MKTP.KD.ZG]                                                                    3\n",
       "Government expenditure on education, total (% of government expenditure) [SE.XPD.TOTL.GB.ZS]                 8\n",
       "Life expectancy at birth, total (years) [SP.DYN.LE00.IN]                                                     3\n",
       "Literacy rate, adult total (% of people ages 15 and above) [SE.ADT.LITR.ZS]                                  8\n",
       "Control of Corruption: Estimate [CC.EST]                                                                     3\n",
       "Urban population (% of total population) [SP.URB.TOTL.IN.ZS]                                                69\n",
       "Unemployment, total (% of total labor force) (national estimate) [SL.UEM.TOTL.NE.ZS]                         3\n",
       "Domestic general government health expenditure (% of general government expenditure) [SH.XPD.GHED.GE.ZS]     3\n",
       "dtype: int64"
      ]
     },
     "execution_count": 432,
     "metadata": {},
     "output_type": "execute_result"
    }
   ],
   "source": [
    "df_pivot.isna().sum()"
   ]
  },
  {
   "cell_type": "code",
   "execution_count": 433,
   "metadata": {
    "colab": {
     "base_uri": "https://localhost:8080/"
    },
    "id": "P-ZQk2DDeHug",
    "outputId": "f55a8af0-066b-4a0f-90cc-1aaf1249ce7a"
   },
   "outputs": [
    {
     "data": {
      "text/plain": [
       "Time Code                                                                                                    object\n",
       "Country Name                                                                                                 object\n",
       "GDP growth (annual %) [NY.GDP.MKTP.KD.ZG]                                                                   float64\n",
       "Government expenditure on education, total (% of government expenditure) [SE.XPD.TOTL.GB.ZS]                float64\n",
       "Life expectancy at birth, total (years) [SP.DYN.LE00.IN]                                                    float64\n",
       "Literacy rate, adult total (% of people ages 15 and above) [SE.ADT.LITR.ZS]                                 float64\n",
       "Control of Corruption: Estimate [CC.EST]                                                                    float64\n",
       "Urban population (% of total population) [SP.URB.TOTL.IN.ZS]                                                float64\n",
       "Unemployment, total (% of total labor force) (national estimate) [SL.UEM.TOTL.NE.ZS]                        float64\n",
       "Domestic general government health expenditure (% of general government expenditure) [SH.XPD.GHED.GE.ZS]    float64\n",
       "dtype: object"
      ]
     },
     "execution_count": 433,
     "metadata": {},
     "output_type": "execute_result"
    }
   ],
   "source": [
    "df_pivot.dtypes"
   ]
  },
  {
   "cell_type": "code",
   "execution_count": 434,
   "metadata": {
    "colab": {
     "base_uri": "https://localhost:8080/",
     "height": 143
    },
    "id": "FCuc5UrkeI9J",
    "outputId": "dbbd2a3e-0186-4340-f267-86485cfd1ea3"
   },
   "outputs": [
    {
     "data": {
      "application/vnd.google.colaboratory.intrinsic+json": {
       "summary": "{\n  \"name\": \"df_pivot\",\n  \"rows\": 73,\n  \"fields\": [\n    {\n      \"column\": \"Year\",\n      \"properties\": {\n        \"dtype\": \"object\",\n        \"num_unique_values\": 15,\n        \"samples\": [\n          \"2018\",\n          \"2020\",\n          \"2009\"\n        ],\n        \"semantic_type\": \"\",\n        \"description\": \"\"\n      }\n    },\n    {\n      \"column\": \"Country\",\n      \"properties\": {\n        \"dtype\": \"category\",\n        \"num_unique_values\": 5,\n        \"samples\": [\n          \"France\",\n          \"United States\",\n          \"Germany\"\n        ],\n        \"semantic_type\": \"\",\n        \"description\": \"\"\n      }\n    },\n    {\n      \"column\": \"GDP\",\n      \"properties\": {\n        \"dtype\": \"number\",\n        \"std\": 1.0785383331705034,\n        \"min\": -1.14130687713623,\n        \"max\": 1.89832532405853,\n        \"num_unique_values\": 70,\n        \"samples\": [\n          1.22440361976624,\n          -0.519456624984741,\n          -0.838142871856689\n        ],\n        \"semantic_type\": \"\",\n        \"description\": \"\"\n      }\n    },\n    {\n      \"column\": \"exp_educ\",\n      \"properties\": {\n        \"dtype\": \"number\",\n        \"std\": 5.005373165532848,\n        \"min\": 8.23,\n        \"max\": 22.6003418,\n        \"num_unique_values\": 65,\n        \"samples\": [\n          18.39227295,\n          22.54361153,\n          8.37523174\n        ],\n        \"semantic_type\": \"\",\n        \"description\": \"\"\n      }\n    },\n    {\n      \"column\": \"life_expectancy\",\n      \"properties\": {\n        \"dtype\": \"number\",\n        \"std\": 3.6658876422674695,\n        \"min\": -7.79999391271275,\n        \"max\": 10.635871065957176,\n        \"num_unique_values\": 70,\n        \"samples\": [\n          2.2914199941702122,\n          9.398725631632104,\n          0.19369007126053361\n        ],\n        \"semantic_type\": \"\",\n        \"description\": \"\"\n      }\n    },\n    {\n      \"column\": \"literacy_rate\",\n      \"properties\": {\n        \"dtype\": \"number\",\n        \"std\": 2.684436902508283,\n        \"min\": 2.19599723815918,\n        \"max\": 16.0524635314941,\n        \"num_unique_values\": 65,\n        \"samples\": [\n          15.6010618209839,\n          15.9738168716431,\n          13.5135316848755\n        ],\n        \"semantic_type\": \"\",\n        \"description\": \"\"\n      }\n    },\n    {\n      \"column\": \"control_cor\",\n      \"properties\": {\n        \"dtype\": \"number\",\n        \"std\": 4.022022553702618,\n        \"min\": 68.68463414634147,\n        \"max\": 82.8268292682927,\n        \"num_unique_values\": 68,\n        \"samples\": [\n          70.57878048780488,\n          82.11463414634147,\n          76.452\n        ],\n        \"semantic_type\": \"\",\n        \"description\": \"\"\n      }\n    },\n    {\n      \"column\": \"urban\",\n      \"properties\": {\n        \"dtype\": \"number\",\n        \"std\": 2.3339433239225627,\n        \"min\": 95.1244812011719,\n        \"max\": 99.9277725219727,\n        \"num_unique_values\": 4,\n        \"samples\": [\n          96.7395172119141,\n          99.9277725219727,\n          95.1244812011719\n        ],\n        \"semantic_type\": \"\",\n        \"description\": \"\"\n      }\n    },\n    {\n      \"column\": \"unemployment\",\n      \"properties\": {\n        \"dtype\": \"number\",\n        \"std\": 2.177585151570322,\n        \"min\": 3.1,\n        \"max\": 10.354,\n        \"num_unique_values\": 66,\n        \"samples\": [\n          8.949,\n          3.669,\n          4.3\n        ],\n        \"semantic_type\": \"\",\n        \"description\": \"\"\n      }\n    },\n    {\n      \"column\": \"health_exp\",\n      \"properties\": {\n        \"dtype\": \"number\",\n        \"std\": 9.609279752138837,\n        \"min\": 47.88,\n        \"max\": 83.084,\n        \"num_unique_values\": 70,\n        \"samples\": [\n          80.18,\n          47.88,\n          74.164\n        ],\n        \"semantic_type\": \"\",\n        \"description\": \"\"\n      }\n    }\n  ]\n}",
       "type": "dataframe",
       "variable_name": "df_pivot"
      },
      "text/html": [
       "\n",
       "  <div id=\"df-4e4a2b6c-83e1-46a9-ba33-887502d8e010\" class=\"colab-df-container\">\n",
       "    <div>\n",
       "<style scoped>\n",
       "    .dataframe tbody tr th:only-of-type {\n",
       "        vertical-align: middle;\n",
       "    }\n",
       "\n",
       "    .dataframe tbody tr th {\n",
       "        vertical-align: top;\n",
       "    }\n",
       "\n",
       "    .dataframe thead th {\n",
       "        text-align: right;\n",
       "    }\n",
       "</style>\n",
       "<table border=\"1\" class=\"dataframe\">\n",
       "  <thead>\n",
       "    <tr style=\"text-align: right;\">\n",
       "      <th></th>\n",
       "      <th>Year</th>\n",
       "      <th>Country</th>\n",
       "      <th>GDP</th>\n",
       "      <th>exp_educ</th>\n",
       "      <th>life_expectancy</th>\n",
       "      <th>literacy_rate</th>\n",
       "      <th>control_cor</th>\n",
       "      <th>urban</th>\n",
       "      <th>unemployment</th>\n",
       "      <th>health_exp</th>\n",
       "    </tr>\n",
       "  </thead>\n",
       "  <tbody>\n",
       "    <tr>\n",
       "      <th>0</th>\n",
       "      <td>2009</td>\n",
       "      <td>China</td>\n",
       "      <td>-0.519457</td>\n",
       "      <td>8.375232</td>\n",
       "      <td>9.398726</td>\n",
       "      <td>13.513532</td>\n",
       "      <td>75.343</td>\n",
       "      <td>NaN</td>\n",
       "      <td>4.3</td>\n",
       "      <td>47.880</td>\n",
       "    </tr>\n",
       "    <tr>\n",
       "      <th>1</th>\n",
       "      <td>2010</td>\n",
       "      <td>China</td>\n",
       "      <td>-0.570010</td>\n",
       "      <td>8.750922</td>\n",
       "      <td>10.635871</td>\n",
       "      <td>13.552069</td>\n",
       "      <td>75.599</td>\n",
       "      <td>95.124481</td>\n",
       "      <td>4.1</td>\n",
       "      <td>49.226</td>\n",
       "    </tr>\n",
       "    <tr>\n",
       "      <th>2</th>\n",
       "      <td>2011</td>\n",
       "      <td>China</td>\n",
       "      <td>-0.514728</td>\n",
       "      <td>8.602850</td>\n",
       "      <td>9.550832</td>\n",
       "      <td>13.078095</td>\n",
       "      <td>75.903</td>\n",
       "      <td>NaN</td>\n",
       "      <td>4.1</td>\n",
       "      <td>50.511</td>\n",
       "    </tr>\n",
       "  </tbody>\n",
       "</table>\n",
       "</div>\n",
       "    <div class=\"colab-df-buttons\">\n",
       "\n",
       "  <div class=\"colab-df-container\">\n",
       "    <button class=\"colab-df-convert\" onclick=\"convertToInteractive('df-4e4a2b6c-83e1-46a9-ba33-887502d8e010')\"\n",
       "            title=\"Convert this dataframe to an interactive table.\"\n",
       "            style=\"display:none;\">\n",
       "\n",
       "  <svg xmlns=\"http://www.w3.org/2000/svg\" height=\"24px\" viewBox=\"0 -960 960 960\">\n",
       "    <path d=\"M120-120v-720h720v720H120Zm60-500h600v-160H180v160Zm220 220h160v-160H400v160Zm0 220h160v-160H400v160ZM180-400h160v-160H180v160Zm440 0h160v-160H620v160ZM180-180h160v-160H180v160Zm440 0h160v-160H620v160Z\"/>\n",
       "  </svg>\n",
       "    </button>\n",
       "\n",
       "  <style>\n",
       "    .colab-df-container {\n",
       "      display:flex;\n",
       "      gap: 12px;\n",
       "    }\n",
       "\n",
       "    .colab-df-convert {\n",
       "      background-color: #E8F0FE;\n",
       "      border: none;\n",
       "      border-radius: 50%;\n",
       "      cursor: pointer;\n",
       "      display: none;\n",
       "      fill: #1967D2;\n",
       "      height: 32px;\n",
       "      padding: 0 0 0 0;\n",
       "      width: 32px;\n",
       "    }\n",
       "\n",
       "    .colab-df-convert:hover {\n",
       "      background-color: #E2EBFA;\n",
       "      box-shadow: 0px 1px 2px rgba(60, 64, 67, 0.3), 0px 1px 3px 1px rgba(60, 64, 67, 0.15);\n",
       "      fill: #174EA6;\n",
       "    }\n",
       "\n",
       "    .colab-df-buttons div {\n",
       "      margin-bottom: 4px;\n",
       "    }\n",
       "\n",
       "    [theme=dark] .colab-df-convert {\n",
       "      background-color: #3B4455;\n",
       "      fill: #D2E3FC;\n",
       "    }\n",
       "\n",
       "    [theme=dark] .colab-df-convert:hover {\n",
       "      background-color: #434B5C;\n",
       "      box-shadow: 0px 1px 3px 1px rgba(0, 0, 0, 0.15);\n",
       "      filter: drop-shadow(0px 1px 2px rgba(0, 0, 0, 0.3));\n",
       "      fill: #FFFFFF;\n",
       "    }\n",
       "  </style>\n",
       "\n",
       "    <script>\n",
       "      const buttonEl =\n",
       "        document.querySelector('#df-4e4a2b6c-83e1-46a9-ba33-887502d8e010 button.colab-df-convert');\n",
       "      buttonEl.style.display =\n",
       "        google.colab.kernel.accessAllowed ? 'block' : 'none';\n",
       "\n",
       "      async function convertToInteractive(key) {\n",
       "        const element = document.querySelector('#df-4e4a2b6c-83e1-46a9-ba33-887502d8e010');\n",
       "        const dataTable =\n",
       "          await google.colab.kernel.invokeFunction('convertToInteractive',\n",
       "                                                    [key], {});\n",
       "        if (!dataTable) return;\n",
       "\n",
       "        const docLinkHtml = 'Like what you see? Visit the ' +\n",
       "          '<a target=\"_blank\" href=https://colab.research.google.com/notebooks/data_table.ipynb>data table notebook</a>'\n",
       "          + ' to learn more about interactive tables.';\n",
       "        element.innerHTML = '';\n",
       "        dataTable['output_type'] = 'display_data';\n",
       "        await google.colab.output.renderOutput(dataTable, element);\n",
       "        const docLink = document.createElement('div');\n",
       "        docLink.innerHTML = docLinkHtml;\n",
       "        element.appendChild(docLink);\n",
       "      }\n",
       "    </script>\n",
       "  </div>\n",
       "\n",
       "\n",
       "<div id=\"df-5511aba5-de4f-408a-ac1b-9229aaacb502\">\n",
       "  <button class=\"colab-df-quickchart\" onclick=\"quickchart('df-5511aba5-de4f-408a-ac1b-9229aaacb502')\"\n",
       "            title=\"Suggest charts\"\n",
       "            style=\"display:none;\">\n",
       "\n",
       "<svg xmlns=\"http://www.w3.org/2000/svg\" height=\"24px\"viewBox=\"0 0 24 24\"\n",
       "     width=\"24px\">\n",
       "    <g>\n",
       "        <path d=\"M19 3H5c-1.1 0-2 .9-2 2v14c0 1.1.9 2 2 2h14c1.1 0 2-.9 2-2V5c0-1.1-.9-2-2-2zM9 17H7v-7h2v7zm4 0h-2V7h2v10zm4 0h-2v-4h2v4z\"/>\n",
       "    </g>\n",
       "</svg>\n",
       "  </button>\n",
       "\n",
       "<style>\n",
       "  .colab-df-quickchart {\n",
       "      --bg-color: #E8F0FE;\n",
       "      --fill-color: #1967D2;\n",
       "      --hover-bg-color: #E2EBFA;\n",
       "      --hover-fill-color: #174EA6;\n",
       "      --disabled-fill-color: #AAA;\n",
       "      --disabled-bg-color: #DDD;\n",
       "  }\n",
       "\n",
       "  [theme=dark] .colab-df-quickchart {\n",
       "      --bg-color: #3B4455;\n",
       "      --fill-color: #D2E3FC;\n",
       "      --hover-bg-color: #434B5C;\n",
       "      --hover-fill-color: #FFFFFF;\n",
       "      --disabled-bg-color: #3B4455;\n",
       "      --disabled-fill-color: #666;\n",
       "  }\n",
       "\n",
       "  .colab-df-quickchart {\n",
       "    background-color: var(--bg-color);\n",
       "    border: none;\n",
       "    border-radius: 50%;\n",
       "    cursor: pointer;\n",
       "    display: none;\n",
       "    fill: var(--fill-color);\n",
       "    height: 32px;\n",
       "    padding: 0;\n",
       "    width: 32px;\n",
       "  }\n",
       "\n",
       "  .colab-df-quickchart:hover {\n",
       "    background-color: var(--hover-bg-color);\n",
       "    box-shadow: 0 1px 2px rgba(60, 64, 67, 0.3), 0 1px 3px 1px rgba(60, 64, 67, 0.15);\n",
       "    fill: var(--button-hover-fill-color);\n",
       "  }\n",
       "\n",
       "  .colab-df-quickchart-complete:disabled,\n",
       "  .colab-df-quickchart-complete:disabled:hover {\n",
       "    background-color: var(--disabled-bg-color);\n",
       "    fill: var(--disabled-fill-color);\n",
       "    box-shadow: none;\n",
       "  }\n",
       "\n",
       "  .colab-df-spinner {\n",
       "    border: 2px solid var(--fill-color);\n",
       "    border-color: transparent;\n",
       "    border-bottom-color: var(--fill-color);\n",
       "    animation:\n",
       "      spin 1s steps(1) infinite;\n",
       "  }\n",
       "\n",
       "  @keyframes spin {\n",
       "    0% {\n",
       "      border-color: transparent;\n",
       "      border-bottom-color: var(--fill-color);\n",
       "      border-left-color: var(--fill-color);\n",
       "    }\n",
       "    20% {\n",
       "      border-color: transparent;\n",
       "      border-left-color: var(--fill-color);\n",
       "      border-top-color: var(--fill-color);\n",
       "    }\n",
       "    30% {\n",
       "      border-color: transparent;\n",
       "      border-left-color: var(--fill-color);\n",
       "      border-top-color: var(--fill-color);\n",
       "      border-right-color: var(--fill-color);\n",
       "    }\n",
       "    40% {\n",
       "      border-color: transparent;\n",
       "      border-right-color: var(--fill-color);\n",
       "      border-top-color: var(--fill-color);\n",
       "    }\n",
       "    60% {\n",
       "      border-color: transparent;\n",
       "      border-right-color: var(--fill-color);\n",
       "    }\n",
       "    80% {\n",
       "      border-color: transparent;\n",
       "      border-right-color: var(--fill-color);\n",
       "      border-bottom-color: var(--fill-color);\n",
       "    }\n",
       "    90% {\n",
       "      border-color: transparent;\n",
       "      border-bottom-color: var(--fill-color);\n",
       "    }\n",
       "  }\n",
       "</style>\n",
       "\n",
       "  <script>\n",
       "    async function quickchart(key) {\n",
       "      const quickchartButtonEl =\n",
       "        document.querySelector('#' + key + ' button');\n",
       "      quickchartButtonEl.disabled = true;  // To prevent multiple clicks.\n",
       "      quickchartButtonEl.classList.add('colab-df-spinner');\n",
       "      try {\n",
       "        const charts = await google.colab.kernel.invokeFunction(\n",
       "            'suggestCharts', [key], {});\n",
       "      } catch (error) {\n",
       "        console.error('Error during call to suggestCharts:', error);\n",
       "      }\n",
       "      quickchartButtonEl.classList.remove('colab-df-spinner');\n",
       "      quickchartButtonEl.classList.add('colab-df-quickchart-complete');\n",
       "    }\n",
       "    (() => {\n",
       "      let quickchartButtonEl =\n",
       "        document.querySelector('#df-5511aba5-de4f-408a-ac1b-9229aaacb502 button');\n",
       "      quickchartButtonEl.style.display =\n",
       "        google.colab.kernel.accessAllowed ? 'block' : 'none';\n",
       "    })();\n",
       "  </script>\n",
       "</div>\n",
       "    </div>\n",
       "  </div>\n"
      ],
      "text/plain": [
       "   Year Country       GDP  exp_educ  life_expectancy  literacy_rate  \\\n",
       "0  2009   China -0.519457  8.375232         9.398726      13.513532   \n",
       "1  2010   China -0.570010  8.750922        10.635871      13.552069   \n",
       "2  2011   China -0.514728  8.602850         9.550832      13.078095   \n",
       "\n",
       "   control_cor      urban  unemployment  health_exp  \n",
       "0       75.343        NaN           4.3      47.880  \n",
       "1       75.599  95.124481           4.1      49.226  \n",
       "2       75.903        NaN           4.1      50.511  "
      ]
     },
     "execution_count": 434,
     "metadata": {},
     "output_type": "execute_result"
    }
   ],
   "source": [
    "df_pivot.rename(columns = {'Government expenditure on education, total (% of government expenditure) [SE.XPD.TOTL.GB.ZS]': 'exp_educ',\n",
    "                     'Control of Corruption: Estimate [CC.EST]': 'control_cor',\n",
    "                     'Literacy rate, adult total (% of people ages 15 and above) [SE.ADT.LITR.ZS]': 'literacy_rate',\n",
    "                     'GDP growth (annual %) [NY.GDP.MKTP.KD.ZG]': 'GDP',\n",
    "                     'Life expectancy at birth, total (years) [SP.DYN.LE00.IN]': 'life_expectancy',\n",
    "                           'Urban population (% of total population) [SP.URB.TOTL.IN.ZS]' : 'urban',\n",
    "                           'Unemployment, total (% of total labor force) (national estimate) [SL.UEM.TOTL.NE.ZS]' : 'unemployment',\n",
    "                           'Domestic general government health expenditure (% of general government expenditure) [SH.XPD.GHED.GE.ZS]': 'health_exp',\n",
    "                     'Time Code': 'Year', 'Country Name': 'Country'}, inplace = True)\n",
    "df_pivot.head(3)"
   ]
  },
  {
   "cell_type": "code",
   "execution_count": 435,
   "metadata": {
    "id": "GwgOt-wteo7Y"
   },
   "outputs": [],
   "source": [
    "df_pivot.set_index(['Country', 'Year'], inplace = True)"
   ]
  },
  {
   "cell_type": "code",
   "execution_count": 436,
   "metadata": {
    "colab": {
     "base_uri": "https://localhost:8080/"
    },
    "id": "YZ1-xjJSfAjj",
    "outputId": "2d377c55-16bd-451d-ab02-2bd01832015c"
   },
   "outputs": [
    {
     "data": {
      "text/plain": [
       "GDP                 3\n",
       "exp_educ            8\n",
       "life_expectancy     3\n",
       "literacy_rate       8\n",
       "control_cor         3\n",
       "urban              69\n",
       "unemployment        3\n",
       "health_exp          3\n",
       "dtype: int64"
      ]
     },
     "execution_count": 436,
     "metadata": {},
     "output_type": "execute_result"
    }
   ],
   "source": [
    "df_pivot.isna().sum()"
   ]
  },
  {
   "cell_type": "code",
   "execution_count": 437,
   "metadata": {
    "id": "Aea6A3b46ZGs"
   },
   "outputs": [],
   "source": [
    "df_pivot.drop(['urban'],axis=1,inplace=True) #Удаляем так как имеет много пропусков"
   ]
  },
  {
   "cell_type": "code",
   "execution_count": 438,
   "metadata": {
    "id": "0zkjSgnNfCvQ"
   },
   "outputs": [],
   "source": [
    "# заменим пропуски\n",
    "df_pivot.interpolate(axis = 0, inplace = True)"
   ]
  },
  {
   "cell_type": "code",
   "execution_count": 439,
   "metadata": {
    "id": "HuBaKC1IfW_v"
   },
   "outputs": [],
   "source": [
    "#сортируем данные по стране\n",
    "df_pivot.sort_values(by = ['Country', 'Year'], ascending=True, inplace = True)"
   ]
  },
  {
   "cell_type": "code",
   "execution_count": 440,
   "metadata": {
    "colab": {
     "base_uri": "https://localhost:8080/",
     "height": 300
    },
    "id": "DAnF9o-G641g",
    "outputId": "6c2639a2-34c7-4afb-b1c7-2ee6cf56a301"
   },
   "outputs": [
    {
     "data": {
      "application/vnd.google.colaboratory.intrinsic+json": {
       "summary": "{\n  \"name\": \"df_pivot\",\n  \"rows\": 73,\n  \"fields\": [\n    {\n      \"column\": \"GDP\",\n      \"properties\": {\n        \"dtype\": \"number\",\n        \"std\": 1.0628642058522042,\n        \"min\": -1.14130687713623,\n        \"max\": 1.89832532405853,\n        \"num_unique_values\": 72,\n        \"samples\": [\n          -0.35578978061676,\n          1.305992603302,\n          1.30437731742859\n        ],\n        \"semantic_type\": \"\",\n        \"description\": \"\"\n      }\n    },\n    {\n      \"column\": \"exp_educ\",\n      \"properties\": {\n        \"dtype\": \"number\",\n        \"std\": 4.886176773056929,\n        \"min\": 8.23,\n        \"max\": 22.6003418,\n        \"num_unique_values\": 71,\n        \"samples\": [\n          15.22846699,\n          8.37523174,\n          9.16\n        ],\n        \"semantic_type\": \"\",\n        \"description\": \"\"\n      }\n    },\n    {\n      \"column\": \"life_expectancy\",\n      \"properties\": {\n        \"dtype\": \"number\",\n        \"std\": 3.6721972827588036,\n        \"min\": -7.79999391271275,\n        \"max\": 10.635871065957176,\n        \"num_unique_values\": 72,\n        \"samples\": [\n          7.766150097359102,\n          1.8418753951868752,\n          0.5763266747717921\n        ],\n        \"semantic_type\": \"\",\n        \"description\": \"\"\n      }\n    },\n    {\n      \"column\": \"literacy_rate\",\n      \"properties\": {\n        \"dtype\": \"number\",\n        \"std\": 2.5957088772602797,\n        \"min\": 2.19599723815918,\n        \"max\": 16.0524635314941,\n        \"num_unique_values\": 70,\n        \"samples\": [\n          9.54689502716064,\n          13.5135316848755,\n          9.16541385650635\n        ],\n        \"semantic_type\": \"\",\n        \"description\": \"\"\n      }\n    },\n    {\n      \"column\": \"control_cor\",\n      \"properties\": {\n        \"dtype\": \"number\",\n        \"std\": 3.9728945168095287,\n        \"min\": 68.68463414634147,\n        \"max\": 82.8268292682927,\n        \"num_unique_values\": 70,\n        \"samples\": [\n          82.57560975609756,\n          75.343,\n          70.74365853658537\n        ],\n        \"semantic_type\": \"\",\n        \"description\": \"\"\n      }\n    },\n    {\n      \"column\": \"unemployment\",\n      \"properties\": {\n        \"dtype\": \"number\",\n        \"std\": 2.162342559626401,\n        \"min\": 3.1,\n        \"max\": 10.354,\n        \"num_unique_values\": 69,\n        \"samples\": [\n          8.01,\n          4.3,\n          5.571\n        ],\n        \"semantic_type\": \"\",\n        \"description\": \"\"\n      }\n    },\n    {\n      \"column\": \"health_exp\",\n      \"properties\": {\n        \"dtype\": \"number\",\n        \"std\": 9.490844559612091,\n        \"min\": 47.88,\n        \"max\": 83.084,\n        \"num_unique_values\": 72,\n        \"samples\": [\n          53.013,\n          81.299,\n          79.135\n        ],\n        \"semantic_type\": \"\",\n        \"description\": \"\"\n      }\n    }\n  ]\n}",
       "type": "dataframe",
       "variable_name": "df_pivot"
      },
      "text/html": [
       "\n",
       "  <div id=\"df-0bd98976-69ef-4b87-8962-2b33684ef299\" class=\"colab-df-container\">\n",
       "    <div>\n",
       "<style scoped>\n",
       "    .dataframe tbody tr th:only-of-type {\n",
       "        vertical-align: middle;\n",
       "    }\n",
       "\n",
       "    .dataframe tbody tr th {\n",
       "        vertical-align: top;\n",
       "    }\n",
       "\n",
       "    .dataframe thead th {\n",
       "        text-align: right;\n",
       "    }\n",
       "</style>\n",
       "<table border=\"1\" class=\"dataframe\">\n",
       "  <thead>\n",
       "    <tr style=\"text-align: right;\">\n",
       "      <th></th>\n",
       "      <th></th>\n",
       "      <th>GDP</th>\n",
       "      <th>exp_educ</th>\n",
       "      <th>life_expectancy</th>\n",
       "      <th>literacy_rate</th>\n",
       "      <th>control_cor</th>\n",
       "      <th>unemployment</th>\n",
       "      <th>health_exp</th>\n",
       "    </tr>\n",
       "    <tr>\n",
       "      <th>Country</th>\n",
       "      <th>Year</th>\n",
       "      <th></th>\n",
       "      <th></th>\n",
       "      <th></th>\n",
       "      <th></th>\n",
       "      <th></th>\n",
       "      <th></th>\n",
       "      <th></th>\n",
       "    </tr>\n",
       "  </thead>\n",
       "  <tbody>\n",
       "    <tr>\n",
       "      <th rowspan=\"7\" valign=\"top\">China</th>\n",
       "      <th>2009</th>\n",
       "      <td>-0.519457</td>\n",
       "      <td>8.375232</td>\n",
       "      <td>9.398726</td>\n",
       "      <td>13.513532</td>\n",
       "      <td>75.343</td>\n",
       "      <td>4.300000</td>\n",
       "      <td>47.880</td>\n",
       "    </tr>\n",
       "    <tr>\n",
       "      <th>2010</th>\n",
       "      <td>-0.570010</td>\n",
       "      <td>8.750922</td>\n",
       "      <td>10.635871</td>\n",
       "      <td>13.552069</td>\n",
       "      <td>75.599</td>\n",
       "      <td>4.100000</td>\n",
       "      <td>49.226</td>\n",
       "    </tr>\n",
       "    <tr>\n",
       "      <th>2011</th>\n",
       "      <td>-0.514728</td>\n",
       "      <td>8.602850</td>\n",
       "      <td>9.550832</td>\n",
       "      <td>13.078095</td>\n",
       "      <td>75.903</td>\n",
       "      <td>4.100000</td>\n",
       "      <td>50.511</td>\n",
       "    </tr>\n",
       "    <tr>\n",
       "      <th>2012</th>\n",
       "      <td>-0.438276</td>\n",
       "      <td>9.037293</td>\n",
       "      <td>7.863736</td>\n",
       "      <td>14.407168</td>\n",
       "      <td>76.192</td>\n",
       "      <td>4.100000</td>\n",
       "      <td>51.765</td>\n",
       "    </tr>\n",
       "    <tr>\n",
       "      <th>2013</th>\n",
       "      <td>-0.355790</td>\n",
       "      <td>9.416842</td>\n",
       "      <td>7.766150</td>\n",
       "      <td>13.315405</td>\n",
       "      <td>76.452</td>\n",
       "      <td>4.050000</td>\n",
       "      <td>53.013</td>\n",
       "    </tr>\n",
       "    <tr>\n",
       "      <th>2014</th>\n",
       "      <td>-0.337421</td>\n",
       "      <td>9.660886</td>\n",
       "      <td>7.425764</td>\n",
       "      <td>12.752611</td>\n",
       "      <td>76.717</td>\n",
       "      <td>4.100000</td>\n",
       "      <td>54.259</td>\n",
       "    </tr>\n",
       "    <tr>\n",
       "      <th>2015</th>\n",
       "      <td>-0.299674</td>\n",
       "      <td>9.419024</td>\n",
       "      <td>7.041329</td>\n",
       "      <td>12.259830</td>\n",
       "      <td>76.977</td>\n",
       "      <td>4.033333</td>\n",
       "      <td>55.500</td>\n",
       "    </tr>\n",
       "  </tbody>\n",
       "</table>\n",
       "</div>\n",
       "    <div class=\"colab-df-buttons\">\n",
       "\n",
       "  <div class=\"colab-df-container\">\n",
       "    <button class=\"colab-df-convert\" onclick=\"convertToInteractive('df-0bd98976-69ef-4b87-8962-2b33684ef299')\"\n",
       "            title=\"Convert this dataframe to an interactive table.\"\n",
       "            style=\"display:none;\">\n",
       "\n",
       "  <svg xmlns=\"http://www.w3.org/2000/svg\" height=\"24px\" viewBox=\"0 -960 960 960\">\n",
       "    <path d=\"M120-120v-720h720v720H120Zm60-500h600v-160H180v160Zm220 220h160v-160H400v160Zm0 220h160v-160H400v160ZM180-400h160v-160H180v160Zm440 0h160v-160H620v160ZM180-180h160v-160H180v160Zm440 0h160v-160H620v160Z\"/>\n",
       "  </svg>\n",
       "    </button>\n",
       "\n",
       "  <style>\n",
       "    .colab-df-container {\n",
       "      display:flex;\n",
       "      gap: 12px;\n",
       "    }\n",
       "\n",
       "    .colab-df-convert {\n",
       "      background-color: #E8F0FE;\n",
       "      border: none;\n",
       "      border-radius: 50%;\n",
       "      cursor: pointer;\n",
       "      display: none;\n",
       "      fill: #1967D2;\n",
       "      height: 32px;\n",
       "      padding: 0 0 0 0;\n",
       "      width: 32px;\n",
       "    }\n",
       "\n",
       "    .colab-df-convert:hover {\n",
       "      background-color: #E2EBFA;\n",
       "      box-shadow: 0px 1px 2px rgba(60, 64, 67, 0.3), 0px 1px 3px 1px rgba(60, 64, 67, 0.15);\n",
       "      fill: #174EA6;\n",
       "    }\n",
       "\n",
       "    .colab-df-buttons div {\n",
       "      margin-bottom: 4px;\n",
       "    }\n",
       "\n",
       "    [theme=dark] .colab-df-convert {\n",
       "      background-color: #3B4455;\n",
       "      fill: #D2E3FC;\n",
       "    }\n",
       "\n",
       "    [theme=dark] .colab-df-convert:hover {\n",
       "      background-color: #434B5C;\n",
       "      box-shadow: 0px 1px 3px 1px rgba(0, 0, 0, 0.15);\n",
       "      filter: drop-shadow(0px 1px 2px rgba(0, 0, 0, 0.3));\n",
       "      fill: #FFFFFF;\n",
       "    }\n",
       "  </style>\n",
       "\n",
       "    <script>\n",
       "      const buttonEl =\n",
       "        document.querySelector('#df-0bd98976-69ef-4b87-8962-2b33684ef299 button.colab-df-convert');\n",
       "      buttonEl.style.display =\n",
       "        google.colab.kernel.accessAllowed ? 'block' : 'none';\n",
       "\n",
       "      async function convertToInteractive(key) {\n",
       "        const element = document.querySelector('#df-0bd98976-69ef-4b87-8962-2b33684ef299');\n",
       "        const dataTable =\n",
       "          await google.colab.kernel.invokeFunction('convertToInteractive',\n",
       "                                                    [key], {});\n",
       "        if (!dataTable) return;\n",
       "\n",
       "        const docLinkHtml = 'Like what you see? Visit the ' +\n",
       "          '<a target=\"_blank\" href=https://colab.research.google.com/notebooks/data_table.ipynb>data table notebook</a>'\n",
       "          + ' to learn more about interactive tables.';\n",
       "        element.innerHTML = '';\n",
       "        dataTable['output_type'] = 'display_data';\n",
       "        await google.colab.output.renderOutput(dataTable, element);\n",
       "        const docLink = document.createElement('div');\n",
       "        docLink.innerHTML = docLinkHtml;\n",
       "        element.appendChild(docLink);\n",
       "      }\n",
       "    </script>\n",
       "  </div>\n",
       "\n",
       "\n",
       "<div id=\"df-c26c0be6-a784-46bd-97f2-b1a2cb3c441d\">\n",
       "  <button class=\"colab-df-quickchart\" onclick=\"quickchart('df-c26c0be6-a784-46bd-97f2-b1a2cb3c441d')\"\n",
       "            title=\"Suggest charts\"\n",
       "            style=\"display:none;\">\n",
       "\n",
       "<svg xmlns=\"http://www.w3.org/2000/svg\" height=\"24px\"viewBox=\"0 0 24 24\"\n",
       "     width=\"24px\">\n",
       "    <g>\n",
       "        <path d=\"M19 3H5c-1.1 0-2 .9-2 2v14c0 1.1.9 2 2 2h14c1.1 0 2-.9 2-2V5c0-1.1-.9-2-2-2zM9 17H7v-7h2v7zm4 0h-2V7h2v10zm4 0h-2v-4h2v4z\"/>\n",
       "    </g>\n",
       "</svg>\n",
       "  </button>\n",
       "\n",
       "<style>\n",
       "  .colab-df-quickchart {\n",
       "      --bg-color: #E8F0FE;\n",
       "      --fill-color: #1967D2;\n",
       "      --hover-bg-color: #E2EBFA;\n",
       "      --hover-fill-color: #174EA6;\n",
       "      --disabled-fill-color: #AAA;\n",
       "      --disabled-bg-color: #DDD;\n",
       "  }\n",
       "\n",
       "  [theme=dark] .colab-df-quickchart {\n",
       "      --bg-color: #3B4455;\n",
       "      --fill-color: #D2E3FC;\n",
       "      --hover-bg-color: #434B5C;\n",
       "      --hover-fill-color: #FFFFFF;\n",
       "      --disabled-bg-color: #3B4455;\n",
       "      --disabled-fill-color: #666;\n",
       "  }\n",
       "\n",
       "  .colab-df-quickchart {\n",
       "    background-color: var(--bg-color);\n",
       "    border: none;\n",
       "    border-radius: 50%;\n",
       "    cursor: pointer;\n",
       "    display: none;\n",
       "    fill: var(--fill-color);\n",
       "    height: 32px;\n",
       "    padding: 0;\n",
       "    width: 32px;\n",
       "  }\n",
       "\n",
       "  .colab-df-quickchart:hover {\n",
       "    background-color: var(--hover-bg-color);\n",
       "    box-shadow: 0 1px 2px rgba(60, 64, 67, 0.3), 0 1px 3px 1px rgba(60, 64, 67, 0.15);\n",
       "    fill: var(--button-hover-fill-color);\n",
       "  }\n",
       "\n",
       "  .colab-df-quickchart-complete:disabled,\n",
       "  .colab-df-quickchart-complete:disabled:hover {\n",
       "    background-color: var(--disabled-bg-color);\n",
       "    fill: var(--disabled-fill-color);\n",
       "    box-shadow: none;\n",
       "  }\n",
       "\n",
       "  .colab-df-spinner {\n",
       "    border: 2px solid var(--fill-color);\n",
       "    border-color: transparent;\n",
       "    border-bottom-color: var(--fill-color);\n",
       "    animation:\n",
       "      spin 1s steps(1) infinite;\n",
       "  }\n",
       "\n",
       "  @keyframes spin {\n",
       "    0% {\n",
       "      border-color: transparent;\n",
       "      border-bottom-color: var(--fill-color);\n",
       "      border-left-color: var(--fill-color);\n",
       "    }\n",
       "    20% {\n",
       "      border-color: transparent;\n",
       "      border-left-color: var(--fill-color);\n",
       "      border-top-color: var(--fill-color);\n",
       "    }\n",
       "    30% {\n",
       "      border-color: transparent;\n",
       "      border-left-color: var(--fill-color);\n",
       "      border-top-color: var(--fill-color);\n",
       "      border-right-color: var(--fill-color);\n",
       "    }\n",
       "    40% {\n",
       "      border-color: transparent;\n",
       "      border-right-color: var(--fill-color);\n",
       "      border-top-color: var(--fill-color);\n",
       "    }\n",
       "    60% {\n",
       "      border-color: transparent;\n",
       "      border-right-color: var(--fill-color);\n",
       "    }\n",
       "    80% {\n",
       "      border-color: transparent;\n",
       "      border-right-color: var(--fill-color);\n",
       "      border-bottom-color: var(--fill-color);\n",
       "    }\n",
       "    90% {\n",
       "      border-color: transparent;\n",
       "      border-bottom-color: var(--fill-color);\n",
       "    }\n",
       "  }\n",
       "</style>\n",
       "\n",
       "  <script>\n",
       "    async function quickchart(key) {\n",
       "      const quickchartButtonEl =\n",
       "        document.querySelector('#' + key + ' button');\n",
       "      quickchartButtonEl.disabled = true;  // To prevent multiple clicks.\n",
       "      quickchartButtonEl.classList.add('colab-df-spinner');\n",
       "      try {\n",
       "        const charts = await google.colab.kernel.invokeFunction(\n",
       "            'suggestCharts', [key], {});\n",
       "      } catch (error) {\n",
       "        console.error('Error during call to suggestCharts:', error);\n",
       "      }\n",
       "      quickchartButtonEl.classList.remove('colab-df-spinner');\n",
       "      quickchartButtonEl.classList.add('colab-df-quickchart-complete');\n",
       "    }\n",
       "    (() => {\n",
       "      let quickchartButtonEl =\n",
       "        document.querySelector('#df-c26c0be6-a784-46bd-97f2-b1a2cb3c441d button');\n",
       "      quickchartButtonEl.style.display =\n",
       "        google.colab.kernel.accessAllowed ? 'block' : 'none';\n",
       "    })();\n",
       "  </script>\n",
       "</div>\n",
       "    </div>\n",
       "  </div>\n"
      ],
      "text/plain": [
       "                   GDP  exp_educ  life_expectancy  literacy_rate  control_cor  \\\n",
       "Country Year                                                                    \n",
       "China   2009 -0.519457  8.375232         9.398726      13.513532       75.343   \n",
       "        2010 -0.570010  8.750922        10.635871      13.552069       75.599   \n",
       "        2011 -0.514728  8.602850         9.550832      13.078095       75.903   \n",
       "        2012 -0.438276  9.037293         7.863736      14.407168       76.192   \n",
       "        2013 -0.355790  9.416842         7.766150      13.315405       76.452   \n",
       "        2014 -0.337421  9.660886         7.425764      12.752611       76.717   \n",
       "        2015 -0.299674  9.419024         7.041329      12.259830       76.977   \n",
       "\n",
       "              unemployment  health_exp  \n",
       "Country Year                            \n",
       "China   2009      4.300000      47.880  \n",
       "        2010      4.100000      49.226  \n",
       "        2011      4.100000      50.511  \n",
       "        2012      4.100000      51.765  \n",
       "        2013      4.050000      53.013  \n",
       "        2014      4.100000      54.259  \n",
       "        2015      4.033333      55.500  "
      ]
     },
     "execution_count": 440,
     "metadata": {},
     "output_type": "execute_result"
    }
   ],
   "source": [
    "df_pivot.head(7)"
   ]
  },
  {
   "cell_type": "code",
   "execution_count": 441,
   "metadata": {
    "colab": {
     "base_uri": "https://localhost:8080/",
     "height": 1000
    },
    "id": "SkxvgBd5fepf",
    "outputId": "ade988af-1f20-42ab-8491-32297415d059"
   },
   "outputs": [
    {
     "data": {
      "image/png": "[encoded data removed]",
      "text/plain": [
       "<Figure size 700x150 with 1 Axes>"
      ]
     },
     "metadata": {},
     "output_type": "display_data"
    },
    {
     "data": {
      "image/png": "[encoded data removed]",
      "text/plain": [
       "<Figure size 700x150 with 1 Axes>"
      ]
     },
     "metadata": {},
     "output_type": "display_data"
    },
    {
     "data": {
      "image/png": "[encoded data removed]",
      "text/plain": [
       "<Figure size 700x150 with 1 Axes>"
      ]
     },
     "metadata": {},
     "output_type": "display_data"
    },
    {
     "data": {
      "image/png": "[encoded data removed]",
      "text/plain": [
       "<Figure size 700x150 with 1 Axes>"
      ]
     },
     "metadata": {},
     "output_type": "display_data"
    },
    {
     "data": {
      "image/png": "[encoded data removed]",
      "text/plain": [
       "<Figure size 700x150 with 1 Axes>"
      ]
     },
     "metadata": {},
     "output_type": "display_data"
    }
   ],
   "source": [
    "countries = ['China','France','United States','Germany', 'Russian Federation']\n",
    "for country in countries:\n",
    "  fig, ax = plt.subplots(figsize = (7,1.5))\n",
    "  df_pivot['life_expectancy'].loc[country].plot(kind = 'line', color = 'g')\n",
    "  plt.title(f'Средняя продолжительность жизни в {country}')\n",
    "  plt.show();"
   ]
  },
  {
   "cell_type": "markdown",
   "metadata": {
    "id": "fs8pxQFRkIBk"
   },
   "source": [
    "#**VIF тест**"
   ]
  },
  {
   "cell_type": "code",
   "execution_count": 416,
   "metadata": {
    "colab": {
     "base_uri": "https://localhost:8080/"
    },
    "id": "HupkNF9WkeJp",
    "outputId": "37abb8d7-e44f-4bcb-9f04-7a7c882172d6"
   },
   "outputs": [
    {
     "name": "stdout",
     "output_type": "stream",
     "text": [
      "GDP 1734.775523806762\n",
      "exp_educ 954.6819292283005\n",
      "life_expectancy 10.440226576828149\n",
      "literacy_rate 41.805438507539016\n",
      "control_cor 535.2688230472319\n",
      "unemployment 45.17894507174396\n",
      "health_exp 256.99327385996656\n"
     ]
    }
   ],
   "source": [
    "import statsmodels.api as sm\n",
    "from statsmodels.stats.outliers_influence import variance_inflation_factor\n",
    "\n",
    "vif = [variance_inflation_factor(df_pivot.corr().values, i) for i in range(df_pivot.corr().shape[1])]\n",
    "for i, j in enumerate(vif):\n",
    "  print(df_pivot.columns[i], j)"
   ]
  },
  {
   "cell_type": "markdown",
   "metadata": {
    "id": "Se-cgEExlYEU"
   },
   "source": [
    "VIF тест показал, что присутствует коллинеарность. Попробуем убрать некоторые показатели. Для того, чтобы понять, какие убирать, построим корреляционную матрицу."
   ]
  },
  {
   "cell_type": "code",
   "execution_count": 417,
   "metadata": {
    "colab": {
     "base_uri": "https://localhost:8080/",
     "height": 485
    },
    "id": "dmcAFcGdjik6",
    "outputId": "b5243ca9-ca9c-4a78-f50e-ceb29a057742"
   },
   "outputs": [
    {
     "data": {
      "image/png": "[encoded data removed]",
      "text/plain": [
       "<Figure size 700x400 with 2 Axes>"
      ]
     },
     "metadata": {},
     "output_type": "display_data"
    }
   ],
   "source": [
    "corr_matrix = df_pivot.corr()\n",
    "plt.figure(figsize = (7, 4))\n",
    "sns.heatmap(corr_matrix, annot = True, cmap = 'coolwarm', center = 0)\n",
    "plt.title('Корреляционная матрица для всего набора панельных данных')\n",
    "plt.show();"
   ]
  },
  {
   "cell_type": "markdown",
   "metadata": {
    "id": "xJmi25bMj5sV"
   },
   "source": [
    "Видим сильную положительную корреляцию между борьбой с коррупцией и ВВП, также расходы на здравоохранение сильно коррелирует с несколькими показателями, поэтому можно пренебречь ими(control_cor, health_exp).\n",
    "Также можем заметить, что другие показатели относительно одинаково влиют на продолжительность жизни."
   ]
  },
  {
   "cell_type": "code",
   "execution_count": 418,
   "metadata": {
    "colab": {
     "base_uri": "https://localhost:8080/"
    },
    "id": "Ktbg_tirnFUI",
    "outputId": "20cebfc2-f1e7-46eb-fcae-3f6c9049af1e"
   },
   "outputs": [
    {
     "name": "stdout",
     "output_type": "stream",
     "text": [
      "GDP 69.50955901626199\n",
      "exp_educ 101.74572057120717\n",
      "life_expectancy 11.55464735386939\n",
      "literacy_rate 11.39235472252474\n",
      "unemployment 6.981183541501419\n"
     ]
    }
   ],
   "source": [
    "df_pivot.drop(['control_cor','health_exp'],axis=1,inplace=True)\n",
    "vif = [variance_inflation_factor(df_pivot.corr().values, i) for i in range(df_pivot.corr().shape[1])]\n",
    "for i, j in enumerate(vif):\n",
    "  print(df_pivot.columns[i], j)"
   ]
  },
  {
   "cell_type": "code",
   "execution_count": 419,
   "metadata": {
    "colab": {
     "base_uri": "https://localhost:8080/",
     "height": 485
    },
    "id": "ZVqPj1A_jGad",
    "outputId": "669b4dc3-76d2-4a10-e44f-b2f2c00a5ba6"
   },
   "outputs": [
    {
     "data": {
      "image/png": "[encoded data removed]",
      "text/plain": [
       "<Figure size 700x400 with 2 Axes>"
      ]
     },
     "metadata": {},
     "output_type": "display_data"
    }
   ],
   "source": [
    "corr_matrix = df_pivot.corr()\n",
    "plt.figure(figsize = (7, 4))\n",
    "sns.heatmap(corr_matrix, annot = True, cmap = 'coolwarm', center = 0)\n",
    "plt.title('Корреляционная матрица для всего набора панельных данных')\n",
    "plt.show();"
   ]
  },
  {
   "cell_type": "code",
   "execution_count": 420,
   "metadata": {
    "colab": {
     "base_uri": "https://localhost:8080/"
    },
    "id": "WPHGbQoi8Veg",
    "outputId": "48967e92-dfc9-4a1f-d55b-2b6a909061d6"
   },
   "outputs": [
    {
     "name": "stdout",
     "output_type": "stream",
     "text": [
      "exp_educ 3.84327755775688\n",
      "life_expectancy 4.82767617482015\n",
      "literacy_rate 3.577432944473826\n",
      "unemployment 1.723824029359981\n"
     ]
    }
   ],
   "source": [
    "df_pivot.drop(['GDP'],axis=1,inplace=True)\n",
    "vif = [variance_inflation_factor(df_pivot.corr().values, i) for i in range(df_pivot.corr().shape[1])]\n",
    "for i, j in enumerate(vif):\n",
    "  print(df_pivot.columns[i], j)"
   ]
  },
  {
   "cell_type": "code",
   "execution_count": 421,
   "metadata": {
    "colab": {
     "base_uri": "https://localhost:8080/",
     "height": 391
    },
    "id": "VFeCP5c78f_W",
    "outputId": "0fdc8ae3-977e-4e01-f099-901181f88b25"
   },
   "outputs": [
    {
     "data": {
      "image/png": "[encoded data removed]",
      "text/plain": [
       "<Figure size 700x400 with 2 Axes>"
      ]
     },
     "metadata": {},
     "output_type": "display_data"
    }
   ],
   "source": [
    "corr_matrix = df_pivot.corr()\n",
    "plt.figure(figsize = (7, 4))\n",
    "sns.heatmap(corr_matrix, annot = True, cmap = 'coolwarm', center = 0)\n",
    "plt.title('Корреляционная матрица для всего набора панельных данных')\n",
    "plt.show();"
   ]
  },
  {
   "cell_type": "markdown",
   "metadata": {
    "id": "6ES38Y3fqvk6"
   },
   "source": [
    "#**Построение моделей**"
   ]
  },
  {
   "cell_type": "markdown",
   "metadata": {
    "id": "5JLqGDxQ_UFt"
   },
   "source": [
    "**Модель пула**"
   ]
  },
  {
   "cell_type": "markdown",
   "metadata": {
    "id": "o6pZF1ivCGl3"
   },
   "source": [
    "Построение модели без переменных 'control_cor',  'health_exp', 'GDP'"
   ]
  },
  {
   "cell_type": "code",
   "execution_count": 422,
   "metadata": {
    "id": "dSeAcP_ukF6m"
   },
   "outputs": [],
   "source": [
    "df_pivot = df_pivot.reset_index()\n",
    "df_pivot['Year'] = df_pivot['Year'].astype(int)\n",
    "df_pivot.set_index(['Country', 'Year'], inplace = True)\n",
    "x = ['exp_educ','literacy_rate','unemployment']\n",
    "X = sm.add_constant(df_pivot[x])\n",
    "y = df_pivot['life_expectancy']"
   ]
  },
  {
   "cell_type": "code",
   "execution_count": 423,
   "metadata": {
    "colab": {
     "base_uri": "https://localhost:8080/"
    },
    "id": "-abwwmITkSal",
    "outputId": "618d9947-67c3-4912-8076-047344eac117"
   },
   "outputs": [
    {
     "name": "stdout",
     "output_type": "stream",
     "text": [
      "                          PanelOLS Estimation Summary                           \n",
      "================================================================================\n",
      "Dep. Variable:        life_expectancy   R-squared:                        0.3696\n",
      "Estimator:                   PanelOLS   R-squared (Between):              0.7446\n",
      "No. Observations:                  73   R-squared (Within):               0.0766\n",
      "Date:                Mon, Jun 03 2024   R-squared (Overall):              0.3696\n",
      "Time:                        19:02:32   Log-likelihood                   -181.20\n",
      "Cov. Estimator:             Clustered                                           \n",
      "                                        F-statistic:                      13.483\n",
      "Entities:                           5   P-value                           0.0000\n",
      "Avg Obs:                       14.600   Distribution:                    F(3,69)\n",
      "Min Obs:                       14.000                                           \n",
      "Max Obs:                       15.000   F-statistic (robust):             5.2188\n",
      "                                        P-value                           0.0026\n",
      "Time periods:                      15   Distribution:                    F(3,69)\n",
      "Avg Obs:                       4.8667                                           \n",
      "Min Obs:                       3.0000                                           \n",
      "Max Obs:                       5.0000                                           \n",
      "                                                                                \n",
      "                               Parameter Estimates                               \n",
      "=================================================================================\n",
      "               Parameter  Std. Err.     T-stat    P-value    Lower CI    Upper CI\n",
      "---------------------------------------------------------------------------------\n",
      "const             3.6627     2.4813     1.4761     0.1445     -1.2874      8.6127\n",
      "exp_educ         -0.3452     0.1233    -2.7991     0.0066     -0.5913     -0.0992\n",
      "literacy_rate     0.5929     0.1634     3.6280     0.0005      0.2669      0.9189\n",
      "unemployment     -0.4758     0.1742    -2.7309     0.0080     -0.8234     -0.1282\n",
      "=================================================================================\n",
      "\n",
      "\n"
     ]
    }
   ],
   "source": [
    "pooled_model = PanelOLS(y, X, entity_effects = False, time_effects = False)\n",
    "pooled_model = pooled_model.fit(cov_type = 'clustered', cluster_entity = True)\n",
    "print(pooled_model)"
   ]
  },
  {
   "cell_type": "markdown",
   "metadata": {
    "id": "xgygZ8sC_YLF"
   },
   "source": [
    "Константа не является статистически значимой. Переменная \"exp_educ\" является статистически значимым и имеет отрицательный коэффициент. Это указывает на то, что увеличение расходов на обучение приводит к уменьшению продолжительности жизни. Переменная \"literacy_rate\" положительно сказывается на продолжительность жизни. Переменная 'unemployment' является статистически значимой и отрицательно влияет на продолжительность жинзи"
   ]
  },
  {
   "cell_type": "markdown",
   "metadata": {
    "id": "BxXzlkGGCYFn"
   },
   "source": [
    "Построение модели пула без переменных 'GDP', 'exp_educ'"
   ]
  },
  {
   "cell_type": "code",
   "execution_count": 442,
   "metadata": {
    "colab": {
     "base_uri": "https://localhost:8080/"
    },
    "id": "6sbhOjUiA5wW",
    "outputId": "4ac0cce7-0592-424e-f9ed-e0b28bf2da0f"
   },
   "outputs": [
    {
     "name": "stdout",
     "output_type": "stream",
     "text": [
      "life_expectancy 8.757606843510105\n",
      "literacy_rate 1.6900271466387453\n",
      "control_cor 2.1841797464492916\n",
      "unemployment 2.6356143281195195\n",
      "health_exp 8.815338108704704\n"
     ]
    }
   ],
   "source": [
    "df_pivot.drop(['GDP','exp_educ'],axis=1,inplace=True)\n",
    "vif = [variance_inflation_factor(df_pivot.corr().values, i) for i in range(df_pivot.corr().shape[1])]\n",
    "for i, j in enumerate(vif):\n",
    "  print(df_pivot.columns[i], j)"
   ]
  },
  {
   "cell_type": "markdown",
   "metadata": {
    "id": "n-zyxPL3C-UJ"
   },
   "source": [
    "FIV тест показал, что без переменных 'GDP' и 'exp_educ' отсутствует коллинеарность"
   ]
  },
  {
   "cell_type": "code",
   "execution_count": 443,
   "metadata": {
    "colab": {
     "base_uri": "https://localhost:8080/",
     "height": 485
    },
    "id": "vo8vGf-2A5s_",
    "outputId": "079e019f-c458-4f9b-bd4e-bd32637263aa"
   },
   "outputs": [
    {
     "data": {
      "image/png": "[encoded data removed]",
      "text/plain": [
       "<Figure size 700x400 with 2 Axes>"
      ]
     },
     "metadata": {},
     "output_type": "display_data"
    }
   ],
   "source": [
    "corr_matrix = df_pivot.corr()\n",
    "plt.figure(figsize = (7, 4))\n",
    "sns.heatmap(corr_matrix, annot = True, cmap = 'coolwarm', center = 0)\n",
    "plt.title('Корреляционная матрица для всего набора панельных данных')\n",
    "plt.show();"
   ]
  },
  {
   "cell_type": "code",
   "execution_count": 444,
   "metadata": {
    "id": "hFcHSwjCA5rG"
   },
   "outputs": [],
   "source": [
    "df_pivot = df_pivot.reset_index()\n",
    "df_pivot['Year'] = df_pivot['Year'].astype(int)\n",
    "df_pivot.set_index(['Country', 'Year'], inplace = True)\n",
    "x = ['control_cor','literacy_rate','unemployment','health_exp']\n",
    "X = sm.add_constant(df_pivot[x])\n",
    "y = df_pivot['life_expectancy']"
   ]
  },
  {
   "cell_type": "code",
   "execution_count": 445,
   "metadata": {
    "colab": {
     "base_uri": "https://localhost:8080/"
    },
    "id": "mQ5SSgb7A5pH",
    "outputId": "81119bf8-5a8b-4cb6-9e25-b32d4dc0b491"
   },
   "outputs": [
    {
     "name": "stdout",
     "output_type": "stream",
     "text": [
      "                          PanelOLS Estimation Summary                           \n",
      "================================================================================\n",
      "Dep. Variable:        life_expectancy   R-squared:                        0.4828\n",
      "Estimator:                   PanelOLS   R-squared (Between):              0.9716\n",
      "No. Observations:                  73   R-squared (Within):               0.1024\n",
      "Date:                Mon, Jun 03 2024   R-squared (Overall):              0.4828\n",
      "Time:                        19:05:29   Log-likelihood                   -173.97\n",
      "Cov. Estimator:             Clustered                                           \n",
      "                                        F-statistic:                      15.868\n",
      "Entities:                           5   P-value                           0.0000\n",
      "Avg Obs:                       14.600   Distribution:                    F(4,68)\n",
      "Min Obs:                       14.000                                           \n",
      "Max Obs:                       15.000   F-statistic (robust):             323.54\n",
      "                                        P-value                           0.0000\n",
      "Time periods:                      15   Distribution:                    F(4,68)\n",
      "Avg Obs:                       4.8667                                           \n",
      "Min Obs:                       3.0000                                           \n",
      "Max Obs:                       5.0000                                           \n",
      "                                                                                \n",
      "                               Parameter Estimates                               \n",
      "=================================================================================\n",
      "               Parameter  Std. Err.     T-stat    P-value    Lower CI    Upper CI\n",
      "---------------------------------------------------------------------------------\n",
      "const             6.7126     2.4798     2.7069     0.0086      1.7642      11.661\n",
      "control_cor       0.1345     0.0320     4.2020     0.0001      0.0706      0.1984\n",
      "literacy_rate     0.3295     0.0593     5.5551     0.0000      0.2111      0.4478\n",
      "unemployment     -0.2103     0.1382    -1.5216     0.1327     -0.4861      0.0655\n",
      "health_exp       -0.2343     0.0156    -15.020     0.0000     -0.2654     -0.2031\n",
      "=================================================================================\n",
      "\n",
      "\n"
     ]
    }
   ],
   "source": [
    "pooled_model = PanelOLS(y, X, entity_effects = False, time_effects = False)\n",
    "pooled_model = pooled_model.fit(cov_type = 'clustered', cluster_entity = True)\n",
    "print(pooled_model)"
   ]
  },
  {
   "cell_type": "markdown",
   "metadata": {
    "id": "xbCDoeLcDgKR"
   },
   "source": [
    "Если мы сравним две эти модели пула, то модель без переменных 'GDP' и \"exp_educ\" является лучше, так как значение R-квадрат больше. Первая модель пула объясняет 36.9% вариаций зависимой переменной, в то время как вторая модель - 48.2%"
   ]
  },
  {
   "cell_type": "markdown",
   "metadata": {
    "id": "-ie2tVejEddR"
   },
   "source": [
    "Все коэффициенты в этой модели являются статстически значимыми за исключением коэффициента переменной 'unemployment'"
   ]
  },
  {
   "cell_type": "markdown",
   "metadata": {
    "id": "XLUFWWWAFXcH"
   },
   "source": [
    "Спецификация модели:    \n",
    "$y = 6.7126 + 0.1345X_1+0.3295X_2-0.2343X_4$\n",
    "\n",
    "control_cor - $X_1$    \n",
    "literacy_rate - $X_2$    \n",
    "unemployment - $X_3$    \n",
    "health_exp - $X_4$     "
   ]
  },
  {
   "cell_type": "markdown",
   "metadata": {
    "id": "wncm3aJJHSWO"
   },
   "source": [
    "#**Модель с фиксированными эффектами**"
   ]
  },
  {
   "cell_type": "code",
   "execution_count": 446,
   "metadata": {
    "colab": {
     "base_uri": "https://localhost:8080/"
    },
    "id": "-Dbob-cnk6YK",
    "outputId": "a65f38f7-ba25-43d5-a754-9027dd6963ef"
   },
   "outputs": [
    {
     "name": "stdout",
     "output_type": "stream",
     "text": [
      "                          PanelOLS Estimation Summary                           \n",
      "================================================================================\n",
      "Dep. Variable:        life_expectancy   R-squared:                        0.1269\n",
      "Estimator:                   PanelOLS   R-squared (Between):              0.7681\n",
      "No. Observations:                  73   R-squared (Within):               0.1269\n",
      "Date:                Mon, Jun 03 2024   R-squared (Overall):              0.4046\n",
      "Time:                        19:05:42   Log-likelihood                   -172.02\n",
      "Cov. Estimator:            Unadjusted                                           \n",
      "                                        F-statistic:                      2.3253\n",
      "Entities:                           5   P-value                           0.0658\n",
      "Avg Obs:                       14.600   Distribution:                    F(4,64)\n",
      "Min Obs:                       14.000                                           \n",
      "Max Obs:                       15.000   F-statistic (robust):             2.3253\n",
      "                                        P-value                           0.0658\n",
      "Time periods:                      15   Distribution:                    F(4,64)\n",
      "Avg Obs:                       4.8667                                           \n",
      "Min Obs:                       3.0000                                           \n",
      "Max Obs:                       5.0000                                           \n",
      "                                                                                \n",
      "                               Parameter Estimates                               \n",
      "=================================================================================\n",
      "               Parameter  Std. Err.     T-stat    P-value    Lower CI    Upper CI\n",
      "---------------------------------------------------------------------------------\n",
      "const            -3.8406     22.926    -0.1675     0.8675     -49.641      41.960\n",
      "control_cor       0.3623     0.3354     1.0802     0.2841     -0.3078      1.0324\n",
      "literacy_rate     0.1734     0.2762     0.6277     0.5324     -0.3785      0.7253\n",
      "unemployment     -0.4556     0.2310    -1.9727     0.0529     -0.9171      0.0058\n",
      "health_exp       -0.2878     0.1802    -1.5973     0.1151     -0.6479      0.0722\n",
      "=================================================================================\n",
      "\n",
      "F-test for Poolability: 0.8784\n",
      "P-value: 0.4820\n",
      "Distribution: F(4,64)\n",
      "\n",
      "Included effects: Entity\n"
     ]
    }
   ],
   "source": [
    "fix_model = PanelOLS(y, X, entity_effects = True).fit()\n",
    "print(fix_model)"
   ]
  },
  {
   "cell_type": "markdown",
   "metadata": {
    "id": "5rNzDNo5HdeW"
   },
   "source": [
    "Для этой модели все коэффициенты не значимы. Это может указывать на неправильный подбор стран. Попробуем построить модель без данных Франции и Германии"
   ]
  },
  {
   "cell_type": "code",
   "execution_count": 447,
   "metadata": {
    "id": "25M1cud-wnv3"
   },
   "outputs": [],
   "source": [
    "new_df = df_pivot.drop(['France','Germany'], level='Country')"
   ]
  },
  {
   "cell_type": "code",
   "execution_count": 455,
   "metadata": {
    "id": "_0oolfdgIvlx"
   },
   "outputs": [],
   "source": [
    "x = ['control_cor','literacy_rate','unemployment','health_exp']\n",
    "X = sm.add_constant(new_df[x])\n",
    "y = new_df['life_expectancy']"
   ]
  },
  {
   "cell_type": "markdown",
   "metadata": {
    "id": "IoFLId_NMf6K"
   },
   "source": [
    "**Модель пула без данных Франции и Германии**"
   ]
  },
  {
   "cell_type": "code",
   "execution_count": 449,
   "metadata": {
    "colab": {
     "base_uri": "https://localhost:8080/"
    },
    "id": "crDnNt-jJaDR",
    "outputId": "29fe125f-b410-4e70-984f-493ae5bc33c9"
   },
   "outputs": [
    {
     "name": "stdout",
     "output_type": "stream",
     "text": [
      "                          PanelOLS Estimation Summary                           \n",
      "================================================================================\n",
      "Dep. Variable:        life_expectancy   R-squared:                        0.6251\n",
      "Estimator:                   PanelOLS   R-squared (Between):              0.9974\n",
      "No. Observations:                  43   R-squared (Within):               0.2323\n",
      "Date:                Mon, Jun 03 2024   R-squared (Overall):              0.6251\n",
      "Time:                        19:05:45   Log-likelihood                   -97.138\n",
      "Cov. Estimator:             Clustered                                           \n",
      "                                        F-statistic:                      15.837\n",
      "Entities:                           3   P-value                           0.0000\n",
      "Avg Obs:                       14.333   Distribution:                    F(4,38)\n",
      "Min Obs:                       14.000                                           \n",
      "Max Obs:                       15.000   F-statistic (robust):          8.047e+14\n",
      "                                        P-value                           0.0000\n",
      "Time periods:                      15   Distribution:                    F(4,38)\n",
      "Avg Obs:                       2.8667                                           \n",
      "Min Obs:                       1.0000                                           \n",
      "Max Obs:                       3.0000                                           \n",
      "                                                                                \n",
      "                               Parameter Estimates                               \n",
      "=================================================================================\n",
      "               Parameter  Std. Err.     T-stat    P-value    Lower CI    Upper CI\n",
      "---------------------------------------------------------------------------------\n",
      "const             9.8371     1.0856     9.0617     0.0000      7.6395      12.035\n",
      "control_cor       0.1049     0.0103     10.190     0.0000      0.0840      0.1257\n",
      "literacy_rate     0.3089     0.0137     22.597     0.0000      0.2813      0.3366\n",
      "unemployment     -0.5945     0.0685    -8.6724     0.0000     -0.7332     -0.4557\n",
      "health_exp       -0.2119     0.0027    -78.296     0.0000     -0.2174     -0.2064\n",
      "=================================================================================\n",
      "\n",
      "\n"
     ]
    }
   ],
   "source": [
    "pooled_model = PanelOLS(y, X, entity_effects = False, time_effects = False)\n",
    "pooled_model = pooled_model.fit(cov_type = 'clustered', cluster_entity = True)\n",
    "print(pooled_model)"
   ]
  },
  {
   "cell_type": "markdown",
   "metadata": {
    "id": "q8yBYPgqMm3y"
   },
   "source": [
    "Спецификация модели:    \n",
    "$y = 9.8371 + 0.1049X_1+0.3089X_2-0.5945X_3-0.2119X_4 + \\epsilon_{it}$\n",
    "\n",
    "control_cor - $X_1$    \n",
    "literacy_rate - $X_2$    \n",
    "unemployment - $X_3$    \n",
    "health_exp - $X_4$"
   ]
  },
  {
   "cell_type": "markdown",
   "metadata": {
    "id": "6uCGJzyGNBos"
   },
   "source": [
    "После удаления, коэффициент unemployment стал значимым"
   ]
  },
  {
   "cell_type": "markdown",
   "metadata": {
    "id": "hawaHcGaPGUA"
   },
   "source": [
    "**Модель с фиксированными эффектами после удаления данных Франции и Германии**"
   ]
  },
  {
   "cell_type": "code",
   "execution_count": 450,
   "metadata": {
    "colab": {
     "base_uri": "https://localhost:8080/"
    },
    "id": "0FLjU8apJ92x",
    "outputId": "a504ecde-7f8c-470d-db05-d7b9bb4a1400"
   },
   "outputs": [
    {
     "name": "stdout",
     "output_type": "stream",
     "text": [
      "                          PanelOLS Estimation Summary                           \n",
      "================================================================================\n",
      "Dep. Variable:        life_expectancy   R-squared:                        0.2633\n",
      "Estimator:                   PanelOLS   R-squared (Between):              0.5557\n",
      "No. Observations:                  43   R-squared (Within):               0.2633\n",
      "Date:                Mon, Jun 03 2024   R-squared (Overall):              0.4128\n",
      "Time:                        19:05:48   Log-likelihood                   -96.173\n",
      "Cov. Estimator:            Unadjusted                                           \n",
      "                                        F-statistic:                      3.2161\n",
      "Entities:                           3   P-value                           0.0235\n",
      "Avg Obs:                       14.333   Distribution:                    F(4,36)\n",
      "Min Obs:                       14.000                                           \n",
      "Max Obs:                       15.000   F-statistic (robust):             3.2161\n",
      "                                        P-value                           0.0235\n",
      "Time periods:                      15   Distribution:                    F(4,36)\n",
      "Avg Obs:                       2.8667                                           \n",
      "Min Obs:                       1.0000                                           \n",
      "Max Obs:                       3.0000                                           \n",
      "                                                                                \n",
      "                               Parameter Estimates                               \n",
      "=================================================================================\n",
      "               Parameter  Std. Err.     T-stat    P-value    Lower CI    Upper CI\n",
      "---------------------------------------------------------------------------------\n",
      "const             42.116     27.617     1.5250     0.1360     -13.894      98.126\n",
      "control_cor      -0.3480     0.4357    -0.7988     0.4297     -1.2316      0.5356\n",
      "literacy_rate     0.2274     0.2559     0.8886     0.3801     -0.2916      0.7463\n",
      "unemployment     -0.6369     0.2554    -2.4931     0.0174     -1.1549     -0.1188\n",
      "health_exp       -0.1678     0.1782    -0.9418     0.3526     -0.5291      0.1935\n",
      "=================================================================================\n",
      "\n",
      "F-test for Poolability: 0.8259\n",
      "P-value: 0.4460\n",
      "Distribution: F(2,36)\n",
      "\n",
      "Included effects: Entity\n"
     ]
    }
   ],
   "source": [
    "fix_model = PanelOLS(y, X, entity_effects = True).fit()\n",
    "print(fix_model)"
   ]
  },
  {
   "cell_type": "markdown",
   "metadata": {
    "id": "TME_VN_bNhRO"
   },
   "source": [
    "Коэффициенты остались незначимыми, кроме unemployment\n",
    "\n",
    "Спецификация модели:    \n",
    "$y = -0.6369X_3+\\epsilon_{it}$"
   ]
  },
  {
   "cell_type": "markdown",
   "metadata": {
    "id": "L459ntIrPP6j"
   },
   "source": [
    "**Модель со случайными эффектами**"
   ]
  },
  {
   "cell_type": "code",
   "execution_count": 456,
   "metadata": {
    "colab": {
     "base_uri": "https://localhost:8080/"
    },
    "id": "7CO_cJKjMMiI",
    "outputId": "89c62de6-ab04-4864-b39d-e831af9d5248"
   },
   "outputs": [
    {
     "name": "stdout",
     "output_type": "stream",
     "text": [
      "                          PanelOLS Estimation Summary                           \n",
      "================================================================================\n",
      "Dep. Variable:        life_expectancy   R-squared:                        0.4510\n",
      "Estimator:                   PanelOLS   R-squared (Between):              0.8771\n",
      "No. Observations:                  43   R-squared (Within):               0.2243\n",
      "Date:                Mon, Jun 03 2024   R-squared (Overall):              0.5579\n",
      "Time:                        19:06:55   Log-likelihood                   -68.203\n",
      "Cov. Estimator:            Unadjusted                                           \n",
      "                                        F-statistic:                      4.5182\n",
      "Entities:                           3   P-value                           0.0081\n",
      "Avg Obs:                       14.333   Distribution:                    F(4,22)\n",
      "Min Obs:                       14.000                                           \n",
      "Max Obs:                       15.000   F-statistic (robust):             4.5182\n",
      "                                        P-value                           0.0081\n",
      "Time periods:                      15   Distribution:                    F(4,22)\n",
      "Avg Obs:                       2.8667                                           \n",
      "Min Obs:                       1.0000                                           \n",
      "Max Obs:                       3.0000                                           \n",
      "                                                                                \n",
      "                               Parameter Estimates                               \n",
      "=================================================================================\n",
      "               Parameter  Std. Err.     T-stat    P-value    Lower CI    Upper CI\n",
      "---------------------------------------------------------------------------------\n",
      "const             16.560     31.435     0.5268     0.6036     -48.632      81.753\n",
      "control_cor       0.0701     0.4022     0.1742     0.8633     -0.7641      0.9042\n",
      "literacy_rate    -0.0049     0.2065    -0.0238     0.9812     -0.4331      0.4233\n",
      "unemployment     -0.6649     0.4009    -1.6586     0.1114     -1.4963      0.1665\n",
      "health_exp       -0.2099     0.2033    -1.0322     0.3132     -0.6315      0.2118\n",
      "=================================================================================\n",
      "\n",
      "F-test for Poolability: 3.9066\n",
      "P-value: 0.0018\n",
      "Distribution: F(16,22)\n",
      "\n",
      "Included effects: Entity, Time\n"
     ]
    }
   ],
   "source": [
    "random_effect_model = PanelOLS(y, X, entity_effects = True, time_effects = True).fit()\n",
    "print(random_effect_model)"
   ]
  },
  {
   "cell_type": "markdown",
   "metadata": {
    "id": "cOQAEt5GW3Ft"
   },
   "source": [
    "Все коэффициенты незначимы.\n",
    "\n"
   ]
  },
  {
   "cell_type": "code",
   "execution_count": 452,
   "metadata": {
    "colab": {
     "base_uri": "https://localhost:8080/"
    },
    "id": "h2CK2Ju2XrIb",
    "outputId": "b7f581f4-184e-4190-9826-de98f3564032"
   },
   "outputs": [
    {
     "name": "stdout",
     "output_type": "stream",
     "text": [
      "                          PanelOLS Estimation Summary                           \n",
      "================================================================================\n",
      "Dep. Variable:        life_expectancy   R-squared:                        0.4244\n",
      "Estimator:                   PanelOLS   R-squared (Between):              0.4081\n",
      "No. Observations:                  43   R-squared (Within):               0.1095\n",
      "Date:                Mon, Jun 03 2024   R-squared (Overall):              0.2631\n",
      "Time:                        19:05:53   Log-likelihood                   -69.220\n",
      "Cov. Estimator:            Unadjusted                                           \n",
      "                                        F-statistic:                      5.6530\n",
      "Entities:                           3   P-value                           0.0047\n",
      "Avg Obs:                       14.333   Distribution:                    F(3,23)\n",
      "Min Obs:                       14.000                                           \n",
      "Max Obs:                       15.000   F-statistic (robust):             5.6530\n",
      "                                        P-value                           0.0047\n",
      "Time periods:                      15   Distribution:                    F(3,23)\n",
      "Avg Obs:                       2.8667                                           \n",
      "Min Obs:                       1.0000                                           \n",
      "Max Obs:                       3.0000                                           \n",
      "                                                                                \n",
      "                               Parameter Estimates                               \n",
      "=================================================================================\n",
      "               Parameter  Std. Err.     T-stat    P-value    Lower CI    Upper CI\n",
      "---------------------------------------------------------------------------------\n",
      "const             3.2721     28.719     0.1139     0.9103     -56.138      62.682\n",
      "control_cor       0.0654     0.4027     0.1625     0.8723     -0.7677      0.8986\n",
      "literacy_rate     0.0184     0.2055     0.0895     0.9294     -0.4067      0.4435\n",
      "unemployment     -0.9473     0.2935    -3.2279     0.0037     -1.5543     -0.3402\n",
      "=================================================================================\n",
      "\n",
      "F-test for Poolability: 8.2884\n",
      "P-value: 0.0000\n",
      "Distribution: F(16,23)\n",
      "\n",
      "Included effects: Entity, Time\n"
     ]
    }
   ],
   "source": [
    "x = ['control_cor','literacy_rate','unemployment']\n",
    "X = sm.add_constant(new_df[x])\n",
    "y = new_df['life_expectancy']\n",
    "random_effect_model = PanelOLS(y, X, entity_effects = True, time_effects = True).fit()\n",
    "print(random_effect_model)"
   ]
  },
  {
   "cell_type": "markdown",
   "metadata": {
    "id": "omX_tG5uZk62"
   },
   "source": [
    "Я построил модель без переменной 'health_exp', вследтсвии чего коэффициент unemployment стал значимым    \n",
    "\n",
    "\n",
    "Спецификация модели:    \n",
    "$y = -0.9473X_3+\\epsilon_{it}$"
   ]
  },
  {
   "cell_type": "markdown",
   "metadata": {
    "id": "cauNrAoJa8JV"
   },
   "source": [
    "#**Выбор модели**"
   ]
  },
  {
   "cell_type": "code",
   "execution_count": 460,
   "metadata": {
    "colab": {
     "base_uri": "https://localhost:8080/"
    },
    "id": "gj6b77zcYej-",
    "outputId": "d13be284-6191-4711-b49e-c284107b4195"
   },
   "outputs": [
    {
     "name": "stdout",
     "output_type": "stream",
     "text": [
      "статистика Хаусмана = 2.539\n",
      "критическое chi2 = 9.488\n",
      "Модель со случайными эффектами\n"
     ]
    }
   ],
   "source": [
    "def hausman_test(fix_model, random_effect_model):\n",
    "    fix_params = fix_model.params\n",
    "    random_effect_params = random_effect_model.params\n",
    "\n",
    "    diff_params = fix_params - random_effect_params\n",
    "    vcov_fe = fix_model.cov\n",
    "    vcov_diff = vcov_fe - random_effect_model.cov\n",
    "\n",
    "    test_stat = diff_params.dot(np.linalg.inv(vcov_diff)).dot(diff_params)\n",
    "    chi_krit = chi2.ppf(0.95, len(b_diff))\n",
    "    print(f'статистика Хаусмана = {test_stat:.3f}')\n",
    "    print(f'критическое chi2 = {chi_krit:.3f}')\n",
    "    if test_stat > chi_krit:\n",
    "        print('Модель с фиксированными эффектами')\n",
    "    else:\n",
    "        print('Модель со случайными эффектами')\n",
    "\n",
    "# Сравнение моделей\n",
    "hausman_test(fix_model, random_effect_model)"
   ]
  },
  {
   "cell_type": "markdown",
   "metadata": {
    "id": "NyVLMsdgg79V"
   },
   "source": [
    "Теперь сравним модель со случайныим эффектмами с моделью пула"
   ]
  },
  {
   "cell_type": "code",
   "execution_count": 478,
   "metadata": {
    "colab": {
     "base_uri": "https://localhost:8080/"
    },
    "id": "BJmRz0lKcasI",
    "outputId": "f3f6522f-d677-40c5-adee-a2d0839b8316"
   },
   "outputs": [
    {
     "name": "stdout",
     "output_type": "stream",
     "text": [
      "                        Model Comparison                       \n",
      "===============================================================\n",
      "                                 Pooled OLS      Random effects\n",
      "---------------------------------------------------------------\n",
      "Dep. Variable               life_expectancy     life_expectancy\n",
      "Estimator                          PanelOLS            PanelOLS\n",
      "No. Observations                         43                  43\n",
      "Cov. Est.                         Clustered          Unadjusted\n",
      "R-squared                            0.6251              0.4510\n",
      "R-Squared (Within)                   0.2323              0.2243\n",
      "R-Squared (Between)                  0.9974              0.8771\n",
      "R-Squared (Overall)                  0.6251              0.5579\n",
      "F-statistic                          15.837              4.5182\n",
      "P-value (F-stat)                     0.0000              0.0081\n",
      "=====================     =================   =================\n",
      "const                                9.8371              16.560\n",
      "                                   (9.0617)            (0.5268)\n",
      "control_cor                          0.1049              0.0701\n",
      "                                   (10.190)            (0.1742)\n",
      "literacy_rate                        0.3089             -0.0049\n",
      "                                   (22.597)           (-0.0238)\n",
      "unemployment                        -0.5945             -0.6649\n",
      "                                  (-8.6724)           (-1.6586)\n",
      "health_exp                          -0.2119             -0.2099\n",
      "                                  (-78.296)           (-1.0322)\n",
      "======================= =================== ===================\n",
      "Effects                                                  Entity\n",
      "                                                           Time\n",
      "---------------------------------------------------------------\n",
      "\n",
      "T-stats reported in parentheses\n"
     ]
    }
   ],
   "source": [
    "from linearmodels.panel import compare\n",
    "print(compare({'Pooled OLS': pooled_model,'Random effects': random_effect_model}))"
   ]
  },
  {
   "cell_type": "code",
   "execution_count": 479,
   "metadata": {
    "colab": {
     "base_uri": "https://localhost:8080/"
    },
    "id": "u1fOc3mpigeo",
    "outputId": "1c6a1f48-2e47-462b-e586-4c7ad419e0cf"
   },
   "outputs": [
    {
     "name": "stdout",
     "output_type": "stream",
     "text": [
      "LM = 21.429\n",
      "есть индивидуальные эффекты \n"
     ]
    }
   ],
   "source": [
    "LM = N*T/(2*(T-1)) * (sum(pooled_model.resids)**2 / pooled_model.resid_ss - 1)**2\n",
    "print(f'LM = {LM:.3f}')\n",
    "if LM > 3.84:  # при 0.05% уровне значимости хи2 распределение с 1 степенью свободы\n",
    "  print('есть индивидуальные эффекты ')\n",
    "else:\n",
    "  print('объединенная модель')"
   ]
  },
  {
   "cell_type": "markdown",
   "metadata": {
    "id": "oDosnoU_n-fz"
   },
   "source": [
    "#**Сравнение моделей**"
   ]
  },
  {
   "cell_type": "markdown",
   "metadata": {
    "id": "_iYQxhgEoFV2"
   },
   "source": [
    "Таким образом, после исследования трех рахных моделей для панельных данных и последующего сравнения, можно сделать вывод, что модель со случайными эффектами является лучшей моделью. Это подтверждается статистикой Хаусмана, а также, при проведения теста Бройша-Пагана, нулевая гипотеза отвергается, что значит, что модель со случайными эффектами подходит больше всего    \n",
    "\n",
    "Однако хочу заметить, что для модели пула коэффициенты детерминации (внутригрупповой, межгрупповой, общий) выше, чем для модели со случайными эффектами, что может лучше объяснять вариацию зависимой переменной. Также спецификация модели пула имеет больше переменных."
   ]
  },
  {
   "cell_type": "code",
   "execution_count": null,
   "metadata": {
    "id": "_P9yqx-tnTfK"
   },
   "outputs": [],
   "source": []
  }
 ],
 "metadata": {
  "colab": {
   "provenance": []
  },
  "kernelspec": {
   "display_name": "Python 3 (ipykernel)",
   "language": "python",
   "name": "python3"
  },
  "language_info": {
   "codemirror_mode": {
    "name": "ipython",
    "version": 3
   },
   "file_extension": ".py",
   "mimetype": "text/x-python",
   "name": "python",
   "nbconvert_exporter": "python",
   "pygments_lexer": "ipython3",
   "version": "3.9.13"
  }
 },
 "nbformat": 4,
 "nbformat_minor": 1
}
