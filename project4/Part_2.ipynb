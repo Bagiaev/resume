{
 "cells": [
  {
   "cell_type": "markdown",
   "id": "3a564d5f",
   "metadata": {},
   "source": [
    "#  Использование предобученных моделей для классификации изображений\n",
    "\n",
    "* Deep Learning with PyTorch (2020) Авторы: Eli Stevens, Luca Antiga, Thomas Viehmann \n",
    "* https://pytorch.org/vision/0.16/transforms.html#v2-api-reference-recommended\n",
    "* https://pytorch.org/vision/main/generated/torchvision.datasets.ImageFolder.html\n",
    "* https://pytorch.org/vision/stable/models.html\n",
    "* https://albumentations.ai/docs/getting_started/image_augmentation/"
   ]
  },
  {
   "cell_type": "code",
   "execution_count": 1,
   "id": "557d6950",
   "metadata": {
    "execution": {
     "iopub.execute_input": "2024-11-08T09:42:48.922146Z",
     "iopub.status.busy": "2024-11-08T09:42:48.920629Z",
     "iopub.status.idle": "2024-11-08T09:42:52.053556Z",
     "shell.execute_reply": "2024-11-08T09:42:52.052230Z",
     "shell.execute_reply.started": "2024-11-08T09:42:48.922079Z"
    },
    "tags": []
   },
   "outputs": [
    {
     "name": "stdout",
     "output_type": "stream",
     "text": [
      "cuda\n"
     ]
    }
   ],
   "source": [
    "import matplotlib.pyplot as plt\n",
    "from torchvision import datasets, transforms\n",
    "import torchvision\n",
    "import torch\n",
    "import torch.nn as nn\n",
    "import torch.optim as optim\n",
    "from torch.utils.data import Dataset, DataLoader, random_split\n",
    "import torch.nn.functional as F\n",
    "from tqdm.auto import tqdm\n",
    "from sklearn import metrics\n",
    "import seaborn as sns\n",
    "import pandas as pd\n",
    "\n",
    "DEVICE = \"cuda\" if torch.cuda.is_available() else \"cpu\"\n",
    "print(DEVICE)"
   ]
  },
  {
   "cell_type": "code",
   "execution_count": 2,
   "id": "79b240bc",
   "metadata": {
    "execution": {
     "iopub.execute_input": "2024-11-08T09:42:52.056489Z",
     "iopub.status.busy": "2024-11-08T09:42:52.055553Z",
     "iopub.status.idle": "2024-11-08T09:42:52.097099Z",
     "shell.execute_reply": "2024-11-08T09:42:52.095734Z",
     "shell.execute_reply.started": "2024-11-08T09:42:52.056453Z"
    },
    "tags": []
   },
   "outputs": [],
   "source": [
    "def calculate_accuracy(predictions, grs):\n",
    "    \"\"\"Multiclass problem accuracy\"\"\"\n",
    "    predictions = torch.softmax(predictions, dim=1)\n",
    "    predictions = torch.argmax(predictions, dim=1)\n",
    "    return (torch.sum(predictions == grs) / len(grs)).item()"
   ]
  },
  {
   "cell_type": "code",
   "execution_count": 3,
   "id": "73370478",
   "metadata": {
    "execution": {
     "iopub.execute_input": "2024-11-08T09:42:52.099891Z",
     "iopub.status.busy": "2024-11-08T09:42:52.098347Z",
     "iopub.status.idle": "2024-11-08T09:42:52.134879Z",
     "shell.execute_reply": "2024-11-08T09:42:52.133510Z",
     "shell.execute_reply.started": "2024-11-08T09:42:52.099841Z"
    },
    "tags": []
   },
   "outputs": [],
   "source": [
    "import torch\n",
    "from tqdm import tqdm\n",
    "\n",
    "def classification_loop(train_loader, test_loader, model, criterion, optimizer, epochs, device=\"cuda\"):\n",
    "    \"\"\"Training loop for c-class classification problem with optimized CUDA memory management.\"\"\"\n",
    "    train_loss_history = []\n",
    "    test_loss_history = []\n",
    "\n",
    "    for epoch in tqdm(range(epochs)):\n",
    "        train_loss = 0.0\n",
    "        train_acc = 0.0\n",
    "        test_loss = 0.0\n",
    "        test_acc = 0.0\n",
    "\n",
    "        # Training phase\n",
    "        model.train()\n",
    "        for x_batch, y_batch in train_loader:\n",
    "            x_batch, y_batch = x_batch.to(device), y_batch.to(device)\n",
    "            optimizer.zero_grad()\n",
    "            predictions = model(x_batch)\n",
    "            loss = criterion(predictions, y_batch)\n",
    "            loss.backward()\n",
    "            optimizer.step()\n",
    "            \n",
    "            # Accumulate losses and accuracy\n",
    "            train_loss += loss.item()\n",
    "            train_acc += calculate_accuracy(predictions, y_batch)\n",
    "\n",
    "            # Delete unnecessary variables and clear cache after each batch\n",
    "            del x_batch, y_batch, predictions, loss\n",
    "            torch.cuda.empty_cache()\n",
    "\n",
    "        train_loss /= len(train_loader)\n",
    "        train_acc /= len(train_loader)\n",
    "        train_loss_history.append(train_loss)\n",
    "\n",
    "        # Evaluation phase (test)\n",
    "        with torch.inference_mode():\n",
    "            model.eval()\n",
    "            for x_test_batch, y_test_batch in test_loader:\n",
    "                x_test_batch, y_test_batch = x_test_batch.to(device), y_test_batch.to(device)\n",
    "                test_predictions = model(x_test_batch)\n",
    "                test_loss += criterion(test_predictions, y_test_batch).item()\n",
    "                test_acc += calculate_accuracy(test_predictions, y_test_batch)\n",
    "\n",
    "                # Delete unnecessary variables and clear cache after each batch\n",
    "                del x_test_batch, y_test_batch, test_predictions\n",
    "                torch.cuda.empty_cache()\n",
    "\n",
    "        test_loss /= len(test_loader)\n",
    "        test_acc /= len(test_loader)\n",
    "        test_loss_history.append(test_loss)\n",
    "\n",
    "        print(f\"Epoch: {epoch+1} | Train loss: {train_loss:.4f} | Train acc: {train_acc:.4f} | \"\n",
    "              f\"Test loss: {test_loss:.4f} | Test acc: {test_acc:.4f}\")\n",
    "\n",
    "    return train_loss_history, test_loss_history\n"
   ]
  },
  {
   "cell_type": "markdown",
   "id": "2ca02454",
   "metadata": {},
   "source": [
    "Модель `vgg16` и предобученные веса `IMAGENET1K_V1`. В последствии вывели на экран структуру модели, количество слоев и количество настраиваемых (`requires_grad==True`) параметров модели. \n"
   ]
  },
  {
   "cell_type": "code",
   "execution_count": 5,
   "id": "284779f3",
   "metadata": {
    "execution": {
     "iopub.execute_input": "2024-11-08T09:19:18.358485Z",
     "iopub.status.busy": "2024-11-08T09:19:18.357466Z",
     "iopub.status.idle": "2024-11-08T09:19:33.221056Z",
     "shell.execute_reply": "2024-11-08T09:19:33.219751Z",
     "shell.execute_reply.started": "2024-11-08T09:19:18.358446Z"
    },
    "tags": []
   },
   "outputs": [
    {
     "name": "stderr",
     "output_type": "stream",
     "text": [
      "/usr/local/lib/python3.10/dist-packages/torchvision/models/_utils.py:208: UserWarning: The parameter 'pretrained' is deprecated since 0.13 and may be removed in the future, please use 'weights' instead.\n",
      "  warnings.warn(\n",
      "/usr/local/lib/python3.10/dist-packages/torchvision/models/_utils.py:223: UserWarning: Arguments other than a weight enum or `None` for 'weights' are deprecated since 0.13 and may be removed in the future. The current behavior is equivalent to passing `weights=VGG16_Weights.IMAGENET1K_V1`. You can also use `weights=VGG16_Weights.DEFAULT` to get the most up-to-date weights.\n",
      "  warnings.warn(msg)\n",
      "Downloading: \"https://download.pytorch.org/models/vgg16-397923af.pth\" to /tmp/xdg_cache/torch/hub/checkpoints/vgg16-397923af.pth\n",
      "100%|██████████| 528M/528M [00:04<00:00, 111MB/s]  \n"
     ]
    },
    {
     "data": {
      "text/plain": [
       "VGG(\n",
       "  (features): Sequential(\n",
       "    (0): Conv2d(3, 64, kernel_size=(3, 3), stride=(1, 1), padding=(1, 1))\n",
       "    (1): ReLU(inplace=True)\n",
       "    (2): Conv2d(64, 64, kernel_size=(3, 3), stride=(1, 1), padding=(1, 1))\n",
       "    (3): ReLU(inplace=True)\n",
       "    (4): MaxPool2d(kernel_size=2, stride=2, padding=0, dilation=1, ceil_mode=False)\n",
       "    (5): Conv2d(64, 128, kernel_size=(3, 3), stride=(1, 1), padding=(1, 1))\n",
       "    (6): ReLU(inplace=True)\n",
       "    (7): Conv2d(128, 128, kernel_size=(3, 3), stride=(1, 1), padding=(1, 1))\n",
       "    (8): ReLU(inplace=True)\n",
       "    (9): MaxPool2d(kernel_size=2, stride=2, padding=0, dilation=1, ceil_mode=False)\n",
       "    (10): Conv2d(128, 256, kernel_size=(3, 3), stride=(1, 1), padding=(1, 1))\n",
       "    (11): ReLU(inplace=True)\n",
       "    (12): Conv2d(256, 256, kernel_size=(3, 3), stride=(1, 1), padding=(1, 1))\n",
       "    (13): ReLU(inplace=True)\n",
       "    (14): Conv2d(256, 256, kernel_size=(3, 3), stride=(1, 1), padding=(1, 1))\n",
       "    (15): ReLU(inplace=True)\n",
       "    (16): MaxPool2d(kernel_size=2, stride=2, padding=0, dilation=1, ceil_mode=False)\n",
       "    (17): Conv2d(256, 512, kernel_size=(3, 3), stride=(1, 1), padding=(1, 1))\n",
       "    (18): ReLU(inplace=True)\n",
       "    (19): Conv2d(512, 512, kernel_size=(3, 3), stride=(1, 1), padding=(1, 1))\n",
       "    (20): ReLU(inplace=True)\n",
       "    (21): Conv2d(512, 512, kernel_size=(3, 3), stride=(1, 1), padding=(1, 1))\n",
       "    (22): ReLU(inplace=True)\n",
       "    (23): MaxPool2d(kernel_size=2, stride=2, padding=0, dilation=1, ceil_mode=False)\n",
       "    (24): Conv2d(512, 512, kernel_size=(3, 3), stride=(1, 1), padding=(1, 1))\n",
       "    (25): ReLU(inplace=True)\n",
       "    (26): Conv2d(512, 512, kernel_size=(3, 3), stride=(1, 1), padding=(1, 1))\n",
       "    (27): ReLU(inplace=True)\n",
       "    (28): Conv2d(512, 512, kernel_size=(3, 3), stride=(1, 1), padding=(1, 1))\n",
       "    (29): ReLU(inplace=True)\n",
       "    (30): MaxPool2d(kernel_size=2, stride=2, padding=0, dilation=1, ceil_mode=False)\n",
       "  )\n",
       "  (avgpool): AdaptiveAvgPool2d(output_size=(7, 7))\n",
       "  (classifier): Sequential(\n",
       "    (0): Linear(in_features=25088, out_features=4096, bias=True)\n",
       "    (1): ReLU(inplace=True)\n",
       "    (2): Dropout(p=0.5, inplace=False)\n",
       "    (3): Linear(in_features=4096, out_features=4096, bias=True)\n",
       "    (4): ReLU(inplace=True)\n",
       "    (5): Dropout(p=0.5, inplace=False)\n",
       "    (6): Linear(in_features=4096, out_features=1000, bias=True)\n",
       "  )\n",
       ")"
      ]
     },
     "execution_count": 5,
     "metadata": {},
     "output_type": "execute_result"
    }
   ],
   "source": [
    "from torchvision import models\n",
    "\n",
    "model = models.vgg16(pretrained=True)\n",
    "model"
   ]
  },
  {
   "cell_type": "code",
   "execution_count": 6,
   "id": "7156f5ae",
   "metadata": {
    "execution": {
     "iopub.execute_input": "2024-11-08T09:19:33.224634Z",
     "iopub.status.busy": "2024-11-08T09:19:33.223034Z",
     "iopub.status.idle": "2024-11-08T09:19:33.241674Z",
     "shell.execute_reply": "2024-11-08T09:19:33.240382Z",
     "shell.execute_reply.started": "2024-11-08T09:19:33.224575Z"
    },
    "tags": []
   },
   "outputs": [
    {
     "data": {
      "text/plain": [
       "38"
      ]
     },
     "execution_count": 6,
     "metadata": {},
     "output_type": "execute_result"
    }
   ],
   "source": [
    "num_layers = sum(1 for _ in model.features)  \n",
    "num_layers += sum(1 for _ in model.classifier)\n",
    "num_layers"
   ]
  },
  {
   "cell_type": "code",
   "execution_count": 7,
   "id": "65d1b5a0",
   "metadata": {
    "execution": {
     "iopub.execute_input": "2024-11-08T09:19:33.243482Z",
     "iopub.status.busy": "2024-11-08T09:19:33.242867Z",
     "iopub.status.idle": "2024-11-08T09:19:33.275381Z",
     "shell.execute_reply": "2024-11-08T09:19:33.274170Z",
     "shell.execute_reply.started": "2024-11-08T09:19:33.243446Z"
    },
    "tags": []
   },
   "outputs": [
    {
     "data": {
      "text/plain": [
       "138357544"
      ]
     },
     "execution_count": 7,
     "metadata": {},
     "output_type": "execute_result"
    }
   ],
   "source": [
    "num_trainable_params = sum(p.numel() for p in model.parameters() if p.requires_grad)\n",
    "num_trainable_params"
   ]
  },
  {
   "cell_type": "markdown",
   "id": "5b918e12",
   "metadata": {},
   "source": [
    "датасет `CatBreeds` на основе данных из архива `cat_breeds_4.zip`. \n",
    "\n",
    "К обучающему датасету применили следующее преобразование: привели картинку к размеру 256x256, затем обрезали по центру с размером 224х224, затем перевели изображения в тензор и нормализовали значения интенсивности пикселей (`mean=(0.485, 0.456, 0.406), std=(0.229, 0.224, 0.225)`).\n",
    "\n",
    "К тестовому датасету применили преобразование `VGG16_Weights.IMAGENET1K_V1.transforms`.\n"
   ]
  },
  {
   "cell_type": "code",
   "execution_count": 4,
   "id": "d19e3378",
   "metadata": {
    "execution": {
     "iopub.execute_input": "2024-11-08T09:42:59.260733Z",
     "iopub.status.busy": "2024-11-08T09:42:59.259384Z",
     "iopub.status.idle": "2024-11-08T09:43:07.608092Z",
     "shell.execute_reply": "2024-11-08T09:43:07.606786Z",
     "shell.execute_reply.started": "2024-11-08T09:42:59.260678Z"
    },
    "tags": []
   },
   "outputs": [
    {
     "name": "stderr",
     "output_type": "stream",
     "text": [
      "Extracting: 100%|██████████| 4005/4005 [00:08<00:00, 484.98it/s]\n"
     ]
    },
    {
     "data": {
      "text/plain": [
       "(3200, 800)"
      ]
     },
     "execution_count": 4,
     "metadata": {},
     "output_type": "execute_result"
    }
   ],
   "source": [
    "from torchvision.models import VGG16_Weights\n",
    "import zipfile\n",
    "import os\n",
    "from tqdm import tqdm\n",
    "\n",
    "transform = transforms.Compose([\n",
    "    transforms.Resize((256, 256)), \n",
    "    transforms.CenterCrop(224),\n",
    "    transforms.ToTensor(),\n",
    "    transforms.Normalize(mean=(0.485, 0.456, 0.406), std=(0.229, 0.224, 0.225))  # Нормализация\n",
    "])\n",
    "\n",
    "test_transforms = VGG16_Weights.IMAGENET1K_V1.transforms()\n",
    "\n",
    "zip_path = '/home/jupyter/datasphere/project/cat_breeds_4.zip'\n",
    "extract_path = '/home/jupyter/datasphere/project/'\n",
    "\n",
    "with zipfile.ZipFile(zip_path, 'r') as zip_ref:\n",
    "    for member in tqdm(zip_ref.infolist(), desc=\"Extracting\"):\n",
    "        zip_ref.extract(member, extract_path)\n",
    "dataset_folder = os.path.join(extract_path, 'cat_breeds_4')\n",
    "\n",
    "dataset = datasets.ImageFolder(root=dataset_folder, transform=transform)\n",
    "\n",
    "train_size = int(0.8 * len(dataset))\n",
    "test_size = len(dataset) - train_size\n",
    "train_dataset, test_dataset = random_split(dataset, [train_size, test_size])\n",
    "\n",
    "test_dataset.dataset.transform = test_transforms\n",
    "\n",
    "train_loader = DataLoader(train_dataset, batch_size=32, shuffle=True)\n",
    "test_loader = DataLoader(test_dataset, batch_size=32, shuffle=False)\n",
    "\n",
    "\n",
    "len(train_dataset), len(test_dataset)"
   ]
  },
  {
   "cell_type": "markdown",
   "id": "14ef2afa",
   "metadata": {},
   "source": [
    "Далее замораживаем все веса модели из предыдущего пункта. Заменили последний слой `Linear` классификатора на новый слой, соответствующий задаче. После изменения последнего слоя вывели на экран количество настраиваемых (`requires_grad==True`) параметров модели. Решили задачу, используя модель с замороженными весами и изменнным последним слоем. \n",
    "\n",
    "Далее строим график изменения значения функции потерь на обучающем множестве в зависимости от номера эпохи, графики изменения метрики accuracy на обучающем и тестовом множестве в зависимости от эпохи. Вывели accuracy"
   ]
  },
  {
   "cell_type": "code",
   "execution_count": 9,
   "id": "e55c4d05",
   "metadata": {
    "execution": {
     "iopub.execute_input": "2024-11-08T09:19:43.048583Z",
     "iopub.status.busy": "2024-11-08T09:19:43.047274Z",
     "iopub.status.idle": "2024-11-08T09:19:43.062456Z",
     "shell.execute_reply": "2024-11-08T09:19:43.061294Z",
     "shell.execute_reply.started": "2024-11-08T09:19:43.048507Z"
    }
   },
   "outputs": [],
   "source": [
    "for param in model.parameters(): #замораживаем веса\n",
    "    param.requires_grad = False"
   ]
  },
  {
   "cell_type": "code",
   "execution_count": 10,
   "id": "b1fe6d42",
   "metadata": {
    "execution": {
     "iopub.execute_input": "2024-11-08T09:19:43.855873Z",
     "iopub.status.busy": "2024-11-08T09:19:43.854394Z",
     "iopub.status.idle": "2024-11-08T09:19:43.907607Z",
     "shell.execute_reply": "2024-11-08T09:19:43.906385Z",
     "shell.execute_reply.started": "2024-11-08T09:19:43.855823Z"
    }
   },
   "outputs": [
    {
     "data": {
      "text/plain": [
       "16388"
      ]
     },
     "execution_count": 10,
     "metadata": {},
     "output_type": "execute_result"
    }
   ],
   "source": [
    "model.classifier[6] = nn.Linear(in_features=4096, out_features=4)\n",
    "num_trainable_params = sum(p.numel() for p in model.parameters() if p.requires_grad)\n",
    "num_trainable_params"
   ]
  },
  {
   "cell_type": "code",
   "execution_count": 13,
   "id": "0b33fc40",
   "metadata": {
    "execution": {
     "iopub.execute_input": "2024-11-08T09:20:55.310522Z",
     "iopub.status.busy": "2024-11-08T09:20:55.309022Z",
     "iopub.status.idle": "2024-11-08T09:20:57.709372Z",
     "shell.execute_reply": "2024-11-08T09:20:57.708040Z",
     "shell.execute_reply.started": "2024-11-08T09:20:55.310461Z"
    },
    "tags": []
   },
   "outputs": [
    {
     "name": "stderr",
     "output_type": "stream",
     "text": [
      "/usr/local/lib/python3.10/dist-packages/torchvision/models/_utils.py:208: UserWarning: The parameter 'pretrained' is deprecated since 0.13 and may be removed in the future, please use 'weights' instead.\n",
      "  warnings.warn(\n",
      "/usr/local/lib/python3.10/dist-packages/torchvision/models/_utils.py:223: UserWarning: Arguments other than a weight enum or `None` for 'weights' are deprecated since 0.13 and may be removed in the future. The current behavior is equivalent to passing `weights=VGG16_Weights.IMAGENET1K_V1`. You can also use `weights=VGG16_Weights.DEFAULT` to get the most up-to-date weights.\n",
      "  warnings.warn(msg)\n"
     ]
    }
   ],
   "source": [
    "criterion = nn.CrossEntropyLoss()\n",
    "optimizer = optim.Adam(model.classifier[6].parameters(), lr=0.001)\n",
    "model = models.vgg16(pretrained=True).to(DEVICE)"
   ]
  },
  {
   "cell_type": "code",
   "execution_count": 15,
   "id": "bb41f4d2-80fc-4fc2-af62-04f76b6afbf7",
   "metadata": {
    "execution": {
     "iopub.execute_input": "2024-11-08T09:23:18.639779Z",
     "iopub.status.busy": "2024-11-08T09:23:18.638368Z",
     "iopub.status.idle": "2024-11-08T09:23:18.669129Z",
     "shell.execute_reply": "2024-11-08T09:23:18.667824Z",
     "shell.execute_reply.started": "2024-11-08T09:23:18.639719Z"
    }
   },
   "outputs": [
    {
     "name": "stdout",
     "output_type": "stream",
     "text": [
      "Количество классов: 4\n"
     ]
    }
   ],
   "source": [
    "num_classes = len(train_loader.dataset.dataset.classes)\n",
    "print(\"Количество классов:\", num_classes)\n",
    "model.classifier[6] = nn.Linear(4096, num_classes)\n"
   ]
  },
  {
   "cell_type": "code",
   "execution_count": 17,
   "id": "cbf908a2",
   "metadata": {
    "execution": {
     "iopub.execute_input": "2024-11-08T09:25:34.455678Z",
     "iopub.status.busy": "2024-11-08T09:25:34.453900Z",
     "iopub.status.idle": "2024-11-08T09:31:38.137200Z",
     "shell.execute_reply": "2024-11-08T09:31:38.135876Z",
     "shell.execute_reply.started": "2024-11-08T09:25:34.455633Z"
    },
    "tags": []
   },
   "outputs": [
    {
     "name": "stderr",
     "output_type": "stream",
     "text": [
      " 10%|█         | 1/10 [00:40<06:05, 40.65s/it]"
     ]
    },
    {
     "name": "stdout",
     "output_type": "stream",
     "text": [
      "Epoch: 1 | Train loss: 1.4361 | Train acc: 0.2838 | Test loss: 1.3677 | Test acc: 0.3300\n"
     ]
    },
    {
     "name": "stderr",
     "output_type": "stream",
     "text": [
      " 20%|██        | 2/10 [01:16<05:01, 37.72s/it]"
     ]
    },
    {
     "name": "stdout",
     "output_type": "stream",
     "text": [
      "Epoch: 2 | Train loss: 1.4385 | Train acc: 0.2831 | Test loss: 1.3677 | Test acc: 0.3300\n"
     ]
    },
    {
     "name": "stderr",
     "output_type": "stream",
     "text": [
      " 30%|███       | 3/10 [01:52<04:20, 37.15s/it]"
     ]
    },
    {
     "name": "stdout",
     "output_type": "stream",
     "text": [
      "Epoch: 3 | Train loss: 1.4255 | Train acc: 0.3053 | Test loss: 1.3677 | Test acc: 0.3300\n"
     ]
    },
    {
     "name": "stderr",
     "output_type": "stream",
     "text": [
      " 40%|████      | 4/10 [02:28<03:39, 36.57s/it]"
     ]
    },
    {
     "name": "stdout",
     "output_type": "stream",
     "text": [
      "Epoch: 4 | Train loss: 1.4373 | Train acc: 0.2853 | Test loss: 1.3677 | Test acc: 0.3300\n"
     ]
    },
    {
     "name": "stderr",
     "output_type": "stream",
     "text": [
      " 50%|█████     | 5/10 [03:04<03:01, 36.32s/it]"
     ]
    },
    {
     "name": "stdout",
     "output_type": "stream",
     "text": [
      "Epoch: 5 | Train loss: 1.4254 | Train acc: 0.3056 | Test loss: 1.3677 | Test acc: 0.3300\n"
     ]
    },
    {
     "name": "stderr",
     "output_type": "stream",
     "text": [
      " 60%|██████    | 6/10 [03:40<02:24, 36.22s/it]"
     ]
    },
    {
     "name": "stdout",
     "output_type": "stream",
     "text": [
      "Epoch: 6 | Train loss: 1.4311 | Train acc: 0.2825 | Test loss: 1.3677 | Test acc: 0.3300\n"
     ]
    },
    {
     "name": "stderr",
     "output_type": "stream",
     "text": [
      " 70%|███████   | 7/10 [04:16<01:48, 36.06s/it]"
     ]
    },
    {
     "name": "stdout",
     "output_type": "stream",
     "text": [
      "Epoch: 7 | Train loss: 1.4250 | Train acc: 0.2981 | Test loss: 1.3677 | Test acc: 0.3300\n"
     ]
    },
    {
     "name": "stderr",
     "output_type": "stream",
     "text": [
      " 80%|████████  | 8/10 [04:52<01:12, 36.04s/it]"
     ]
    },
    {
     "name": "stdout",
     "output_type": "stream",
     "text": [
      "Epoch: 8 | Train loss: 1.4305 | Train acc: 0.2938 | Test loss: 1.3677 | Test acc: 0.3300\n"
     ]
    },
    {
     "name": "stderr",
     "output_type": "stream",
     "text": [
      " 90%|█████████ | 9/10 [05:27<00:35, 35.96s/it]"
     ]
    },
    {
     "name": "stdout",
     "output_type": "stream",
     "text": [
      "Epoch: 9 | Train loss: 1.4234 | Train acc: 0.3075 | Test loss: 1.3677 | Test acc: 0.3300\n"
     ]
    },
    {
     "name": "stderr",
     "output_type": "stream",
     "text": [
      "100%|██████████| 10/10 [06:03<00:00, 36.37s/it]"
     ]
    },
    {
     "name": "stdout",
     "output_type": "stream",
     "text": [
      "Epoch: 10 | Train loss: 1.4361 | Train acc: 0.2869 | Test loss: 1.3677 | Test acc: 0.3300\n"
     ]
    },
    {
     "name": "stderr",
     "output_type": "stream",
     "text": [
      "\n"
     ]
    }
   ],
   "source": [
    "model = model.to(DEVICE)\n",
    "train_loss_history, test_loss_history = classification_loop(\n",
    "    train_loader, test_loader, model, criterion, optimizer, 10\n",
    ")"
   ]
  },
  {
   "cell_type": "markdown",
   "id": "9ecc37d5",
   "metadata": {},
   "source": [
    "Заморозим все сверточные слои, кроме последнего. Сравниваем качество полученного решения и решения из предыдущего пунтка, а также время, затраченное на обучения моделей. "
   ]
  },
  {
   "cell_type": "code",
   "execution_count": 21,
   "id": "c37823ea-0a72-4b01-b8c4-318fab4cedd1",
   "metadata": {
    "execution": {
     "iopub.execute_input": "2024-11-08T09:32:18.570840Z",
     "iopub.status.busy": "2024-11-08T09:32:18.569797Z",
     "iopub.status.idle": "2024-11-08T09:32:20.931750Z",
     "shell.execute_reply": "2024-11-08T09:32:20.930514Z",
     "shell.execute_reply.started": "2024-11-08T09:32:18.570786Z"
    },
    "tags": []
   },
   "outputs": [],
   "source": [
    "from torchvision.models import vgg16, VGG16_Weights\n",
    "model = vgg16(weights=VGG16_Weights.IMAGENET1K_V1).to(DEVICE)\n",
    "\n",
    "for name, param in model.features.named_parameters():\n",
    "    param.requires_grad = False \n",
    "    if \"30\" in name or \"31\" in name or \"32\" in name:\n",
    "        param.requires_grad = True\n",
    "        \n",
    "\n",
    "num_classes = len(train_loader.dataset.dataset.classes)\n",
    "model.classifier[6] = nn.Linear(4096, num_classes).to(DEVICE)\n",
    "\n",
    "optimizer = optim.Adam(filter(lambda p: p.requires_grad, model.parameters()), lr=0.0001)"
   ]
  },
  {
   "cell_type": "code",
   "execution_count": 23,
   "id": "56f86f1d-f1ca-4ec5-8b32-64d1d30f2a81",
   "metadata": {
    "execution": {
     "iopub.execute_input": "2024-11-08T09:34:27.421313Z",
     "iopub.status.busy": "2024-11-08T09:34:27.420192Z",
     "iopub.status.idle": "2024-11-08T09:36:18.139505Z",
     "shell.execute_reply": "2024-11-08T09:36:18.138119Z",
     "shell.execute_reply.started": "2024-11-08T09:34:27.421275Z"
    },
    "tags": []
   },
   "outputs": [
    {
     "name": "stderr",
     "output_type": "stream",
     "text": [
      " 25%|██▌       | 1/4 [00:27<01:22, 27.63s/it]"
     ]
    },
    {
     "name": "stdout",
     "output_type": "stream",
     "text": [
      "Epoch: 1 | Train loss: 0.0407 | Train acc: 0.9872 | Test loss: 0.8406 | Test acc: 0.7650\n"
     ]
    },
    {
     "name": "stderr",
     "output_type": "stream",
     "text": [
      " 50%|█████     | 2/4 [00:55<00:55, 27.69s/it]"
     ]
    },
    {
     "name": "stdout",
     "output_type": "stream",
     "text": [
      "Epoch: 2 | Train loss: 0.0223 | Train acc: 0.9912 | Test loss: 0.9562 | Test acc: 0.7875\n"
     ]
    },
    {
     "name": "stderr",
     "output_type": "stream",
     "text": [
      " 75%|███████▌  | 3/4 [01:22<00:27, 27.66s/it]"
     ]
    },
    {
     "name": "stdout",
     "output_type": "stream",
     "text": [
      "Epoch: 3 | Train loss: 0.0294 | Train acc: 0.9900 | Test loss: 1.1981 | Test acc: 0.7675\n"
     ]
    },
    {
     "name": "stderr",
     "output_type": "stream",
     "text": [
      "100%|██████████| 4/4 [01:50<00:00, 27.67s/it]"
     ]
    },
    {
     "name": "stdout",
     "output_type": "stream",
     "text": [
      "Epoch: 4 | Train loss: 0.0188 | Train acc: 0.9956 | Test loss: 1.0064 | Test acc: 0.7963\n"
     ]
    },
    {
     "name": "stderr",
     "output_type": "stream",
     "text": [
      "\n"
     ]
    }
   ],
   "source": [
    "\n",
    "train_loss_history, test_loss_history = classification_loop(\n",
    "    train_loader, test_loader, model, criterion, optimizer, 4\n",
    ")"
   ]
  },
  {
   "cell_type": "code",
   "execution_count": 24,
   "id": "eb017d97-6008-4bcb-8384-bc3b426e978d",
   "metadata": {
    "execution": {
     "iopub.execute_input": "2024-11-08T09:36:48.533534Z",
     "iopub.status.busy": "2024-11-08T09:36:48.532353Z",
     "iopub.status.idle": "2024-11-08T09:36:48.892987Z",
     "shell.execute_reply": "2024-11-08T09:36:48.891663Z",
     "shell.execute_reply.started": "2024-11-08T09:36:48.533491Z"
    }
   },
   "outputs": [
    {
     "data": {
      "text/plain": [
       "<matplotlib.legend.Legend at 0x7f80bd7e9690>"
      ]
     },
     "execution_count": 24,
     "metadata": {},
     "output_type": "execute_result"
    },
    {
     "data": {
      "image/png": "[encoded data removed]",
      "text/plain": [
       "<Figure size 1200x500 with 1 Axes>"
      ]
     },
     "metadata": {},
     "output_type": "display_data"
    }
   ],
   "source": [
    "plt.figure(figsize=(12, 5))\n",
    "\n",
    "plt.subplot(1, 2, 1)\n",
    "plt.plot(train_loss_history, label='Training Loss')\n",
    "plt.plot(test_loss_history, label='Test Loss')\n",
    "plt.xlabel('Epoch')\n",
    "plt.ylabel('Loss')\n",
    "plt.title('Loss by Epoch')\n",
    "plt.legend()"
   ]
  },
  {
   "cell_type": "code",
   "execution_count": 25,
   "id": "5021aa2a-92fb-4abc-9b95-c9bc779e388e",
   "metadata": {
    "execution": {
     "iopub.execute_input": "2024-11-08T09:37:06.421950Z",
     "iopub.status.busy": "2024-11-08T09:37:06.420973Z",
     "iopub.status.idle": "2024-11-08T09:37:36.020954Z",
     "shell.execute_reply": "2024-11-08T09:37:36.019657Z",
     "shell.execute_reply.started": "2024-11-08T09:37:06.421913Z"
    }
   },
   "outputs": [
    {
     "data": {
      "image/png": "[encoded data removed]",
      "text/plain": [
       "<Figure size 640x480 with 1 Axes>"
      ]
     },
     "metadata": {},
     "output_type": "display_data"
    }
   ],
   "source": [
    "import warnings\n",
    "warnings.filterwarnings('ignore')\n",
    "device = \"cuda\" if torch.cuda.is_available() else \"cpu\"\n",
    "train_acc_history = [calculate_accuracy(torch.tensor(model(x_batch.to(device)).detach().cpu()), y_batch)\n",
    "                     for x_batch, y_batch in train_loader]\n",
    "test_acc_history = [calculate_accuracy(torch.tensor(model(x_batch.to(device)).detach().cpu()), y_batch)\n",
    "                    for x_batch, y_batch in test_loader]\n",
    "\n",
    "plt.subplot(1, 2, 2)\n",
    "plt.plot(train_acc_history, label='Training Accuracy')\n",
    "plt.plot(test_acc_history, label='Test Accuracy')\n",
    "plt.xlabel('Epoch')\n",
    "plt.ylabel('Accuracy')\n",
    "plt.title('Accuracy by Epoch')\n",
    "plt.legend()\n",
    "\n",
    "plt.show()"
   ]
  },
  {
   "cell_type": "markdown",
   "id": "39ad15b2",
   "metadata": {},
   "source": [
    "Расширяем обучающий набор данных при помощи преобразований из `torchvision`, изменяющих изображение (повороты, изменение интенсивности пикселей, обрезание и т.д.). При оценке модели на тестовой выборке данные преобразования применяться не должны. \n",
    "Модель создается заново"
   ]
  },
  {
   "cell_type": "code",
   "execution_count": 6,
   "id": "b182df2b-36a4-4513-bf79-ec2f165368f2",
   "metadata": {
    "execution": {
     "iopub.execute_input": "2024-11-08T09:43:26.984708Z",
     "iopub.status.busy": "2024-11-08T09:43:26.983313Z",
     "iopub.status.idle": "2024-11-08T09:43:41.173383Z",
     "shell.execute_reply": "2024-11-08T09:43:41.172037Z",
     "shell.execute_reply.started": "2024-11-08T09:43:26.984656Z"
    },
    "tags": []
   },
   "outputs": [
    {
     "name": "stderr",
     "output_type": "stream",
     "text": [
      "Downloading: \"https://download.pytorch.org/models/vgg16-397923af.pth\" to /tmp/xdg_cache/torch/hub/checkpoints/vgg16-397923af.pth\n",
      "100%|██████████| 528M/528M [00:03<00:00, 144MB/s]  \n"
     ]
    }
   ],
   "source": [
    "from torchvision.models import vgg16, VGG16_Weights\n",
    "model = vgg16(weights=VGG16_Weights.IMAGENET1K_V1).to(DEVICE)\n",
    "\n",
    "for name, param in model.named_parameters():\n",
    "    param.requires_grad = False\n",
    "    \n",
    "for name, param in list(model.features.named_parameters())[-8:]:  \n",
    "    param.requires_grad = True\n",
    "    \n",
    "for name, param in model.classifier.named_parameters():\n",
    "    param.requires_grad = True\n",
    "    \n",
    "num_classes = len(train_loader.dataset.dataset.classes)\n",
    "model.classifier[6] = nn.Linear(4096, num_classes).to(DEVICE)\n"
   ]
  },
  {
   "cell_type": "code",
   "execution_count": 7,
   "id": "c478169a-207a-4f67-94c9-7df7ce23190e",
   "metadata": {
    "execution": {
     "iopub.execute_input": "2024-11-08T09:43:41.175960Z",
     "iopub.status.busy": "2024-11-08T09:43:41.175003Z",
     "iopub.status.idle": "2024-11-08T09:43:41.223890Z",
     "shell.execute_reply": "2024-11-08T09:43:41.222474Z",
     "shell.execute_reply.started": "2024-11-08T09:43:41.175911Z"
    },
    "tags": []
   },
   "outputs": [],
   "source": [
    "transform = transforms.Compose([\n",
    "    transforms.RandomResizedCrop(224),\n",
    "    transforms.RandomHorizontalFlip(),\n",
    "    transforms.RandomRotation(15),\n",
    "    transforms.ColorJitter(brightness=0.3, contrast=0.3, saturation=0.3, hue=0.1),\n",
    "    transforms.ToTensor(),\n",
    "    transforms.Normalize(mean=(0.485, 0.456, 0.406), std=(0.229, 0.224, 0.225))\n",
    "])\n",
    "\n",
    "test_transforms = VGG16_Weights.IMAGENET1K_V1.transforms()\n",
    "dataset = datasets.ImageFolder(root=dataset_folder, transform=transform)\n",
    "\n",
    "train_size = int(0.8 * len(dataset))\n",
    "test_size = len(dataset) - train_size\n",
    "train_dataset, test_dataset = random_split(dataset, [train_size, test_size])\n",
    "\n",
    "test_dataset.dataset.transform = test_transforms\n",
    "\n",
    "train_loader = DataLoader(train_dataset, batch_size=32, shuffle=True)\n",
    "test_loader = DataLoader(test_dataset, batch_size=32, shuffle=False)\n"
   ]
  },
  {
   "cell_type": "code",
   "execution_count": 8,
   "id": "9a386e17-cddd-48ee-8c80-7e5951fdc033",
   "metadata": {
    "execution": {
     "iopub.execute_input": "2024-11-08T09:44:04.441264Z",
     "iopub.status.busy": "2024-11-08T09:44:04.439923Z",
     "iopub.status.idle": "2024-11-08T09:44:04.485142Z",
     "shell.execute_reply": "2024-11-08T09:44:04.483758Z",
     "shell.execute_reply.started": "2024-11-08T09:44:04.441207Z"
    }
   },
   "outputs": [],
   "source": [
    "criterion = nn.CrossEntropyLoss()\n",
    "optimizer = optim.Adam(filter(lambda p: p.requires_grad, model.parameters()), lr=0.0001)\n"
   ]
  },
  {
   "cell_type": "code",
   "execution_count": null,
   "id": "b64d0bf3-9906-45b6-8f81-2f9da97adc07",
   "metadata": {
    "execution": {
     "iopub.execute_input": "2024-11-08T09:44:18.930451Z",
     "iopub.status.busy": "2024-11-08T09:44:18.929290Z"
    }
   },
   "outputs": [
    {
     "name": "stderr",
     "output_type": "stream",
     "text": [
      " 25%|██▌       | 1/4 [00:34<01:43, 34.51s/it]"
     ]
    },
    {
     "name": "stdout",
     "output_type": "stream",
     "text": [
      "Epoch: 1 | Train loss: 0.6347 | Train acc: 0.7406 | Test loss: 0.4653 | Test acc: 0.8213\n"
     ]
    },
    {
     "name": "stderr",
     "output_type": "stream",
     "text": [
      " 50%|█████     | 2/4 [01:03<01:02, 31.34s/it]"
     ]
    },
    {
     "name": "stdout",
     "output_type": "stream",
     "text": [
      "Epoch: 2 | Train loss: 0.2969 | Train acc: 0.8781 | Test loss: 0.5181 | Test acc: 0.8125\n"
     ]
    }
   ],
   "source": [
    "\n",
    "train_loss_history, test_loss_history = classification_loop(\n",
    "    train_loader, test_loader, model, criterion, optimizer, 4\n",
    ")"
   ]
  }
 ],
 "metadata": {
  "kernelspec": {
   "display_name": "Python 3 (ipykernel)",
   "language": "python",
   "name": "python3"
  },
  "language_info": {
   "codemirror_mode": {
    "name": "ipython",
    "version": 3
   },
   "file_extension": ".py",
   "mimetype": "text/x-python",
   "name": "python",
   "nbconvert_exporter": "python",
   "pygments_lexer": "ipython3",
   "version": "3.9.13"
  }
 },
 "nbformat": 4,
 "nbformat_minor": 5
}
